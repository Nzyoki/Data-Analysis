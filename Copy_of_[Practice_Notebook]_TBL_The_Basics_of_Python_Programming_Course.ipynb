{
  "nbformat": 4,
  "nbformat_minor": 0,
  "metadata": {
    "colab": {
      "provenance": [],
      "collapsed_sections": [
        "pmOXVO2NNaXt",
        "wj2OWQP9OEnw",
        "x-9Uste1OHEV",
        "Ox_suF1SOQwB",
        "L_y4stJqOQwE",
        "P9S1Lmc7OS7P",
        "ZIShblawOS7R",
        "-7UcpDr3OVXk",
        "7cL_JJF4OVXm",
        "aATwq65JOVXo",
        "hv1VmtAuOVXp",
        "rm58UKj2OVXq",
        "6poEvd5rOVXq",
        "vsH2FYIQOVXr",
        "jPXJhdLUObYY",
        "lr66eigKObYZ",
        "JJVRFAJYObYa",
        "dX4GKtraObYa",
        "3SjAEDq9ObYb",
        "AQwBkaE7ObYb",
        "i-lJZS6hObYc",
        "G1AK25j1QoB4",
        "ATH6_uceQoB7",
        "IC-TvBv8QtWe",
        "rswVeyvGQtW8",
        "xI8z-S9wOc7v",
        "xCJ8UcZrOc7w",
        "u2p9MpEHOc7x",
        "mAsIT9GfOc7x",
        "1teuanugOc7y",
        "Y74_0Ub0Oc7z",
        "bbMD5EXNOc72",
        "V1Ai8L6qR3k0",
        "IN0r9fEsR3k2",
        "05b3sIDvOegw",
        "fTPR8kxrOegy",
        "uSV7S5soOegz",
        "rD_CgY0lOegz",
        "be_lt_DCOeg0",
        "GdYgA0DPOeg1",
        "vz_VovYMOeg2",
        "Xo-OcniDSY9c",
        "XIRMEP_sSY95",
        "_cDDKz4kSaOz",
        "ftboAG83SaPQ",
        "goWjyEe7OgDI",
        "Dwfzi8kROgDJ",
        "fPpQe6LjOgDL",
        "jzF75kTOOgDL",
        "qYfR0SZKOgDM",
        "jsuPAFHiOgDN",
        "bugHYZCgOgDO",
        "CnQCgaUJS3HQ",
        "F_qQre1QS3Hr",
        "_qqOzzhoOhlF",
        "x9TF-pHqOhlG",
        "IbFCKM6iOhlH",
        "jbmcnAhjOhlH"
      ],
      "include_colab_link": true
    },
    "kernelspec": {
      "name": "python3",
      "display_name": "Python 3"
    },
    "language_info": {
      "name": "python"
    }
  },
  "cells": [
    {
      "cell_type": "markdown",
      "metadata": {
        "id": "view-in-github",
        "colab_type": "text"
      },
      "source": [
        "<a href=\"https://colab.research.google.com/github/Nzyoki/Data-Analysis/blob/main/Copy_of_%5BPractice_Notebook%5D_TBL_The_Basics_of_Python_Programming_Course.ipynb\" target=\"_parent\"><img src=\"https://colab.research.google.com/assets/colab-badge.svg\" alt=\"Open In Colab\"/></a>"
      ]
    },
    {
      "cell_type": "markdown",
      "source": [
        "# [Practice Notebook] TBL: The Basics of Python Programming Course\n",
        "\n",
        "1.   List item\n",
        "2.   List item\n",
        "\n"
      ],
      "metadata": {
        "id": "nW_93CfoNZS2"
      }
    },
    {
      "cell_type": "markdown",
      "source": [
        "## 1. Introduction to Python Syntax"
      ],
      "metadata": {
        "id": "pmOXVO2NNaXt"
      }
    },
    {
      "cell_type": "markdown",
      "source": [
        "### Example 1: Variables and Data types"
      ],
      "metadata": {
        "id": "wj2OWQP9OEnw"
      }
    },
    {
      "cell_type": "markdown",
      "source": [
        "Variables in Python are used to store data values. Data types specify the type of data that a variable can hold, such as integers, strings, or lists. Understanding variables and data types is crucial in programming as it allows us to manipulate and work with different types of data efficiently.\n",
        "\n"
      ],
      "metadata": {
        "id": "Jtm5X8RoU9mp"
      }
    },
    {
      "cell_type": "code",
      "execution_count": null,
      "metadata": {
        "id": "41aoUo8KLxnG"
      },
      "outputs": [],
      "source": [
        "# Creating variables of different data types\n",
        "number = 10\n",
        "decimal = 3.14\n",
        "text = \"Hello, World!\"\n",
        "is_true = True\n",
        "my_list = [1, 2, 3, 4, 5]"
      ]
    },
    {
      "cell_type": "markdown",
      "source": [
        "**Explanation**: We create variables of different data types: an integer, a string, a boolean, and a list. We then print out each variable to display their values. The output will be: 10 John True [85, 90, 88]\n",
        "\n"
      ],
      "metadata": {
        "id": "Xhclq6q5VFlW"
      }
    },
    {
      "cell_type": "code",
      "source": [
        "print(text)"
      ],
      "metadata": {
        "colab": {
          "base_uri": "https://localhost:8080/"
        },
        "id": "2XOHvmEzCeEp",
        "outputId": "71bd19dc-8446-4e10-dcd2-1c1e62057dcb"
      },
      "execution_count": null,
      "outputs": [
        {
          "output_type": "stream",
          "name": "stdout",
          "text": [
            "Hello, World!\n"
          ]
        }
      ]
    },
    {
      "cell_type": "markdown",
      "source": [
        "#### <font color=\"green\">Challenge</font>"
      ],
      "metadata": {
        "id": "x-9Uste1OHEV"
      }
    },
    {
      "cell_type": "markdown",
      "source": [
        "Create a variable called 'total_sales' and assign it the value of 5000. Then, create a variable called 'store_name' and assign it the value 'Best Deals'."
      ],
      "metadata": {
        "id": "3ZUaAbaDVQVq"
      }
    },
    {
      "cell_type": "code",
      "source": [
        "# Write your code here\n",
        "total_sales = 5000\n",
        "store_name = \"Best Deals\""
      ],
      "metadata": {
        "id": "xYvtgylOVRSV"
      },
      "execution_count": null,
      "outputs": []
    },
    {
      "cell_type": "markdown",
      "source": [
        "### Example 2: Print Statements"
      ],
      "metadata": {
        "id": "Ox_suF1SOQwB"
      }
    },
    {
      "cell_type": "markdown",
      "source": [
        "Print statements in Python allow us to display output to the console. This is useful for debugging, providing feedback to the user, and monitoring the progress of our code execution.\n",
        "\n"
      ],
      "metadata": {
        "id": "1MY8452DVcs4"
      }
    },
    {
      "cell_type": "code",
      "execution_count": null,
      "metadata": {
        "id": "KeoiiwHmOQwD",
        "colab": {
          "base_uri": "https://localhost:8080/"
        },
        "outputId": "bc578e78-d7fa-433f-baac-5b966038cf7b"
      },
      "outputs": [
        {
          "output_type": "stream",
          "name": "stdout",
          "text": [
            "10\n",
            "3.14\n",
            "Hello, World!\n",
            "True\n",
            "[1, 2, 3, 4, 5]\n"
          ]
        }
      ],
      "source": [
        "# Printing out the variables\n",
        "print(number)\n",
        "print(decimal)\n",
        "print(text)\n",
        "print(is_true)\n",
        "print(my_list)"
      ]
    },
    {
      "cell_type": "markdown",
      "source": [
        "Explanation: We print out each variable we had created to display their values.  \n",
        "\n"
      ],
      "metadata": {
        "id": "-XVzi1M1VppW"
      }
    },
    {
      "cell_type": "markdown",
      "source": [
        "#### <font color=\"green\">Challenge</font>"
      ],
      "metadata": {
        "id": "L_y4stJqOQwE"
      }
    },
    {
      "cell_type": "markdown",
      "source": [
        "Create a simple Python program that prints out the message 'Welcome to our store!' when executed.\n"
      ],
      "metadata": {
        "id": "p06eB_qLVgHX"
      }
    },
    {
      "cell_type": "code",
      "source": [
        "# Write your code here\n",
        "print(\"Welcome to our store!\")"
      ],
      "metadata": {
        "id": "vN7-NPYWVgvx",
        "colab": {
          "base_uri": "https://localhost:8080/"
        },
        "outputId": "3a933ba0-6f4b-4799-a873-03e04e5081d5"
      },
      "execution_count": null,
      "outputs": [
        {
          "output_type": "stream",
          "name": "stdout",
          "text": [
            "Welcome to our store!\n"
          ]
        }
      ]
    },
    {
      "cell_type": "markdown",
      "source": [
        "### Example 3: f-Strings"
      ],
      "metadata": {
        "id": "P9S1Lmc7OS7P"
      }
    },
    {
      "cell_type": "markdown",
      "source": [
        "F strings in Python allow us to easily format strings by embedding expressions inside curly braces {}. This makes it easier to insert variables and expressions into strings without having to use concatenation or string formatting methods like % or .format()."
      ],
      "metadata": {
        "id": "4JjOQSgeV0T6"
      }
    },
    {
      "cell_type": "code",
      "execution_count": null,
      "metadata": {
        "id": "SHOMep43OS7Q",
        "colab": {
          "base_uri": "https://localhost:8080/"
        },
        "outputId": "448a7aa8-22fb-4c76-ba32-b0f4cf26f123"
      },
      "outputs": [
        {
          "output_type": "stream",
          "name": "stdout",
          "text": [
            "Hello Alice, you are 30.63 years old.\n"
          ]
        }
      ],
      "source": [
        "# Using F Strings to create a personalized message\n",
        "name = \"Alice\"\n",
        "age = 30.63\n",
        "\n",
        "message = \"Hello %s, you are %.2f years old.\" %(name, age)\n",
        "print(message)"
      ]
    },
    {
      "cell_type": "markdown",
      "source": [
        "**Explanation**: We assign the variables \"name\" and \"age\" with the values \"Alice\" and 30 respectively. We then use an f string to create a personalized message by inserting these variables into the string. When we print out the message, it outputs \"Hello Alice, you are 30 years old.\n",
        "\n"
      ],
      "metadata": {
        "id": "8cKXLyRCV3Uh"
      }
    },
    {
      "cell_type": "markdown",
      "source": [
        "#### <font color=\"green\">Challenge</font>"
      ],
      "metadata": {
        "id": "ZIShblawOS7R"
      }
    },
    {
      "cell_type": "markdown",
      "source": [
        "Create a personalized message using F Strings with the following variables: name = 'Bob', age = 25, city = 'New York'"
      ],
      "metadata": {
        "id": "c0TAk-FcV7Oj"
      }
    },
    {
      "cell_type": "code",
      "source": [
        "# Write your code here\n",
        "name = \"Bob\"\n",
        "age = 25\n",
        "city = \"New York\"\n",
        "message = f\"My name is {name} aged {age} and I live in {city}\"\n",
        "print(message)"
      ],
      "metadata": {
        "id": "WLlLiLnWV79B",
        "colab": {
          "base_uri": "https://localhost:8080/"
        },
        "outputId": "5b94faba-1600-4a5f-97e5-11756ef296b7"
      },
      "execution_count": null,
      "outputs": [
        {
          "output_type": "stream",
          "name": "stdout",
          "text": [
            "My name is Bob aged 25 and I live in New York\n"
          ]
        }
      ]
    },
    {
      "cell_type": "markdown",
      "source": [
        "## 2. Arithmetic Operators"
      ],
      "metadata": {
        "id": "-7UcpDr3OVXk"
      }
    },
    {
      "cell_type": "markdown",
      "source": [
        "### Example 1: Addition and Substraction"
      ],
      "metadata": {
        "id": "7cL_JJF4OVXm"
      }
    },
    {
      "cell_type": "markdown",
      "source": [
        "Arithmetic operators in Python are symbols used to perform mathematical operations. The addition operator (+) is used to add two or more numbers together, while the subtraction operator (-) is used to subtract one number from another. These operators are essential for performing basic arithmetic calculations in Python.\n",
        "\n"
      ],
      "metadata": {
        "id": "8kCbdmQ8WTnx"
      }
    },
    {
      "cell_type": "code",
      "execution_count": null,
      "metadata": {
        "id": "2Hbu7YWAOVXo",
        "colab": {
          "base_uri": "https://localhost:8080/"
        },
        "outputId": "fdb2119e-a294-4535-db45-3b3740a5ef92"
      },
      "outputs": [
        {
          "output_type": "stream",
          "name": "stdout",
          "text": [
            "Addition result: 15\n",
            "Subtraction result: 5\n"
          ]
        }
      ],
      "source": [
        "# Addition\n",
        "num1 = 10\n",
        "num2 = 5\n",
        "result_addition = num1 + num2\n",
        "print(\"Addition result:\", result_addition)\n",
        "\n",
        "# Subtraction\n",
        "num3 = 10\n",
        "num4 = 5\n",
        "result_subtraction = num3 - num4\n",
        "print(\"Subtraction result:\", result_subtraction)"
      ]
    },
    {
      "cell_type": "markdown",
      "source": [
        "**Explanation**: We perform addition and subtraction operations on two sets of numbers. We assign values to variables num1, num2, num3, and num4. We then use the addition operator (+) to add num1 and num2, and the subtraction operator (-) to subtract num4 from num3. The results are stored in result_addition and result_subtraction variables respectively. We print out the results of the addition and subtraction operations. The output will be: Addition result: 15 Subtraction result: 5\n",
        "\n"
      ],
      "metadata": {
        "id": "lrTEC3duWWuZ"
      }
    },
    {
      "cell_type": "markdown",
      "source": [
        "#### <font color=\"green\">Challenge</font>"
      ],
      "metadata": {
        "id": "aATwq65JOVXo"
      }
    },
    {
      "cell_type": "markdown",
      "source": [
        "A customer purchased 3 items from the store and wants to know the total cost. The prices of the items are $10, $15, and $20. Calculate the total cost by adding the prices of the items together."
      ],
      "metadata": {
        "id": "edCDilwDWagF"
      }
    },
    {
      "cell_type": "code",
      "source": [
        "# Write your code here\n"
      ],
      "metadata": {
        "id": "GvAVFE0VWe00"
      },
      "execution_count": null,
      "outputs": []
    },
    {
      "cell_type": "markdown",
      "source": [
        "### Example 2: Multiplication and Division"
      ],
      "metadata": {
        "id": "hv1VmtAuOVXp"
      }
    },
    {
      "cell_type": "markdown",
      "source": [
        "Using variables in multiplication and division operations allows us to store and manipulate numerical values efficiently. We can assign values to variables and then perform multiplication and division operations on these variables."
      ],
      "metadata": {
        "id": "yRp1OPCOWs-6"
      }
    },
    {
      "cell_type": "code",
      "execution_count": null,
      "metadata": {
        "id": "waMw71RbOVXp",
        "colab": {
          "base_uri": "https://localhost:8080/"
        },
        "outputId": "07d4cd90-f3eb-4e24-a947-bbd2e133da51"
      },
      "outputs": [
        {
          "output_type": "stream",
          "name": "stdout",
          "text": [
            "Multiplication result: 50\n",
            "Division result: 2\n"
          ]
        }
      ],
      "source": [
        "# Define variables\n",
        "num1 = 10\n",
        "num2 = 5\n",
        "\n",
        "# Perform multiplication operation using variables\n",
        "result_mult = num1 * num2\n",
        "print(\"Multiplication result:\", result_mult)\n",
        "\n",
        "# Perform division operation using variables\n",
        "result_div = num1 / num2\n",
        "print(\"Division result: %.0f\" %(result_div))"
      ]
    },
    {
      "cell_type": "markdown",
      "source": [
        "**Explanation**: We define variables num1 and num2 with values 10 and 5 respectively. We then perform multiplication operation using these variables and store the result in result_mult. We print out the multiplication result which is 50. Next, we perform division operation using the variables num1 and num2 and store the result in result_div. We print out the division result which is 2.0.\n",
        "\n"
      ],
      "metadata": {
        "id": "kqN5GlncWw2C"
      }
    },
    {
      "cell_type": "markdown",
      "source": [
        "#### <font color=\"green\">Challenge</font>"
      ],
      "metadata": {
        "id": "rm58UKj2OVXq"
      }
    },
    {
      "cell_type": "markdown",
      "source": [
        "A store sells two types of products: Product A and Product B. The price of Product A is `$10` and the price of Product B is `$5`. Calculate the total cost of purchasing 3 units of Product A and 2 units of Product B using variables and multiplication operations. Multiply the prices by the respective quantities of each product to calculate the total cost for each product. Add the total costs together to get the final total cost."
      ],
      "metadata": {
        "id": "B7zwgXNWW1mI"
      }
    },
    {
      "cell_type": "code",
      "source": [
        "# Write your code here\n"
      ],
      "metadata": {
        "id": "SxDS7lkmW1FR"
      },
      "execution_count": null,
      "outputs": []
    },
    {
      "cell_type": "markdown",
      "source": [
        "### Example 3: Modulus and Exponents"
      ],
      "metadata": {
        "id": "6poEvd5rOVXq"
      }
    },
    {
      "cell_type": "markdown",
      "source": [
        "Modulus and exponents are arithmetic operators in Python that allow us to perform specific mathematical operations on numbers. The modulus operator (%) returns the remainder of a division operation, while the exponent operator (**) raises a number to a power.\n",
        "\n"
      ],
      "metadata": {
        "id": "Brue1rNQXPRO"
      }
    },
    {
      "cell_type": "code",
      "execution_count": null,
      "metadata": {
        "id": "NOjRNFK1OVXr",
        "colab": {
          "base_uri": "https://localhost:8080/"
        },
        "outputId": "be9c3299-c2c9-4ee5-cc8c-9f2cdf87c9e3"
      },
      "outputs": [
        {
          "output_type": "stream",
          "name": "stdout",
          "text": [
            "0\n",
            "1\n"
          ]
        }
      ],
      "source": [
        "# Modulus operator example\n",
        "num1 = 10\n",
        "num2 = 2\n",
        "result_modulus = num1 % num2\n",
        "print(result_modulus)\n",
        "\n",
        "# Exponent operator example\n",
        "base = 1\n",
        "exponent = 2\n",
        "result_exponent = base ** exponent\n",
        "print(result_exponent)"
      ]
    },
    {
      "cell_type": "markdown",
      "source": [
        "**Explanation**: We assign the integer values 10 and 3 to variables num1 and num2 respectively. We then use the modulus operator (%) to find the remainder when num1 is divided by num2, storing the result in the variable result_modulus. When we print out result_modulus, the output is 1. We assign the integer values 2 and 3 to variables base and exponent respectively. We then use the exponent operator (**) to raise base to the power of exponent, storing the result in the variable result_exponent. When we print out result_exponent, the output is 8.\n",
        "\n"
      ],
      "metadata": {
        "id": "xbJsTXKgXUL6"
      }
    },
    {
      "cell_type": "markdown",
      "source": [
        "#### <font color=\"green\">Challenge</font>"
      ],
      "metadata": {
        "id": "vsH2FYIQOVXr"
      }
    },
    {
      "cell_type": "markdown",
      "source": [
        "Calculate the remainder when 25 is divided by 7 using the modulus operator. Then, raise 5 to the power of 3 using the exponent operator.\n"
      ],
      "metadata": {
        "id": "yC1Q03VXXXmo"
      }
    },
    {
      "cell_type": "code",
      "source": [
        "# Write your code here\n"
      ],
      "metadata": {
        "id": "OCPpphghXYV6"
      },
      "execution_count": null,
      "outputs": []
    },
    {
      "cell_type": "markdown",
      "source": [
        "## 3. Data Types"
      ],
      "metadata": {
        "id": "jPXJhdLUObYY"
      }
    },
    {
      "cell_type": "markdown",
      "source": [
        "### Example 1: Data Types"
      ],
      "metadata": {
        "id": "lr66eigKObYZ"
      }
    },
    {
      "cell_type": "markdown",
      "source": [
        "Data types in Python refer to the classification of data items that determine the kind of operations that can be performed on them. Understanding data types is important as it helps us work with different types of data and perform appropriate operations on them.\n",
        "\n"
      ],
      "metadata": {
        "id": "fR8qG7kIX5tY"
      }
    },
    {
      "cell_type": "code",
      "execution_count": null,
      "metadata": {
        "id": "STMn_5fBObYZ"
      },
      "outputs": [],
      "source": [
        "# Integer data type\n",
        "num1 = 10\n",
        "\n",
        "# Float data type\n",
        "num2 = 3.14\n",
        "\n",
        "# String data type\n",
        "name = \"John Doe\"\n",
        "\n",
        "# Boolean data type\n",
        "is_student = True\n",
        "\n",
        "# List data type\n",
        "fruits = [\"apple\", \"banana\", \"orange\"]\n",
        "\n",
        "# Dictionary data type\n",
        "person = {\"name\": \"Alice\", \"age\": 30}\n",
        "\n",
        "# Tuple data type\n",
        "coordinates = (10, 20)\n",
        "\n",
        "# Set data type\n",
        "unique_numbers = {1, 2, 3, 4, 5}"
      ]
    },
    {
      "cell_type": "markdown",
      "source": [
        "**Explanation**: We define variables with different data types such as integer, float, string, boolean, list, dictionary, tuple, and set. We assign values to these variables accordingly. When we print out these variables, we see the values stored in them. For example, when we print out \"num1\", we see the output as 10 which is an integer. Similarly, we see the values of other variables like \"num2\", \"name\", \"is_student\", \"fruits\", \"person\", \"coordinates\", and \"unique_numbers\" based on their respective data types.\n",
        "\n"
      ],
      "metadata": {
        "id": "E6ytGfMjYAaj"
      }
    },
    {
      "cell_type": "markdown",
      "source": [
        "#### <font color=\"green\">Challenge</font>"
      ],
      "metadata": {
        "id": "JJVRFAJYObYa"
      }
    },
    {
      "cell_type": "markdown",
      "source": [
        "Create a variable to store the number of items in stock at a store and another variable to store the price of each item. Calculate the total value of the items in stock.\n",
        "You can use the integer data type for the number of items and the float data type for the price of each item. Multiply the number of items by the price of each item to get the total value."
      ],
      "metadata": {
        "id": "McLK9QvwYDVl"
      }
    },
    {
      "cell_type": "code",
      "source": [
        "# Write your code here\n"
      ],
      "metadata": {
        "id": "y8GpuS3wYEVK"
      },
      "execution_count": null,
      "outputs": []
    },
    {
      "cell_type": "markdown",
      "source": [
        "### Example 2: Data Type Conversion"
      ],
      "metadata": {
        "id": "dX4GKtraObYa"
      }
    },
    {
      "cell_type": "markdown",
      "source": [
        "Data type conversion in Python allows us to change the type of a variable from one data type to another. This is important because different data types have different properties and behaviors, and sometimes we need to convert a variable to a different data type in order to perform certain operations or comparisons. We can convert a variable from one data type to another using built-in functions like int(), float(), str(), etc. For example, if we have a variable x that is a string containing a number, we can convert it to an integer using the int() function. This allows us to perform mathematical operations on the variable as if it were a number."
      ],
      "metadata": {
        "id": "q9KOmCttYYIo"
      }
    },
    {
      "cell_type": "code",
      "execution_count": null,
      "metadata": {
        "id": "ceZSJL05ObYa"
      },
      "outputs": [],
      "source": [
        "# Convert a string to an integer\n",
        "x = \"10\"\n",
        "x_int = int(x)\n",
        "print(x_int)\n",
        "\n",
        "# Convert an integer to a float\n",
        "y = 5\n",
        "y_float = float(y)\n",
        "print(y_float)\n",
        "\n",
        "# Convert a float to a string\n",
        "z = 3.14\n",
        "z_str = str(z)\n",
        "print(z_str)"
      ]
    },
    {
      "cell_type": "markdown",
      "source": [
        "**Explanation**: We convert a string \"10\" to an integer using the int() function and store it in a variable x_int. When we print x_int, the output is 10. We convert an integer 5 to a float using the float() function and store it in a variable y_float. When we print y_float, the output is 5.0. We convert a float 3.14 to a string using the str() function and store it in a variable z_str. When we print z_str, the output is \"3.14\".\n",
        "\n"
      ],
      "metadata": {
        "id": "Y2RIG5y6YbBc"
      }
    },
    {
      "cell_type": "markdown",
      "source": [
        "#### <font color=\"green\">Challenge</font>"
      ],
      "metadata": {
        "id": "3SjAEDq9ObYb"
      }
    },
    {
      "cell_type": "markdown",
      "source": [
        "Convert the string '15' to an integer and then convert the integer to a float."
      ],
      "metadata": {
        "id": "hPEWYEwhYjQV"
      }
    },
    {
      "cell_type": "code",
      "source": [
        "# Write your code here\n"
      ],
      "metadata": {
        "id": "FXboM825Yik6"
      },
      "execution_count": null,
      "outputs": []
    },
    {
      "cell_type": "markdown",
      "source": [
        "### Example 3: Lists"
      ],
      "metadata": {
        "id": "AQwBkaE7ObYb"
      }
    },
    {
      "cell_type": "markdown",
      "source": [
        "Working with lists in Python allows us to store multiple items in a single variable. Lists are mutable, meaning we can change, add, and remove elements from them. They are ordered and allow for duplicate elements. Lists are versatile and commonly used in Python for storing and manipulating data.\n",
        "\n"
      ],
      "metadata": {
        "id": "on8q0qctZgaw"
      }
    },
    {
      "cell_type": "code",
      "execution_count": null,
      "metadata": {
        "id": "1V2rBT1XObYc",
        "colab": {
          "base_uri": "https://localhost:8080/"
        },
        "outputId": "fce455d4-d9fb-4765-863e-4d57cbac3381"
      },
      "outputs": [
        {
          "output_type": "stream",
          "name": "stdout",
          "text": [
            "['apple', 'banana', 'orange', 'grape']\n",
            "['apple', 'banana', 'orange', 'grape', 'kiwi']\n",
            "['apple', 'banana', 'grape', 'kiwi']\n"
          ]
        }
      ],
      "source": [
        "# Creating a list of fruits\n",
        "fruits = [\"apple\", \"banana\", \"orange\", \"grape\"]\n",
        "\n",
        "# Printing the list\n",
        "print(fruits)\n",
        "\n",
        "# Adding a new fruit to the list\n",
        "fruits.append(\"kiwi\")\n",
        "\n",
        "# Printing the updated list\n",
        "print(fruits)\n",
        "\n",
        "# Removing a fruit from the list\n",
        "fruits.remove(\"orange\")\n",
        "\n",
        "# Printing the updated list\n",
        "print(fruits)"
      ]
    },
    {
      "cell_type": "markdown",
      "source": [
        "**Explanation**: We create a list of fruits and store it in the variable \"fruits\". We then print out the list of fruits. Next, we add a new fruit \"kiwi\" to the list using the append() method. We print out the updated list of fruits. We remove the fruit \"orange\" from the list using the remove() method. Finally, we print out the list of fruits after removing \"orange\".\n",
        "\n"
      ],
      "metadata": {
        "id": "4PFnb69RZjx4"
      }
    },
    {
      "cell_type": "markdown",
      "source": [
        "#### <font color=\"green\">Challenge</font>"
      ],
      "metadata": {
        "id": "i-lJZS6hObYc"
      }
    },
    {
      "cell_type": "markdown",
      "source": [
        "Create a list of colors including 'red', 'blue', 'green', and 'yellow'. Add 'purple' to the list and print the updated list. Then, remove 'green' from the list and print the final list.\n"
      ],
      "metadata": {
        "id": "8Fg4th5eZobo"
      }
    },
    {
      "cell_type": "code",
      "source": [
        "# Write your code here\n"
      ],
      "metadata": {
        "id": "B5MHX-tiZpEW"
      },
      "execution_count": null,
      "outputs": []
    },
    {
      "cell_type": "markdown",
      "source": [
        "### Example 4: Dictionaries"
      ],
      "metadata": {
        "id": "G1AK25j1QoB4"
      }
    },
    {
      "cell_type": "markdown",
      "source": [
        "Dictionaries in Python are a collection of key-value pairs. Each key is connected to a value, similar to how words are connected to their definitions in a real dictionary. We can use dictionaries when we have a set of data that needs to be stored in a structured way, such as storing information about a person (name, age, address) or keeping track of inventory (product name, quantity, price)."
      ],
      "metadata": {
        "id": "eHE2J2jTZybS"
      }
    },
    {
      "cell_type": "code",
      "execution_count": null,
      "metadata": {
        "id": "HxXQK7RGQoB6",
        "colab": {
          "base_uri": "https://localhost:8080/"
        },
        "outputId": "b753ef20-8517-4fcb-f0ab-fe0e0035e7b0"
      },
      "outputs": [
        {
          "output_type": "stream",
          "name": "stdout",
          "text": [
            "dict_values(['John Doe', 30, '123 Main Street'])\n"
          ]
        }
      ],
      "source": [
        "# Creating a dictionary to store information about a person\n",
        "person = {\n",
        "    \"name\": \"John Doe\",\n",
        "    \"age\": 30,\n",
        "    \"address\": \"123 Main Street\"\n",
        "}\n",
        "\n",
        "# Accessing and printing the person's name\n",
        "print(person.values())\n",
        "\n",
        "# Updating the person's age\n",
        "person[\"age\"] = 31\n",
        "\n",
        "# Adding a new key-value pair for the person's phone number\n",
        "person[\"phone\"] = \"555-555-5555\"\n",
        "\n",
        "# Removing the address key-value pair\n",
        "del person[\"address\"]"
      ]
    },
    {
      "cell_type": "markdown",
      "source": [
        "**Explanation**: We create a dictionary to store information about a person. We access and print the person's name. We update the person's age. We add a new key-value pair for the person's phone number. We remove the address key-value pair. We print the updated dictionary. The output will be: ``` {'name': 'John Doe', 'age': 31, 'phone': '555-555-5555'} ```\n",
        "\n"
      ],
      "metadata": {
        "id": "uEc_15RaZ5iF"
      }
    },
    {
      "cell_type": "markdown",
      "source": [
        "#### <font color=\"green\">Challenge</font>"
      ],
      "metadata": {
        "id": "ATH6_uceQoB7"
      }
    },
    {
      "cell_type": "markdown",
      "source": [
        "Create a dictionary to store information about a product, including its name, price, and quantity. Access and print the product's name. Update the product's price. Add a new key-value pair for the product's category. Remove the quantity key-value pair."
      ],
      "metadata": {
        "id": "QS-58fZiZ8ye"
      }
    },
    {
      "cell_type": "code",
      "source": [
        "# Write your code here\n"
      ],
      "metadata": {
        "id": "mtTQiYTGaB67"
      },
      "execution_count": null,
      "outputs": []
    },
    {
      "cell_type": "markdown",
      "source": [
        "### Example 5: Tuples"
      ],
      "metadata": {
        "id": "IC-TvBv8QtWe"
      }
    },
    {
      "cell_type": "markdown",
      "source": [
        "Tuples in Python are immutable sequences of elements. This means that once a tuple is created, its elements cannot be changed. Tuples are defined by enclosing elements in parentheses and separating them with commas. Tuples are commonly used to store related pieces of data that should not be changed, such as coordinates or database records.\n",
        "\n"
      ],
      "metadata": {
        "id": "MmPRXLNXaGYf"
      }
    },
    {
      "cell_type": "code",
      "execution_count": null,
      "metadata": {
        "id": "nlwQKPTEQtW7"
      },
      "outputs": [],
      "source": [
        "store_items = (\"apple\", \"banana\", \"orange\", \"grape\")\n",
        "print(store_items)\n",
        "\n",
        "# Accessing elements in a tuple\n",
        "print(store_items[0])\n",
        "print(store_items[1])\n",
        "\n",
        "# Looping through a tuple\n",
        "for item in store_items:\n",
        "    print(item)\n",
        "\n",
        "# Checking if an item exists in a tuple\n",
        "if \"apple\" in store_items:\n",
        "    print(\"Apple is in the store items\")\n",
        "else:\n",
        "    print(\"Apple is not in the store items\")"
      ]
    },
    {
      "cell_type": "markdown",
      "source": [
        "**Explanation**: We define a tuple called store_items with elements \"apple\", \"banana\", \"orange\", and \"grape\". We then print out the tuple. We access and print the first element of the tuple (index 0) which is \"apple\", and then the second element (index 1) which is \"banana\". We loop through each item in the tuple and print them out individually. We check if \"apple\" is in the tuple store_items. If it is, we print \"Apple is in the store items\", otherwise we print \"Apple is not in the store items\"."
      ],
      "metadata": {
        "id": "7jnGmX8waOV5"
      }
    },
    {
      "cell_type": "markdown",
      "source": [
        "#### <font color=\"green\">Challenge</font>"
      ],
      "metadata": {
        "id": "rswVeyvGQtW8"
      }
    },
    {
      "cell_type": "markdown",
      "source": [
        "Create a tuple named 'coordinates' with the values (3, 4, 5, 6). Display the tuple, access the elements, loop through the tuple, and then check if the element 3 exists in the tuple.\n"
      ],
      "metadata": {
        "id": "AM03oBC9aVaG"
      }
    },
    {
      "cell_type": "code",
      "source": [
        "# Write your code here\n"
      ],
      "metadata": {
        "id": "EYwOe60mbG48"
      },
      "execution_count": null,
      "outputs": []
    },
    {
      "cell_type": "markdown",
      "source": [
        "## 4. Conditional If Statements"
      ],
      "metadata": {
        "id": "xI8z-S9wOc7v"
      }
    },
    {
      "cell_type": "markdown",
      "source": [
        "**Control flow statements in Python**"
      ],
      "metadata": {
        "id": "vqQ6H7Fy5kxX"
      }
    },
    {
      "cell_type": "markdown",
      "source": [
        "Python has **three** types of control structures:\n",
        "\n",
        "\n",
        "\n",
        "*   **Sequential** - default mode\n",
        "*   **Selection** - used for decisions and branching\n",
        "\n",
        "*   **Repetition** - used for looping, i.e., repeating a piece of code multiple times.\n",
        "*   \n",
        "\n",
        "\n"
      ],
      "metadata": {
        "id": "z_A5utAo5t8n"
      }
    },
    {
      "cell_type": "markdown",
      "source": [
        "**Sequential statements** are a set of statements whose execution process happens in a sequence. The problem with sequential statements is that if the logic has broken in any one of the lines, then the complete source code execution will break."
      ],
      "metadata": {
        "id": "GXvnzq5R6Yoo"
      }
    },
    {
      "cell_type": "code",
      "source": [
        "## This is a Sequential statement\n",
        "\n",
        "a=20\n",
        "b=10\n",
        "c=a-b\n",
        "print(\"Subtraction is : \",c)"
      ],
      "metadata": {
        "colab": {
          "base_uri": "https://localhost:8080/"
        },
        "id": "xmL_2W-v6m52",
        "outputId": "b20ffb98-5ac3-43d7-f8c9-c2970c99ef5b"
      },
      "execution_count": null,
      "outputs": [
        {
          "output_type": "stream",
          "name": "stdout",
          "text": [
            "Subtraction is :  10\n"
          ]
        }
      ]
    },
    {
      "cell_type": "markdown",
      "source": [
        "**Selection/Decision control statements**"
      ],
      "metadata": {
        "id": "V3aOgeld63Z5"
      }
    },
    {
      "cell_type": "markdown",
      "source": [
        "Some decision control statements are:\n",
        "\n",
        "\n",
        "\n",
        "*   if\n",
        "*   if-else\n",
        "*   nested if\n",
        "*   if-elif-else"
      ],
      "metadata": {
        "id": "mRQqCQ856-1j"
      }
    },
    {
      "cell_type": "markdown",
      "source": [
        "![image.png](data:image/png;base64,iVBORw0KGgoAAAANSUhEUgAAAwAAAAQgCAYAAABRijs2AAAAAXNSR0IArs4c6QAAAARnQU1BAACxjwv8YQUAAAAJcEhZcwAAHYcAAB2HAY/l8WUAAJaxSURBVHhe7d0JeJTV9cfxI6HVoG0FLcH2X0FF0FqCC4hK2LXuIliVRDTUhUAUrBZcAq4E0dBqCVDBqiA0YK2IUnGpBKjgggoudRfc6gYI7gqC5p/fzX3jJEySScgyM+/38zzz8N47k9lD7nnvPefucNVVV5UYAAAAgFBo5v8FAAAAEAI73HrrrcwAAAAAACGxQ+mFAAAAAAAIgfHjx7MECAAAAAgTNwNw7LHHlrUAAAAAJJ0HH3zQ/asZABcAzJkzxzIzM10nAAAAgOQxd+5cy8rKcscsAQIAAABChgAAAAAACBECAAAAACBECAAAAACAECEAAAAAAEKEAAAAAAAIEQIAAAAAIEQIAAAAAIAQIQAAAAAAQoQAAAAAAAgRAgAAAAAgRAgAAAAAgBAhAAAAAABChAAAAAAACBECAAAAACBECAAAAACAECEAAAAAAEKEAAAAAAAIEQIAAAAAIEQIAAAAAIAQIQAAAAAAQoQAAAAAAAgRAgAAAAAgRAgAAAAAgBAhAAAAAABChAAAAAAACBECACCB/O1vfyu/vP76674XAAAgdgQAQAK59dZbbejQoe4CAABQFwQAAAAAQIgQAAAAAAAhQgAAAAAAhAgBAAAAABAiBAAAAABAiBAAAAAAACFCAAAAAACECAEAAAAAECIEAAAAAECIEAAAAAAAIUIAAAAAAIQIAQAAAAAQIgQAAAAAQIgQAAAAAAAhQgAAAAAAhAgBAAAAABAiBAAAAABAiBAAAAAAACFCAAAAAACECAEAAAAAECIEAAAAAECIEAAAAAAAIUIAAAAAAIQIAQAAAAAQIgQAAAAAQIgQAAAAAAAhQgAAAAAAhAgBAAAAABAiBAAAAABAiBAAAAAAACFCAAAAAACECAEAAAAAECIEAAAAAECIEAAAAAAAIUIAAAAAAIQIAQAAAAAQIgQAAAAAQIgQAAAAAAAhQgAAAAAAhAgBAAAAABAiBAAAAABAiBAAAAAAACFCAAAAAACECAEAAAAAECIEAAAAAECIEAAAAAAAIUIAAAAAAIQIAQAAAAAQIgQAAAAAQIgQAAAAAAAhQgAAAAAAhAgBAAAAABAiBAAAAABAiBAAAAAAACFCAAAAAACECAEAAAAAECIEAAAAAECIEAAAAAAAIUIAAAAAAIQIAQAAAAAQIgQAAAAAQIgQAAAAAAAhQgAAAAAAhAgBAAAAABAiBAAAAABAiBAAAAAAACFCAAAAAACECAEAAAAAECIEAAAAAECIEAAAAAAAIUIAAAAAAIQIAQAAAAAQIgQAAAAAQIgQAAAAAAAh8e23WwgAAAAAgDAhAAAAAABC4sc//hEBAAAAABAmBAAAAABAiBAAAAAAACFCAAAAAACECAEAAAAAECIEAAAAAECIEAAAAAAAIUIAAAAAAIQIAQAAAAAQIgQAAAAAQIgQAAAAAAAhQgAAAAAAhAgBAAAAABAiBAAAAABAiBAAAAAAACFCAAAAAACECAEAAAAAECIEAAAAAECIEAAAAAAAIUIAAAAAAIQIAQAAAAAQIgQAAAAAQIgQAAAAAAAhQgAAAAAAhAgBAAAAABAiBAAAAABAiBAAAAAAACFCAAAAAACECAEAAAAAECIEAAAAAECIEAAAAAAAIUIAAAAAAIQIAQAAAAAQIgQAAAAAQIgQAAAAAAAhQgAAAAAAhAgBAAAAABAiBAAAAABAiBAAAAAAACFCAAAAAACECAEAAAAAECIEAAAAAECIEAAATWjevHn28ccf+1bD+O677+yOO+6wr776yvcAAIAwIwAAmlCrVq2sbdu2dumll9rGjRt9b/34/vvvraioyH7961/bsmXLbOedd/bXAACAMCMAAJpQnz59LD093QoKCqxdu3Z2xRVX2KeffuqvrZuSkhL75z//aZ06dbLBgwfbm2++aVdeeaW/FgAAhB0BANDEJkyY4P794osvLD8/3/bcc0+79tpr7csvv3T9tXH33XfbAQccYKeddpq9/PLLru+ss85y9wkAACAEAEAT6927t/Xo0cO3ygKBq666yi0Nuv766+3rr7/211Tt/vvvt4MPPthOPfVUe+WVV3yvWfPmzd2sAgAAQIAAAIgD11xzjT/6gXICLr/8crc06M9//rN98803/pof/Pvf/7bDDjvMTjzxRHv22Wd97w+0BEg/DwAAECAAAOKAcgEiZwEirV+/3kaNGmV77723rV271veaDRo0yI4++mhbsWKF76lIZ/81kwAAABCJAACIE9FmASJ99NFH9s477/iWRT3jH+mMM87g7D8AANgGAQAQJ6qbBaitHXbYwcaOHetbAAAAPyAAAOJITbMAsTrzzDOtffv2vgUAAPADAgAgjmgWICMjw7fqRmf/qfwDAACqQgAAxJntnQVQ5R/O/gMAgKoQAABxpm/fvq60Z100a9aMXX8BAEC1CACAOKQdgesiKyuLs/8AAKBaBABAHOrXr1+tZwF09p+6/wAAoCYEAECcqu0sQGZmJmf/AQBAjQgAgDhVm1kAnf2/+uqrfQsAAKBqBABAHIt1FuD000/n7D8AAIgJAQAQx2KZBdDZ/2uvvda3AAAAqkcAAMS5mmYBTjvtNM7+AwCAmBEAAHFOswBHHHGEb22Ltf8AAKA2CACABFDV7sBa+9+xY0ffAgAAqBkBAJAAjjzyyG1yAXbYYQd2/QUAALVGAAAkiHHjxvmjMlr7/+tf/9q3AAAAYkMAACQIzQJ0797dt8yuuOIKfwQAABA7AgAggQSD/lNPPdUOOOAAdwwAAFAbBABAAlm8eLH796233rI1a9a4YwAAgNogAAASwLp16+yEE06wgoIC137mmWesW7dutmDBAtcGAACIFQEAEOeWLFniBvsLFy70PWU2bNhg/fv3t+uuu873AAAA1IwAAIhjU6ZMsb59+9rbb7/te8wmT55s6enpvmU2ZswYO+OMM2zz5s2+BwAAoGoEAECcGj58uI0YMcK3zPbaay+XA3DBBRfYk08+aZmZmf4aszlz5rhZglWrVvkeAACA6AgAgDizevVq69mzp02bNs33mB1//PFu0N+nTx/XTk1NdYP+/Px815bnn3/eBQGzZ8/2PQAAANsiAADiyH333ecG8cuWLfM9Zpdccondf//91rp1a9/zAy3/mT9/vrVq1cq1t27dameddZZddtllrg0AAFAZAQAQJ5TMe/LJJ9vGjRtdu3nz5nbHHXfYDTfc4NpV0c9odiAjI8P3mPuZE0880davX+97AAAAyhAAAE1MybtK4tXZ/EDnzp3doF5n82Ox7777ulmDnJwc32Nu1kCzCUuXLvU9AAAABABAk1LSrgbpWs8fyMrKcoP/Qw45xPfETnkDhYWFvlW2YZjyBqZOnep7AABA2BEAAE1Eyboa/Ct5NzB+/HgrKiqynXbayffUnioHFRcXW7t27XyPucpBubm5vgUAAMKMAABoAkrS1fIeJe2Kknjvvfdey8vLc+3tpb0DNIug6kGBm2++2Xr16uWqDAEAgPAiAAAa0bp16+yEE06okNjbo0cPN1jXrr71KS0tzeUBqIpQ4NFHH7XDDjvMVRsCAADhRAAANJIlS5a4JT8LFy70PWbDhg1zg3Il8TYUBRuqJpSSkuLaGzZscJWDVHUIAACEDwEA0AimTJniluW8/fbbvsds8uTJbllOY9ByI80ypKen+56yPQRUfUhViAAAQHgQAAANbPjw4S4xN6Dk3MWLF7vE3MbUpUsXFwRkZmb6HnPVhzQroWpEAAAgHAgAgAaiZNuePXu60pwBJeWuWLHCleZsCqmpqW7Qn5+f73vMVSFSEKCqRAAAIPkRAAANQEm2GlRrc66AknGVlNu6dWvf03S0/Gf+/Pmu+pCoGpGWCak6EQAASG4EAEA9U3Ktkmw3btzo2s2bN3dJuJGVf+KBnqOWBGVkZPiesoThE0880davX+97AABAsiEAAOrJpk2bXFKtzq4HOnfu7AbZOrsej1R9SLMUOTk5vsfcLIVmL5YuXep7AABAMiEAAOqBkmhVX1/r6wNZWVlu8H/IIYf4nvilPIXCwkLfMnvrrbdcnsLUqVN9DwAASBYEAMB2UvKszpgrmTYwfvx4Kyoqsp122sn3xD9VKiouLnZVigKqVJSbm+tbAAAgGRAAANtBSbNa3qMkWlFS7b333mt5eXmunWi0V4FmLVStKKC9Cnr16uWqGgEAgMRHAADUwbp161yybGRib48ePdzguX///r4nMaWlpbk8AFUtCmi3Yi1xUnUjAACQ2AgAgFpasmSJW/KjQXJg2LBhbpCspNpkoeBG1YtSUlJce8OGDa5ykKocAQCAxEUAANTClClT3DKZt99+2/eYTZ482S2TSUZa3qSNy9LT031P2R4Cqna0efNm3wMAABIJAQAQo+HDh7tE2YCSZRcvXuwSZZOZqhhpaVNmZqbvMVftSLMgqn4EAAASCwEAUAMlv/bs2dOVygwoSVZnxlUqMwxSU1PdoD8/P9/3mKt6pCBAVZAAAEDiIAAAqqGkVw1ytVlWQMmxWv/funVr3xMeWv4zf/58V+1IVP1Iy4RUDQkAACQGAgCgCkp2VdLrxo0bXbt58+YuKTay8k8Y6T3RkqCMjAzfU5YwrKpI69ev9z0AACBeEQAAlWzatMkluepsd6Bz585u0Kuz3TBX7UizIjk5Ob7H3KyIZkuWLl3qewAAQDwiAAAiKKlV9e613j2QlZXlBv9KhkVFyosoLCz0LbO33nrL5UVMnTrV9wAAgHhDAAB4SmbVGWwltwbGjx9vRUVFttNOO/keVKbKSMXFxa4qUkCVkXJzc30LAADEEwIAoJSSWLW8R0mtoiRXJbvm5eW5NqqnvRE0S6LqSAHtjdCrVy9XRQkAAMQPAgCE2rp161zyamRib48ePdxgVsmuiF1aWprLA1CVpIB2R9aSKlVTAgAA8YEAAKG1ZMkSt+RHg9bAsGHD3KBVSa6oGwVTqpaUkpLi2hs2bHDBlKoqAQCApkcAgFCaMmWKW7by9ttv+x6zyZMnu2Ur2H5aTqWN0tLT031P2R4Cqq60efNm3wMAAJoCAQBCZ/jw4S5xNaDk1cWLF7vEVdQfVU3SUqrMzEzfY666kmZdVG0JAAA0DQIAhIaSUXv27OlKVwaUtKoz1SpdifqXmprqBv35+fm+x1yVJQUBqroEAAAaHwEAQkFJqBp0avOqgJJVtf6/devWvgcNRct/VFVJ1ZVE1Za0TEjVlwAAQOMiAEDSU/KpklA3btzo2s2bN3dJqpGVf9Dw9BloSZCqLAX0GagK0/r1630PAABoaAQASFqbNm1ySac6+xzo3LmzG4Tq7DMan6orqcpSTk6O7zE3C6PZmaVLl/oeAADQkAgAkJSUZKr681p/HsjKynKDfyWnomkpD6OwsNC3zN566y2XhzF16lTfAwAAGgoBAJKOkkt1RlnJpoHx48dbUVGR7bTTTr4HTU2VmIqLi10VpoAqMeXm5voWAABoCAQASCpKKtXyHiWZipJOlXyal5fn2ogv2otBszKqxhTQXgy9evVyVZsAAED9IwBAUli3bp1LJo1M7FWyqQaXSj5F/EpLS3N5AKrKFFCegJZwqXoTAACoXwQASHhLlixxg0UNIgPDhg1zg0glnSIxKHhTdaaUlBTX3rBhgwveVMUJAADUHwIAJLQpU6a4ZSRKIg1MnjzZLSNB4tHyLW3Mlp6e7nvK9hBQNafNmzf7HgAAsD0IAJCwhg8f7hJJA0omXbx4sUskReJSlSYt3crMzPQ95qo5KbFb1Z0AAMD2IQBAwlFyaM+ePV0pyYCSSHXmWKUkkfhSU1PdoD8/P9/3mKvqpCBAVZ4AAEDdEQAgoSgpVIPAZcuW+R5zyaNa/9+6dWvfg2Sh5T+q4tSyZUvXVnUnLRNStScAAFA3BABIGEoGVVLoxo0bXbt58+YuaTSy8g+Sjz5zze5kZGT4nrKEYVV9Wr9+ve8BAACxIgBA3Nu0aZNLAtXZ4EDnzp3dOnGdDUbyUzUnzfrk5OT4HnOzPpoNWrp0qe8BAACxIABAXFu5cqUr8an14IGsrCw3+FeyKMJFeR+FhYW+Za76k/I+pk6d6nsAAEBNCAAQt5TsqcG/kj8D48ePt6KiIttpp518D8JGlZ+Ki4td1aeAKj/l5ub6FgAAqA4BAOKSkjy1vEdJn9KqVSuXDJqXl+faCDft/aBZIFV/Cmjvh169erkqUQAAoGoEAIgr69atc8mdkYm9PXr0cIM9JYMCgbS0NJcHoCpQAe3+rFkjVYsCAADREQAgbixZssQN3jSoCwwbNswN6pQECkSjYFHVoFJSUlx7w4YNLlhU1SgAALAtAgDEhSlTprhlHUrqDEyePNkt6wBqouViKhWanp7ue8r2EFD1qM2bN/seAAAgBABocsOHD3eJnQEldy5evNgldgKxUlUoLRXLzMz0PeaqR6lU6KpVq3wPAAAgAECTUbJmz549XWnHgJI6dSZXpR2B2kpNTXWD/vz8fN9jroqUlpapqhQAACAAQBNRkqbOzGpzp4CSObX+v3Xr1r4HqBst/1HVqJYtW7r2li1b3DIhVZcCACDsCADQ6JScqSTNjRs3unbz5s1dEmdk5R9ge+k7ptmkjIwM31OWMKwqU+vXr/c9AACEDwEAGs2mTZtcUqbOzgY6d+7s1m3r7CxQ31Q9SrNMOTk5vsfcLJNmn5YuXep7AAAIFwIANIqVK1e6ddhanx3Iyspyg38lbwINSXkmhYWFvmWu2pTyTKZOnep7AAAIDwIANDglX2rwr2TMwPjx462oqMh22mkn3wM0LFWaKi4udlWmAqo0lZub61sAAIQDAQAalJIutbxn69atrt2qVSuXnJmXl+faQGPSXhOadVK1qYD2mujVq5erSgUAQBgQAKBBrFu3ziVbRib29ujRww2+lJwJNJW0tDSXB6CqUwHtNq1ZKlWnAgAg2REAoN4tWbLEDaY0yAoMGzbMDbKUlAnEAwWnqj6VkpLi2hs2bHDBqapUAQCQzAgAUK+mTJnillkoyTIwefJkt8wCiDdanqZSoenp6b6nbA8BVavavHmz7wEAILkQAKDeDB8+3CVaBpRsuXjxYpdoCcQrVaHS0rTMzEzfY65alUqFrlq1yvcAAJA8CACw3ZQ82bNnT1dqMaAkS51ZValFIN6lpqa6QX9+fr7vMVe1SkvZVMUKAIBkQgCA7aKkSZ0p1WZLASVXav1/69atfQ+QGLT8R1WqWrZs6dpbtmxxy4RUzQoAgGRBAIA6U7KkkiY3btzo2s2bN3dJlZGVf4BEo++0Zq8yMjJ8T1nCsKparV+/3vcAAJC4CABQa5s2bXJJkjpbGujcubNbR62zpUCiU7UqzWrl5OT4HnOzWprtWrp0qe8BACAxEQCgVlauXOnWRWu9dCArK8sN/pVMCSQT5bUUFhb6lrnqVsprmTp1qu8BACDxEAAgZrNmzXKDfyVHBpQ0WVRUZDvttJPvAZKLKlsVFxe7qlYBVbbKzc31LQAAEgsBAGKiJMjs7GzbunWra7dq1colS0YuAwKSlfa20CyXqlsFtLdFr169XBUsAAASCQEAqrVu3TqX/BiZ2NujRw83GFKyJBAWaWlpLg9AVa4C2t1as2KqhgUAQKIgAECVlixZ4gY3GvQEhg0b5gY9SpIEwkjBsKpdpaSkuPaGDRtcMKyqWAAAJAICAEQ1ZcoUt+xBSY+ByZMnu2UPQNip2pVKhaanp/uesj0EVB1r8+bNvgcAgPhEAIBtDB8+3CU+BpT8uHjxYpf4CKCMql4pCMjMzPQ95qpjqVToqlWrfA8AAPGHAADl3njjDevZs6crfRhQ0qMGOSp9CKAiVb/SoF/VsAKqkqWlc7Nnz/Y9AADEFwIAOEpi1KBFmx8FlOyo9f+tW7f2PQCi0fIfVcVq2bKla2/ZssUtE1L1LAAA4g0BAFzyopIYN27c6NrNmzd3SY6RlX8AVE+/Q5oty8jI8D1lCcOqorV+/XrfAwBA0yMACLFNmza5pMXIWv6dO3d2JT519hJA7ag6lmbRcnJyfI+5WTTlBSxdutT3AADQtAgAQmrlypVuyY/WLweysrLc4F/JjQDqTnk0hYWFvmWumpbyaKZOnep7AABoOgQAITRr1iw3+FeyYkBJjEVFRS6pEcD2UyWt4uJiV0UroEpaubm5vgUAQNMgAAgZJSVmZ2fb1q1bXbtVq1YueTFyGRCA+qG9NDSrpmpaAe2l0atXL1u9erXvAQCgcREAhMS6detcMmJkYm+PHj3c4ETJiwAaRlpamssDUFWtgHbT1iycqm8BANDYCABCYMmSJW6woUFIYNiwYW4QoqRFAA1Pwbeqa6WkpLj2hg0bXPCtKlwAADQmAoAkN2XKFLcMQUmIgcmTJ7tlCAAal6prqVRoenq67ynbQ0DVuDZv3ux7AABoWAQASWz48OEuETGgZMTFixe7REQATUNVthQEZGZm+h5z1bhUKnTVqlW+BwCAhkMAkITeeOMN69mzpytFGFASogYdKkUIoGmp2pYG/aq+FVBVLi3Vmz17tu8BAKBhEAAkGSUVahChzYgCSj7U+v/WrVv7HgDxQMt/VIWrZcuWrr1lyxa3TEjVugAAaCgEAElEyYRKKty4caNrN2/e3CUdRlb+ARBf9Dur2bmMjAzfU5YwrKpd69ev9z0AANQfAoAksGnTJpdEGFnLv3Pnzq7Ep84mAohvqsalWbucnBzfY27WTnkBS5cu9T0AANQPAoAEt3LlSrfkR+uJA1lZWW7wr2RDAIlDeTuFhYW+Za56l/J2pk6d6nsAANh+BAAJbNasWW7wr+TBwPjx462oqMglGQJIPKrcVVxc7Kp2BVS5Kzc317cAANg+BAAJSkmC2dnZtnXrVtdu1aqV3XvvvZaXl+faABKX9u7QLJ6qdwW0d0evXr1s9erVvgcAgLohAEgw69atc8mBkYm9PXr0cEmE/fv39z0AEl1aWprLA1AVr4B279asn6p9AQBQVwQACWTJkiXuj78GBYFhw4a5QUH79u19D4BkomBf1bxSUlJce8OGDa5ykKp+AQBQFwQACWLKlCluWYCSAgOTJ092ywIAJDdV89IsX3p6uu8p20NA1b82b97sewAAiA0BQAIYPny4SwwMKDlw8eLFLjEQQDioqpeCgMzMTN9jrvqXSoWuWrXK9wAAUDMCgDj2xhtvWM+ePV1pwICSAjUIUGlAAOGi6l4a9Ofn5/sec1XAtDRw9uzZvgcAgOoRAMQpJfnpj7o2BwooGVDr/1u3bu17AISRlv/Mnz/fWrZs6dpbtmxxy4RUHQwAgJoQAMQhJfcpyW/jxo2u3bx5c5cEGFn5B0C46f8IzQZmZGT4nrKEYVUJW79+ve8BAGBbBABxZNOmTS6pT2f3Ap07d3b1wHV2DwAi7bvvvm6WMCcnx/eYmyVUXsDSpUt9DwAAFREAxImVK1e6JT9a3xvIyspyg38l/wFAVZQnVFhY6FvmqoUpT2jq1Km+BwCAHxAAxIFZs2a5wb+S+QLjx4+3oqIil/QHADVRpbDi4mJXJSygSmG5ubm+BQBAGQKAJnbppZdadna2bd261bVbtWpl9957r+Xl5bk2AMRKe4Vo1lDVwgLaK6RXr162evVq3wMACDsCgCaybt06l6xXUFDge8x69Ojhkvr69+/vewCgdtLS0lwegKqGBbRbuGYZVV0MAAACgCawZMkS98dYf6QDw4YNc3+k27dv73sAoO5UEUjVw1JSUlx7w4YNrnKQqowBAMKNAKCRTZkyxU3TK0kvMHnyZDdNDwD1SdXDNKuYnp7ue8r2EFC1sc2bN/seAEDYEAA0ouHDh7tEvYCS9RYvXuwS9QCgIaiKmIKAzMxM32Ou2phmIVetWuV7AABhQgDQCN544w3r2bOnK9UXUJKe/iirVB8ANCRVE9OgPz8/3/eYPffccy4ImD17tu8BAIQFAUADU0Uf/ZHVZj0BJedp/X/r1q19DwA0PC3/mT9/vrVs2dK1t2zZ4pYJXXbZZa4NAAgHAoAGpGS7AQMG2MaNG127efPmLilPyXkA0BSUCKzZx4yMDN9TljCsqmTr16/3PQCAZEYA0AA2bdrkkux0ti3QuXNnV59bZ9sAoCntu+++blYyJyfH95iblezWrZurUgYASG4EAPVs5cqVbsmP1tsGsrKy3OBfyXgAEC+Ul1RYWOhb5qqTqUrZ1KlTfQ8AIBkRANSjWbNmucH/888/73vMxo8fb0VFRS4JDwDijSqTFRcXu6pkAVUmy83N9S0AQLIhAKgnl156qWVnZ9vWrVtdu1WrVi4BOC8vz7UBIF7prL9mKVWdLKC9SXr16mWrV6/2PQCAZEEAsJ3Wrl3rkucKCgp8j1mPHj1ckl3//v19DwDEt7S0NJcHoCplAe1OrlnN++67z/cAAJIBAcB2ULLc4Ycf7v5oBoYNG+b+aLZv3973AEDiUEUgVStLSUlx7Q0bNrjKQapqBgBIDgQAdTRlyhQ3ba6kucDkyZPdtDkAJDJVK9MsZnp6uu8p20NA1c02b97sewAAiYoAoA6GDx/uEucCSp5bvHixS5wDgGSgqmUKAjIzM32PuepmWhK0atUq3wMASEQEALXwxhtvWM+ePV3pvICS5vRHsk+fPr4HAJKDqpdp0J+fn+97zJ577jkXBMyePdv3AAASDQFAjFTRR3/0tHlOQMlyWv/funVr3wMAyUfLf+bPn28tW7Z07S1btrhlQpdddplrAwASCwFADJT8NmDAANu4caNrN2/e3CXJKVkOAMJAicCa7czIyPA9ZQnDqoK2bt063wMASAQEANXYtGmTS3rT2a9A586dXb1snf0CgDDZd9993SxoTk6O7zE3C6rZUVVFAwAkBgKAKqxcudL9UdP610BWVpYb/Cs5DgDCSnlQhYWFvmWuGpqqok2dOtX3AADiGQFAFLNmzXKD/+eff973mI0fP96KiopcUhwAhJ0qoRUXF7sqaAFVQsvNzfUtAEC8IgCo5NJLL7Xs7GzbunWra7dq1colAOfl5bk2AKCMzvprVlTV0ALaC6VXr162evVq3wMAiDcEAN7atWtdMltBQYHvMevRo4dLeuvfv7/vAQBESktLc3kAqooW0G7omkW97777fA8AIJ4QAJRS8trhhx/u/ogFhg0b5v6ItW/f3vcAAKqiikCqjpaSkuLaGzZscJWDVEUNABBfQh8ATJkyxU1jK4ktMHnyZDeNDQCInaqjadY0PT3d95TtIaBqaps3b/Y9AICmFuoAYPjw4S6RLaBktsWLF7tENgBA7alKmoKAzMxM32OumpqWBK1atcr3AACaUigDgDfeeMN69uzpStkFlMSmP1p9+vTxPQCAulC1NA368/PzfY/Zc88954KA2bNn+x4AQFMJXQCgij76I6TNbAJKXtP6/9atW/seAMD20vKf+fPnW8uWLV17y5YtbpnQZZdd5toAgKYRqgBAyWgDBgywjRs3unbz5s1d0pqS1wAA9U+JwJpdzcjI8D1lCcOqurZu3TrfAwBoTKEIADZt2uSS0HQ2KtC5c2dXv1pnowAADWffffd1s645OTm+x9ysq2Zjly5d6nsAAI0l6QOAlStXuj8yWo8ayMrKcoN/JasBABqH8q4KCwt9y1z1NeVdTZ061fcAABpDUgcAs2bNcoP/559/3veYjR8/3oqKilySGgCgcanyWnFxsau6FlDltdzcXN8CADS0pA0ALr30UsvOzratW7e6dqtWrVwCcF5enmsDAJqG9l7RLKyqrwW090qvXr1s9erVvgcA0FCSLgBYu3atnXDCCVZQUOB7zHr06OGS0Pr37+97AABNKS0tzeUBqApbQLuva9b2vvvu8z0AgIaQVAHAkiVL7PDDD7eFCxf6HrNhw4a5Pyrt27f3PQCAeKGKQKrGlpKS4tobNmxwlYNUtQ0A0DCSJgCYMmWKm1ZWUllg8uTJbloZSBbKX9lhhx3c5cADD7TXXnvNX/ODxx57rPw2uqi9Pb755hsXSAf3p2P1AfVF1dg0S5uenu57yvYQUPW2zZs3+x4AQH1JigBg+PDhLrEsoOSyxYsXu8QyANX76quvXBUWVcwCmoqqsikIyMzM9D3mqrdpSdCqVat8DwCgPiR0APDGG29Yz549XWm5gJLK9EdEpeUAVO3777+3RYsWud8VBcvaLwNoSqrOpkF/fn6+7zF77rnnXBAwe/Zs3wMA2F4JGwCooo/+KGhzmYCSyZRU1rp1a98DoCpPPPGEHXXUUfb000/7HiA+aPnP/PnzrWXLlq69ZcsWt0zosssuc20AwPZJyABAtfwHDBhgGzdudO3mzZu7JDIlkwFh1717dyspKSm/qL09UlNT3SxbcH86Vh/QkJQIrNncjIwM31OWMHziiSfaunXrfA8AoC4SKgDQEgUlhY0dO9b3mHXu3NnVk9bZIQBA8th3333dLG9OTo7vMTfLq9nfpUuX+h4AQG0lTACgBEX9p6/1oYGsrCw3+FfyGAAgOWnWqbCw0LfMVXtT7oqS1wEAtZcQAcCsWbPc4P/555/3PWXLgFQSUUljAIDkpkpvxcXFrspbQMnrubm5vgUAiFXcBwCXXnqpZWdn29atW127VatWLgE4Ly/PtZHYVInmxRdftCuuuMJVdPrpT3/qas3rj7x2br7llltqvd5Xt9dM0emnn+7uJ6hfr03iLrzwQrd0IJY69tqQ6Jhjjin/+aCefuRz1n0G1x988MHu/pVcq9vUhmqdP/LII/b73//e9ttvP3d/u+22m5122mn20EMP1aoWenX7AES+psi11aJ28DORtf7rug+AbqP3Wu+J3pvg5/X6VOpRn1Esn23lx1fgL8pHePvtt92u30ceeWT5d0f3r/dR7yc15JOL9nrRrK+qvQW010uvXr1s9erVvgcAEIuS0j/EpX9L48tHH31UUvqffImeX3Dp0aNHyRtvvOFvgUT37LPPlpxwwgkVPuNol9Kgr+TGG28s+frrr/1PRvfll1+62+n20e4n8tK1a9eS0gFiyXfffed/elsff/xxydFHH13+M8uXLy8pHbCWnH322RXuK9pFt/nwww/9PVUvlvdhwIABJaWD3ZK///3v5X2dO3cuefXVV/29/EDPM/Jn1Q5Ufk1VXXJycsrfb/2rdrTrotF7qvdW73HkfUa7BJ+tPruqVH58vQe6/dixY0t+8pOfVLi/yhe9r6+88oq/JySTSy65pMJnXRowl9x7773+WgBAJI31g/8vx48fXxKXMwDaxEtnVhcuXOh7zJ0BfPTRR619+/a+B4mq9Hto99xzj6vyoYS+mqja08UXX2yjRo1ym1ZF884779iZZ57pbhdUh6qOSl8OHDjQ/vznP5fPLtXkgw8+sPPOO89uv/1231M13UZLE9avX+97tqX3Qd/1WN4HlUTUmfT33nvP98Qnna2/7rrr3HsbS3nR4LPVGfu1a9f63up98cUXruSvasXruDp6X4cMGeL2DEFyUUUgVX9LSUlxbc1u6XdJ3z8AQM3iagZg8uTJFc7q6KI+JI+lS5eWtG3btvzz1Vnc0sF9yUsvvVSyZcsWdxud4S0dvG1zFrmgoKCkdMDubhPQbFH//v0r3E4/p5//9NNP3W10Vvr99993Px85Q6DH1vfr+++/d7eLVPls+R577FH+M3q+q1evLn++pQPZktJBf0nHjh3Lb6/Lrbfe6q6P5uWXX3Zn8YPbBve7Zs0a93z1nDSLUPk5B5e6zABEivV2sc4A6L24/vrrK9ynnreev977YLZFn0m0z/aMM85w72NllR8/+Bx0Oeuss0qef/75ks2bN7vbVvW9ueKKK7b53iA5PPPMMyXp6ekVPu+srKySTZs2+VsAACrPAJT+Gz8BwLBhw8qfnC7t2rUrWbx4sb8WyUADvFNPPbX8M1Yg8MADD0QdgEvlwX3lQa8GdRpgBtfrMnz48JLPP//c32JbGjB069at/PZ6Dk8//bS/9gfRlsvotsXFxVU+38cff7xk//33L7/97373u/IgJFLlQa0GynPnzq32fiODBV3iLQDQz0cGdnqP//vf//prt7Vhw4aS8847r/z2uvzlL3/Z5j2o/Pi6KFiaPXt2lUu4FJxpyWBw+yOOOMItoUJy+uabb0oyMzMrfEcOPPDAkpUrV/pbAEC4xeUSIE3PKwFUpd4CSvLSJjAq9YbksWrVKpfUGtCOn0FSajRpaWku4XuPPfZwbVWCKh1oumN59913bd68eb5lVhpcuApRpQNE37MtlY3V8oHSwapra/lQ6WAypoRRPV99J6t6voceeqiVDvp9q+y7XRrE+NYPSgfGtmDBAt8yt8OpnntV96slcddcc021r6sp6b2766673Hspem+nTJliv/nNb1w7mtKgx8aNG+eSvQOlQZBL7K2JKsIMGjTImjWL/l/YPvvs44oHBEoDqLhfPoW6UzW40j9ubllY4LnnnnPV4/S7DQCoqMkDAFX00X/S2uwloPW9WrvbunVr34Nk8O2337q8jmDdtiq3nHDCCVUOegMHHHCAHXfccXb00Ue7AXhkGUCtoVegKBoc5+TkWMuWLV27OtodV5vKBf7zn//UOPDs1q2be87VPV+tR+7SpYtvlVUk+vLLL33rB6rM8+GHH7pj3a+ChmAtc1X02KeccopvxRdVYFHVnYA25jvooIN8q2oK8JQrEQQ2+iw1WK+OgkEFDdoBvDoHHnhgeeAoWiOO5Kb/H5QvE/wfsGXLFvddVIANAPiBRjKaFnBl+RqbztRG7uqrP+i33XYbu/omKSXEavO2RYsWufbll1/uzgDXNPCtigIK/WG/6aabXFszCTrbt/vuu7t2TTRg/e1vf+tbZvfdd5+ddNJJvlU2YFSQ8PDDD7v2ueeea5MmTbIWLVq4dlU0uI8ssakZCwUcAQVA559/fvmZSQUteg2pqamuXZ3p06e7hHjp3Lmz/eMf/7COHTu6dqCmxw/Eejsl9l500UXusSXa89VsRnAmX4P5Bx98MOp9RaPkar3Pwc6ueqzrr7/efvzjH7t25cdXIKT/s37+85+7dlVee+01Vwo22D/k73//e4WgD8lLM29nn312hdnCDh06uO/ozjvv7HuAxHPVVVf5I6B2NMOuMZho/C2NngOg9ZpK0tJjBxetZ9babCQvlWPs1KlT+Weuco7bQ/kEkaViSweJ5cmgsVBJ2UMOOaT856+77jp/TZnKOQCl//FWuUY/Uumgo/xndFE7khJie/fuXX595cetTuR9x1MOgF5DcH1t19vr/4Pc3Nzyn9dnGpkMXPnxSwOxkq+++spfWzW9N5F5E9v7fUPiifzecOGS6Bf93QDqKi5yALReU8seIuksXbCUA8lJZ9S19j0QuZSnLj7//HP75JNPfMvctH9w1jgWun3kbIHOzH/33Xe+tS3NVNS0XCkWepzI573nnnv6o5rp+erMfzzRTExkuVPNAOyyyy6+VTP9f9CmTRvfMlfqVWf9q1JfnwOS27PPPsvfFACoQpMuAdK27uecc0554qBoPfDUqVN9C8kk1iUnsaq8xEM1wWuzfKzyEp/KS1sqX3/ttde63X9rUtPrXLlypZ144onlOQC1WZoS+ZrjZQlQ5etjXSoVSUvBrrzySndc+XXV9PhVYQlQeOmz1hIg5QAE9Ldm8ODBvgUkjqAYSu/evW3JkiXuGKituFgCFEl1zo877rgK01y9evVytdCRXLTEJPJzVnt7VF7iURoA+GtiU3mJj5YLRC5tqXx9aQDgr6leTa9TS90ia9nXZmlK5GvWv/GwBKiuS3Qi6b0Nfr7y66rp8avCEqBwuuyyy8o/c11atmxZMn/+fH8tkFhKB/zl32WWAGF7xMUSoEia+ldlGO3yGlBFFi0R+te//uV7gG1pqUlkxZ/ImaS6+OUvfxlTIu720vKYZKpwpWVXKukZ+N///lftEp6a6P+EWBO5gUBpwO6S+JVAHtAM15NPPul2CAYA/CAu9gGQiRMn2owZM8rrekf7zxyJTQP2fffd17cspnrv1dFgPbKih9bVaz16rHR7fc8CtVm3vj0qBy7ayyBWKimq0qLxRGvy9ZoCynGIVvq0Kps2baqwV4Luq6YSn0CkaCeNcnJyXHlpVf8BAFQUNwGADBkyxJ2t6dSpk+8pKxV55plnVljLicSks7o6yx5Qqb6SEs1G1WzWrFluM6wBAwa49d8avGvwH/nH/ZVXXnGJwbF666233Hr8gDaPagwa4P7qV7/yrbLnHeyNUJP333+/PHcgnmivhoASvWuz6dbGjRvt5Zdf9i1z701jzMQgOfz1r391a6PffPNN32NWWFhYYWNJAEBFcRUASNeuXV0QoF0+A0ro0tkd7eyIxKUAIHJzKCWhRtsltzLtMquBur4X2jhO1T10hlhLT7Srb0D3FyR81mTr1q3ldeelc+fO2yTTNhQFAJHvwzPPPBPTLIDeByXOxyO9d3oPRcGMEqerq6gU6cUXX6wQiOkzrU01J4SX9tPQJaDKYvod0U7RAICqxV0AIKoeomxlVQYJaNCnIKCoqMj3INFoUBdZdUYbgumPdU2zAKrmErnLrAbPwZKTI444orykrAaekydPtrVr17p2dRQsRH6XevXqtd1lSWtDG5Dtv//+7lgzAFr+pgF+dRQAabOyeKT3Tu9hQDM2yyM2YaqKPiudwQ1mQPRZ6jMFqrNmzRp31l/fnYB2C9fvSN++fX0PAKAqcRkABLRL8Lx588rXS2t9t8q45eXluTYSj8qZnXrqqb5V9hmrrFlVQYDqy0+YMMENkkVnmfWHPqAa+qeccopvle3me80111S7pEZnmy+99NLypOG2bdvaaaedZjvuuKNrN4b99tvPLW0L3HLLLW7ZgmYmotFZ8sjnXB8UREXmZHz99df+qPb03uk91Hspep56vnreVdHSH5VVjQxq9FnWZl8EhI92nT7ssMPcuv/A6NGjXTGJtLQ03wMAqE5cBwAycOBAe+KJJyrUJ9eAUFu6RyZwIjEomNOUfeRAUQGBZnu0hvf77793/Z999pn7g3788cfbnXfe6fo0YL3kkksqrPtXAqpq/+v7ELj55putX79+7ud1P6L7/eCDD1yyuc6+R24QNHz48PJZhMai56065cHzVsCi16Za5VpDHwQCynXQ7MDvfve7et/USIP2yFr9qt2vZXba/0CPG3wWsdJ7qPcyoOerWQG953rvK3+2xxxzjP3tb39zfaL3Qp+l3hsgmsr/9+u7MnPmTCsoKHBtAEBs4j4AEK0v1nKCoUOH+p7oZ4GQGHr27Gk33nhjeRCgM8FXXXWVS8LVH3Tt8rrrrrvaCSecYE8//bS7jYwZM8adZa68C6zO+mnzuMggQD+nn9f96Pa6XyUga5CtxxMFFDfccIP94Q9/aJKqM3reevzI4FZLZ9LT0+1HP/qRe94qr6lAQcugRAFx5Fn77aFym5H3pUG5llcpV0PvswKB2tB7qPfyuuuu8z1ln63ec7331X22CgL1GXIGF9FEm/3V74mW/GRnZ/seAECsEiIACGgnUJ2lDERbB4r4p0GgBrJK6NVAsCYKALVb9R//+McqB+oaYM6ePdstKYmsSV8VJZvfc889bv+Jxlz6U5le29133+0G+dVRsKJZEr2+2uywW52f/exndsEFF5QHYpG0Nr+2AYDovdTSHy3di6zmVRV9VgoGNcsRWSEKCETL/9LO9Rr8d+nSxfcAAGojoQIAGTlypEsejRy0VK4EgcRw4IEH2vz5893sjsq9akYnoM9XZ6GVDP7UU0+5P/g1naXXIPnaa691+QK33nprhTXpovvX4+jxHn/8cTvyyCPL951oSjoTr6UwWvqjnIjICkF6zhr4v/DCC24GpL7LY2qJjir2XHzxxRWqIOm51CUAEL2nCvC0BEj3nZubW+E16XFU8veuu+5ypVgvuuiiCvs5AIFoFeDy8/PdCQFKxQJA3WkthbYHdgOsRKLykVov/cADD/iessHM7bffbnvvvbfvAQAkIgXrkRtBKn9I/7+zqy/CROWqVTxDtOJBRTOAutAJ1aysLHc8fvz4xJsBCOisqdYsawlHINpukACAxBFtF3iVD9aSHwb/AFA/EjYACKjCiNYPB0s5ov3xAADEv2gncXJycmzZsmUVqn8BALZPwgcAovXEOjsUmXSo6WPVWd+yZYvvAQDEKxVz0BIHlQMOaG+MadOm+RYAoL4kRQAgquqiIGDQoEG+J3oCGQAgvlQu5KCdpbVL+IgRI3wPAKA+JU0AICqPqCQHVU0JRCshBwBoetFKOWunb53M6du3r+8BANS3pAoAAiqlqDrkqhoh0TaRAQA0nWibOY4ePdoVd2BDOABoWEkZAIjqkD/xxBMVdlmtvI08AKDxVf6/WLtEz5w50woKClwbANCwkjYAEG04pE2fhg4d6nuin3UCADS8aLOx6enpbslPdna27wEANLSkDgAC06dPt0mTJvlW9HWnAICGEy0fSxtQavDfpUsX3wMAaAyhCABk5MiRtmjRImvbtq3v2bbyBACg/kWryJafn2/ahT41NdX3AAAaS2gCAOnXr58726QqE4FotacBAPWj8p4sKs4wf/58GzNmjGsDABpfqAIAadOmjasyMWrUKN8TffdJAEDdRduVPSMjw52EOfnkk30PAKAphC4ACEycONFmzJhhzZqVvQXR/lgBAGov2kmVnJwcW7ZsmXXo0MH3AACaSmgDABkyZIg7G9WpUyffs+10NQAgdtGWVRYWFtq0adN8CwDQ1EIdAEjXrl1dEDBo0CDfEz1hDQBQvcqFFdq1a2fFxcU2YsQI3wMAiAehDwCkRYsWNnfuXBs3bpzviV6yDgCwrWillVVsQSdX+vbt63sAAPGCACDC2LFjbd68ea5KhUTbtAYA8INomyuOHj3aFVtIS0vzPQCAeEIAUMnAgQPtiSeesO7du/uebbetBwBs+39jSkqKzZw50woKClwbABCfCACi6Nixoy1fvtyGDh3qe6Kf5QKAMIo2O5qenu6W/GRnZ/seAEC8IgCoxvTp023SpEm+FX2dKwCESbT8qMzMTDf479Kli+8BAMQzAoAajBw50hYtWmRt27b1PdtWugCAMIhWIS0/P9/mzJljqampvgcAEO8IAGLQr18/d3ZLVS0C0WpdA0CyqrxHioolzJ8/38aMGePaAIDEQQAQozZt2riqFqNGjfI90Xe7BIBkEm2X9IyMDHdS5OSTT/Y9AIBEQgBQSxMnTrQZM2ZYs2Zlb120P44AkAyineTIycmxZcuWWYcOHXwPACDREADUwZAhQ9zZr06dOvmebafHASCRRVvmWFhYaNOmTfMtAECiIgCoo65du7ogYNCgQb4neoIcACSayoUO2rVrZ8XFxTZixAjfAwBIZAQA26FFixY2d+5cGzdunO+JXiIPABJBtFLHKn6gkx19+/b1PQCAREcAUA/Gjh1r8+bNc1UxJNomOQAQz6Jtdjh69GhX/CAtLc33AACSAQFAPRk4cKA98cQT1r17d9+z7Tb5ABCPKv9flZKSYjNnzrSCggLXBgAkFwKAetSxY0dbvny5DR061PdEP6sGAPEg2mxlenq6W/KTnZ3tewAAyYYAoAFMnz7dJk2a5FvR19UCQFOKlq+UmZnpBv9dunTxPQCAZEQA0EBGjhxpixYtsrZt2/qebStrAEBTiFaxLD8/3+bMmWOpqam+BwCQrAgAGlC/fv3c2TRV0QhEq60NAI2l8p4lKl4wf/58GzNmjGsDAJIfAUADa9OmjauiMWrUKN8TfXdNAGhI0XYtz8jIcCcpTj75ZN8DAAgDAoBGMnHiRJsxY4Y1a1b2lkf7YwwADSHaSYecnBxbtmyZdejQwfcAAMKCAKARDRkyxJ1t69Spk+/ZdjoeAOpTtGWHhYWFNm3aNN8CAIQNAUAj69q1qwsCBg0a5HuiJ+QBwPaqXHigXbt2VlxcbCNGjPA9AIAwIgBoAi1atLC5c+fauHHjfE/0knwAUBfRSg+rGIFOPvTt29f3AADCigCgCY0dO9bmzZvnqnBItE15AKA2om0+OHr0aFeMIC0tzfcAAMKMAKCJDRw40J544gnr3r2779l2W34AiEXl/ztSUlJs5syZVlBQ4NoAAAgBQBzo2LGjLV++3IYOHep7op/FA4Boos0epqenuyU/2dnZvgcAgDIEAHFk+vTpNmnSJN+Kvo4XACJFyx/KzMx0g/8uXbr4HgAAfkAAEGdGjhxpixYtsrZt2/qebSt5AIBEqyCWn59vc+bMsdTUVN8DAEBFBABxqF+/fu7snap2BKLV8gYQXpX3EFExgXvuucfGjBnj2gAAVIUAIE61adPGVe0YNWqU74m+myeAcIm2i3hGRoY7aTBgwADfAwBA1QgA4tzEiRNtxowZ1qxZ2UcV7Y8/gHCIdhIgJyfHli1bZh06dPA9AABUjwAgAQwZMsSd3evUqZPv2Xb6H0Byi7YMsLCw0KZNm+ZbAADEhgAgQXTt2tUFAYMGDfI90RMAASSfyoUA2rVrZ8XFxTZixAjfAwBA7AgAEkiLFi1s7ty5Nm7cON8TvQQggOQQrRSwigPoZEDfvn19DwAAtUMAkIDGjh1r8+bNs1133dW1o20CBCCxRdsMcPTo0a44QFpamu8BAKD2CAAS1MCBA91ZwO7du/seswkTJlj//v1dojCAxFX5dzklJcVmzpxpBQUFrg0AwPYgAEhgHTt2tOXLl9vQoUN9T/SzhgASQ7TZvPT0dBfsZ2dn+x4AALYPAUASmD59uk2aNMm3oq8bBhDfouXzZGZmusF/ly5dfA8AANuPACBJjBw50hYtWmRt27b1PdtWDgEQn6JV9MrPz7c5c+ZYamqq7wEAoH4QACSRfv36ubOFqhISiFY7HED8qLynR8uWLe2ee+6xMWPGuDYAAPWNACDJtGnTxlUJGTVqlO+JvnsogKYVbVfvjIwMF8QPGDDA9wAAUP8IAJLUxIkTbcaMGdasWdlHHG2wAaBpRAvKc3JybNmyZdahQwffAwBAwyAASGJDhgxxZxM7derke7ZdbgCgcUVblldYWGjTpk3zLQAAGhYBQJLr2rWrCwIGDRrke6InHAJoeJUT85W0X1xcbCNGjPA9AAA0PAKAEGjRooXNnTvXxo0b53uilxwE0DCileZVsv6KFSusb9++vgcAgMZBABAiY8eOtXnz5tmuu+7q2tE2HQJQv6Jtzjd69GiXrJ+WluZ7AABoPAQAITNw4EC3JKh79+6+x2zChAnWv39/lygMoP5U/t1KSUmxmTNnWkFBgWsDANAUCABCqGPHjrZ8+XIbOnSo74l+lhJA3USbXUtPT3fBd3Z2tu8BAKBpEACE2PTp023SpEm+FX2dMoDaiZZfk5mZ6Qb/Xbp08T0AADQdAoCQGzlypC1atMhVIwlUrlQCIDbRKmzl5+fbnDlzLDU11fcAANC0CABg/fr1c2cnVZUkEK1WOYCqVd5jo2XLlnbPPffYmDFjXBsAgHhBAACnTZs2rirJqFGjfE/03UoBVBRtl+2MjAwXVA8YMMD3AAAQPwgAUMHEiRNtxowZ1qxZ2Vcj2uAGQJloQXJOTo4tW7bMOnTo4HsAAIgvBADYxpAhQ9zZy06dOvmebZc3AGEXbZlcYWGhTZs2zbcAAIhPBACIqmvXri4IGDRokO+JnuAIhFHlRHkl0RcXF9uIESN8DwAA8YsAAFVq0aKFzZ0718aNG+d7opc4BMIiWqlcJc+vWLHC+vbt63sAAIhvBACo0dixY23evHm26667unawyZGWBQFhoc3yFPxGbpY3evRolzyflpbmewAAiH8EAIjJwIED3ZKg7t27+x5zicFKEFaiMJDMJkyYYP3797cNGza4dkpKis2cOdMKCgpcGwCAREIAgJh17NjRli9fbkOHDvU95qqfVD4rCiSLYLYrLy/P95ilp6e7YDg7O9v3AACQWAgAUGvTp0+3SZMm+Za5KiiV10UDiS5avktmZqYb/Hfp0sX3AACQeAgAUCcjR460RYsWueongcqVUYBEFa3iVX5+vs2ZM8dSU1N9DwAAiYkAAHXWr18/dzZUVVAC0WqjA4mk8p4XLVu2tHvuucfGjBnj2gAAJDoCAGyXNm3auCooo0aN8j3Rd0cF4l20Xa8zMjJckDtgwADfAwBA4iMAQL2YOHGizZgxw5o1K/tKRRtMAfEqWtCak5Njy5Ytsw4dOvgeAACSAwEA6s2QIUPc2dJOnTr5nm2XUwDxJtqytcLCQps2bZpvAQCQXAgAUK+6du3qgoBBgwb5nugJlUA8qJy4rqT24uJiGzFihO8BACD5EACg3rVo0cLmzp1r48aN8z3RSyoCTWXNmjXblK5VMvuKFSusb9++vgcAgOREAIAGM3bsWJs3b57tuuuurh1sqqRlQUBTWbBggQtGIzevGz16tEtmT0tL8z0AACQvAgA0qIEDB7olQd27d/c95hKDlSCsRGGgMU2YMMH69+9vGzZscO2UlBSbOXOmFRQUuDYAAGFAAIAG17FjR1u+fLkNHTrU95irtlL5LCzQUILZp7y8PN9jlp6e7oLT7Oxs3wMAQDgQAKDRTJ8+3SZNmuRb5qquVF6HDdS3aPknmZmZbvDfpUsX3wMAQHgQAKBRjRw50hYtWuSqrQQqV2IB6ku0ClT5+fk2Z84cS01N9T0AAIQLAQAaXb9+/dzZ12OPPdb3RK/FDmyPyntQtGzZ0u655x4bM2aMawMAEFYEAGgSbdq0sQceeMBGjRrle6LvxgrUVrRdqDMyMlzQOWDAAN8DAEB4EQCgSU2cONFmzJhhzZqVfRWjDd6AWEULInNycmzZsmXWoUMH3wMAQLgRAKDJDRkyxJ2d7dSpk+/ZdvkGUJNoy8gKCwtt2rRpvgUAAIQAAHGha9euLggYNGiQ74mewAlEUzmRXEnmxcXFNmLECN8DAAACBACIGy1atLC5c+fauHHjfM8PJRwVDACVrVmzxnr16lWhlOxxxx1nK1assL59+/oeAAAQiQAAcWfs2LGuWsuuu+7q2trEScuBtCwICCxYsMAFh48++qjvMRs9erQtXLjQ0tLSfA8AAKiMAABxSdVatCSoe/fuvsdcYrAShJUojHCbMGGC9e/f3zZs2ODaKSkpNnPmTCsoKHBtAABQNQIAxK2OHTva8uXLbejQob7HXHUXnfVVtReEj2aDBg8ebHl5eb7HLD093QWL2dnZvgcAAFSHAABxb/r06TZp0iTfMlflRdVeItd9I/kF+SBFRUW+xywzM9MN/rt06eJ7AABATQgAkBBGjhxpixYtctVdApUrvyB5RasIpWTxOXPmWGpqqu8BAACxIABAwujXr58723vsscf6nui135FcKu8J0bJlS5ckrmRxAABQewQASCht2rSxBx54wEaNGuV7ou/+isQXbVfojIwMFwQqSRwAANQNAQAS0sSJE23GjBnWrFnZVzjaYBGJK1pQl5OTY8uWLbMOHTr4HgAAUBcEAEhYQ4YMcWeDO3Xq5Hu2XS6CxBNtWVdhYaFNmzbNtwAAwPYgAEBC69q1qwsCBg0a5HuiJ4wiMeTm5lZI7FbSd3FxsY0YMcL3AACA7UUAgITXokULmzt3rqsKEwhKRioYQPxbs2aN9erVy26++WbfY3bcccfZihUrrG/fvr4HAADUBwIAJA1VhVF1mF133dW1tWmUlgNpWRDi14IFC1yw9uijj/oes9GjR9vChQstLS3N9wAAgPpCAICkouowWhLUvXt332MuMVgJwkoURnyZMGGC9e/f3zZs2ODaKSkpNnPmTCsoKHBtAABQ/wgAkHQ6duxoy5cvt6FDh/oec9VkdJZZ1WXQ9DQ7M3jwYMvLy/M9Zunp6S54y87O9j0AAKAhEAAgaU2fPt0mTZrkW+aqyqi6jKrMoOkE+RlFRUW+xywzM9MN/rt06eJ7AABAQyEAQFIbOXKkLVq0yFWTCajKTGSlGTSeaBWalLw9Z84cS01N9T0AAKAhEQAg6fXr18+dXT722GN9T/Ra82hYlfdoaNmypUvaVvI2AABoPAQACIU2bdrYAw88YKNGjfI90XebRf2LtktzRkaGC8qUtA0AABoXAQBCZeLEiTZjxgxr1qzsqx9tcIr6Ey3IysnJsWXLllmHDh18DwAAaEwEAAidIUOGuLPPnTp18j3bLk/B9ps6deo2y6wKCwtt2rRpvgUAAJoCAQBCqWvXri4IGDRokO+JnqCKusnNzbULLrjAt8wlYRcXF9uIESN8DwAAaCoEAAitFi1a2Ny5c10VmkBQolLBAGpvzZo11qtXL7v55pt9j9lxxx1nK1assL59+/oeAADQlAgAEHqqQqNqNLvuuqtra5MqLQfSsiDEbsGCBS54evTRR32P2ejRo23hwoWWlpbmewAAQFMjAABKqRqNlgR1797d95hLDFaCsBKFUb0JEyZY//79bcOGDa6dkpJiM2fOtIKCAtcGAADxgwAA8Dp27GjLly+3oUOH+h5z1Wt0VlvVbLAtzZYMHjzY8vLyfI9Zenq6C6ays7N9DwAAiCcEAEAl06dPt0mTJvmWuSo2qmajzcPwgyBfoqioyPeYZWZmusF/ly5dfA8AAIg3BABAFCNHjrRFixa56jWB888/310QvWKSkqnnzJljqampvgcAAMQjAgCgCv369XNns4899ljfY24WoHJt+7CpvGdCy5YtXRK1kqkBAED8IwAAqtGmTRt74IEHbNSoUb4n+u62YRBt1+SMjAwXJCmJGgAAJAYCACAGEydOtBkzZlizZmW/MtEGw8ksWtCTk5Njy5Ytsw4dOvgeAACQCAgAgBgNGTLEne3u1KmT79l2OUwymjp16jbLngoLC23atGm+BQAAEgkBAFALXbt2dUHAoEGDfM8PCbGqipNscnNz7YILLvAtc0nRxcXFNmLECN8DAAASDQEAUEstWrSwuXPnuqo3AQ3+DzvsMBcMJIM1a9ZYr1697Oabb/Y9Zscdd5ytWLHC+vbt63sAAEAiIgAA6khVb1T9Ztddd3VtbYql5UBaFpTIFixY4GY0Hn30Ud9jNnr0aFu4cKGlpaX5HgAAkKgIAIDtoOo3WhLUvXt332MuMVgJwkoUTjQTJkyw/v3724YNG1w7JSXFZs6caQUFBa4NAAASHwEAsJ06duxoy5cvt6FDh/oec9VydBZd1XMSgWYvBg8ebHl5eb7HLD093QU32dnZvgcAACQDAgCgnkyfPt0mTZrkW+aq5qh6jjYPi2fKX1CwUlRU5HvMMjMz3eC/S5cuvgcAACQLAgCgHo0cOdIWLVrkquUEzj//fHeJR0EFo+eee873mEtunjNnjqWmpvoeAACQTAgAgHrWr18/d/ZcVXMCmgWoXEu/qVXew6Bly5YuqVnJzQAAIHkRAAANoE2bNq5qzqhRo3xP9N10m0K0XYwzMjJc0KKkZgAAkNwIAIAGNHHiRJsxY4Y1a1b2qxZt8N2Yli5duk0QkpOTY8uWLbMOHTr4HgAAkMwIAIAGNmTIEHd2vVOnTr5n2+U3jWHq1KnWp0+fCsuQCgsLbdq0ab4FAADCgAAAaARdu3Z1QcCgQYN8zw8JuKrC09Byc3Ptggsu8C1zScrFxcU2YsQI3wMAAMKCAABoJC1atLC5c+e6KjsBDf4PO+wwFww0hDVr1livXr3s5ptv9j3mkpNXrFhhffv29T0AACBMCACARqYqO6q2s+uuu7q2NuHSciAtC6pPCxYscDMMjz76qO8xGz16tEtOTktL8z0AACBsCACAJqBqO1oS1L17d99jLjFYCcJKFN5eEyZMsP79+9uGDRtcOyUlxWbOnGkFBQWuDQAAwosAAGgiHTt2tOXLl9vQoUN9j7nqPDprr5KhdaHZhMGDB1teXp7vMUtPT3fBRnZ2tu8BAABhRgAANLHp06fbpEmTfMtclR5tGqbNw2pD+QQKHoqKinyPWWZmphv8d+nSxfcAAICwIwAA4sDIkSNt0aJFrjpP4Pzzz3eXWAQVhZ577jnfYy7ZeM6cOZaamup7AAAACACAuNGvXz93tl5VegKaBdBsQGTt/soq7ynQsmVLl2SsZGMAAIDKCACAONKmTRtXpWfUqFG+x1w+gM7uR+7eK+vXr99mV+GMjAwXRCjJGAAAIBoCACAOTZw40WbMmGHNmpX9iqoyUORgf+nSpW7/gMigICcnx5YtW2YdOnTwPQAAANsiAADi1JAhQ9zZ/E6dOvmeH5b79OnTp8KyoMLCQps2bZpvAQAAVI0AAIhjXbt2dUHAoEGDfE9Zwm9AScPFxcU2YsQI3wMAAFA9AgAgzrVo0cLmzp3rqvpE6tWrlwsO+vbt63sAAABqRgAAJAhV9dl33319y+yWW25xScMAAAC1QQAAJBCV+AQAANgeBAAAAABAiBAAAAAAACFCAAAAAACECAEAAAAAECIEAAAAAECIEAAAAAAAIUIAAAAAAIQIAQAAAAAQIgQAAAAAQIgQAAAAAAAhQgAAAAAAhAgBAAAAABAiBAAAAABAiBAAAAAAACFCAAAAAACECAEAAAAAECIEAAAAAECIEAAAAAAAIUIAAAAAAIQIAQAAAAAQIgQAAAAAQIgQAAAAAAAhQgAAAAAAhAgBAAAAABAiBAAAAABAiBAAYBsbNmywY445xnbYYYd6vxx44IH22muv+UcCAABAYyMAAAAAAEKEAAAAAAAIkR1KLyVz5syxzMzMsh6E3ubNm+3ZZ5+1TZs2+Z7oXnnlFcvNzfUts6uuusp69+7tW9E1b97cOnfubD/5yU98D2qjW7du9tRTT7ljLaXq0KGDOwYAJJ+lS5danz593LH+vi5ZssQdA7U1d+5cy8rKcsfjx48nAEDdPfbYY5aRkeFbZn//+9/tjDPO8C00BAIAAAgPAgDUl8oBAEuAAAAAgBAhAAAAAABChAAAAAAACBECADSZoqKi8v0Bxo0b5/rWr19v119/ve23336u/+CDD7YrrrjCJRyXlJRss0eB7iMWkY9Vm70I1q1bZ7fddpudfvrp1q5du/L7OPzww93zWrlypX3//ff+1gAAAPGPAABx44033rDBgwfb5ZdfXj5AVzWi/Px8mzZtmn377beurzF89dVXdtNNN9n+++9v5557rt111132zjvv+GvNnnzySfe8unTpYv3797dXX33VXwMAABDfCAAQFz766CMbM2aM/fvf//Y9P1DJ0JNOOsl23HFH39Ow1q5da7///e/t4osvto0bN/reqt1///128skn26OPPup7AAAA4hcBAOLCX//6V/vnP/9pHTt2tHnz5tnXX3/tltZ8+OGHNn36dLcUqDHozP+1117rnkvg6KOPtgceeMA+/fRTtwzpu+++s/fff98KCgqsVatW7jaasbjkkkvcUiUAAIB4RgCAuNG2bVs32B84cKClpqa6tfZt2rRxe1S0bNnS36rhaHCvPTEUjAQuu+wyFwwce+yx9rOf/cz1NWvWzH7xi1/Y6NGj3YyFavPLihUrXP7C559/7toAAADxiAAAcUNr6Q877DDfanxa43/HHXf4ltlZZ53l8hGq27X4kEMOcTMGwW3mz59vTz/9tDsGAACIRwQAiBsaTDfWOv9otLOxLqIBvQKAn/70p65dHVUEUg6AfPHFF7Zw4cJGTVgGAACoDQIAxI199tnHHzU+DdhV0jPQvXt369y5s29VT8HCQQcd5FtllYs+/vhj3wIAAIgvBACICxps77777r7V+JT8+/rrr/tWWT7Czjvv7Fs1iwxelCBMAAAAAOIVAQBQSom7n3zyiW+ZS0Zu0aJF+cZfNV2UvxDQfgZaCgQAABCPCACAUps2bXKzAPVFOxYDAADEIwIAoAF88803/ggAACC+EAAApVJSUqx58+a+ZXbjjTe6fQHqejn99NP9PQEAAMQXAgAkNO3KWx+00VhkEvL69evr7b4BAADiCQEAEpo274rFu+++64+iU8WfyEo+KuUZmRQMAACQLAgAkNB0ll5LbqqjijyvvPKKb0W30047WXp6um+VbQr2/PPP+1b19PhaMnTwwQfbCSecYNdcc02NAQcAAEBTIQBAQklNTbVf/epXvmX2wgsv2Keffupb0T399NO2aNEi36paRkaG7b///u5YQcPkyZNt7dq1rl2dV1991WbNmuVmDbQLsAIHbQ4GAAAQjwgAkFBUm//Xv/61b5nNnz/fDbqrmgV46aWX7Morr7QPP/zQ91Rtv/32szPPPNO3zO677z674oorbOPGjb5nW9r06/LLL68wW3DKKae4nAIAAIB4RACAhNOjRw+3U28gNzfXCgoK7KOPPnKBwPfff28ffPCBTZw40Xr27OmW82in4cifiUaVgM4+++wKm3r97W9/s2OOOcbmzJnjavvr/nXRsfoGDBjgAoWAnsvJJ5/sWwAAAPGHAAAJ58ADD7Thw4f7Vtlyncsuu8z22GMPa9asmRvI//KXv7RLLrnEnb3v1q2bW86jM/w1SUtLs0mTJtnxxx/ve8qWEJ1xxhmuSpDuXxcdq0/XBU499VQ326CEYgAAgHhFAICEo3r9f/jDH2zKlCnWqlUr3xudztD/4x//qLBsqCaaKdCa/ksvvTSmtfx6DkoCnjFjhgsgAAAA4hkBABLSjjvuaOeff76r7jN9+nS3TCcYrHfs2NFGjhxpy5cvt7vuuqvGpT/RaFB//fXX2+rVq+3WW2+1QYMGufsN6Fh9RUVF7jlcdNFFnPkHACSscePG2Q477FAvF83Uv/baa/6eG56W+jbVYycqAgDUWffu3cvXxOuiJTG1odsHP/vcc89VGGDHqnXr1jZ06FB78MEH7fPPP3f3pao8Wsaj5xfs7rvbbrvZQw89VOvH0v2fc845NnfuXHe/wfPVsfqysrLcbQAAABIFAQAAAAAQIgQAAAAAqOCvf/2rLVmypE4X5ej94he/8PeEeEQAAAAAgAq0O37v3r3rdNHGmmyIGd8IAAAAAIAQIQAAAAAAQoQAAAAAAAgRAgAAAAA0qq1bt7rd9LX/gHbfb9euXXktf5Xu7tu3r11xxRW2cuVK+/777/1P1Y9169bZLbfcYv3796/wuAcffLBlZmbanDlz3G1qS69JexLk5eXZ4YcfXn6/eozTTz/d3e+GDRv8rZsWAQAAAAAahQbzixYtsiOOOMIOPfRQu/LKK+2BBx6wd955x9/CbOPGja6aUH5+vnXp0sUN1LX/zvb64osvbMyYMda+fXvLycmxBQsWVHjcZ5991u688063T5Fuo9vqZ2qi/YFWrVplAwYMcAnQEyZMsCeffNJfa+4xtDGp7rdDhw42depU27x5s7+2aRAAAAAAoMHpDPmf//xnGzhwoDv7H6v777/fhgwZYm+88Ybvqb2vvvrKLrvsMrvuuutiGtTrNrqtfkY/WxUN/v/xj3/YUUcd5Z5nTRTcXHDBBXbppZdWe78NjQAAAAAADW7x4sVuyU8wAO/atasVFRW55TbfffedG0zrX7XVr+sDK1assNmzZ7vr6+Lee+91exsEhg8fbs8//7w7Ex/s8v/pp5+6QXzk4+pn9LNVefTRR12QoIG9tGrVyq655hpbvXq1bdmyxd3v119/bf/5z3/shBNOcLeRSZMmuf0SFBQ1BQIAAAAANKhPPvnEbr311vLBf7du3eyOO+6wrKws+/nPf27NmpUNSfWv2uq/++67rU+fPq5fNGug+6mtzz77rMIgXmv0CwsL3V4HP/7xj32v2c9+9jOXj6ClQfo38PDDD0edNXj//ffdYD9YRtS5c2f3s8pd2Geffax58+auPzU11Xr27OmWAV199dWuT8aPH++CoqZAAAAAAIAKtJY9SGKN9XLMMcdUmeT65ptv2vLly33LbMSIEbb//vv7VnR77rmnS54NfPjhh3VKol2/fr299dZbvmV29NFHlw/Oo2nTpo2deOKJdthhh9mgQYPsoIMOsm+++cZfW0Zn9hWgKFdBtPFZQUGBde/e3b0X0SgQuOiii+yss85ybQUVc+fObZKlQAQAAAAAaFBaDjN48GA78sgjrV+/fi7AiEVNQUIstGwocqnNa6+95gbw1VGS8BNPPOEG6Bq0t27d2l9TRoHIQw895Ftmp5xyihv81+SnP/2pex8Cml2ojwTn2iIAAAAAQIPS2XSdIX/kkUdcFaC2bdv6a6qXkpLij8rKd3755Ze+FTud0d933319q2zpjXIMtqcSj5b9KIcgoMBm55139q3qqRKQqiCJZjWeeeYZd9yYCAAAAABQgZJftbylNhetb99ll138PdSNyoRqyc7SpUvdWvpzzjnHX1M2WN60aZNvxU5n3SNnHDR4P/PMM61jx46Wm5trCxcudGf0a5oViKQkXz2fgGr9x2rXXXe1X/ziF75V9nzqmtxcVwQAAAAAqEAJsr17967VRWf5d9xxR38P1dOSnLffftsNvv/0pz/Z73//e7d5ls74a7mNkn+1D4CW62wvrclXUnFkPoFo4H3zzTe76jy77767e3xVKfrvf/9bY3WeDz74wB+VqU3OhAIA5Q8EVEHo22+/9a3GQQAAAACARqGE15tuuslttLXXXnu5wffo0aNt5syZFTbPqm+qLKRZDdXfV8JuNCo1qo3JFPzo+WkfAM1GRFOXpUhV0ewDAQAAAACSjnbLVQWeiy++uLx0ZmWqo6+g4IYbbnAD8vosk6n7vv76693ynVmzZrlk5Kro+Wkn4B49erha/w1JFYa09KkxEQAAAACgQWm5z8iRI+2xxx7zPebW4F9++eVu8y2VCdVGXB9//LH961//sksuucQOPfTQCnX664uWGCkHQMnIekzlL+h5qNxnZVqCpOdSeRfiyDKiSujV61MOQV0uev0tW7b099Y4CAAAAADQYJTgqnKakYP/q666ylauXOmW2WjTLS0H0kZcWiMf6b333vNHDUOPqfwFPQ89HyX2apMwBScBzUT84x//cIP1gPYoCGiZkDYbSyQEAAAAAGgw2r03chnNgAED7MILL4ypbKbO0DcWBR8qGapNyubPn+929g0oEImsQKSdfoNcAs0OKHE4kRAAAAAAoMEoyTWyZKaW2sSy5EUJw/WRGKyZB1X36d+/v9uEK5az9SrrqapGgcqJupoBOOSQQ3zL3HKiWHf01a7EqhrUt29fV/1IwQZlQAEAAJC0NCNQU9UbLbe57777bN68eb6n7rQ+X9V9FixY4JKKYyktqjKgX3/9tW+V5Q1EljhNS0tzCcIBPU8938hlQtHofrUJmYIS5R6o+pF+JnLDs8ZAAAAAAIAGs9tuu9kee+zhW+YG4WvWrPGtbakizgMPPGB5eXn2xRdf+N66U5Jut27d3LFmIrTef+3ata4djQbkSkS+9957fU/Zfey0006+VbZD8RlnnFG+TEjPU8/3oYceqjII0Ou688473Y7IgZNOOqnCJmWNhQAAAAAADUYBwFFHHeVbZs8//7xlZma6QXbkchwdawdgLdNRKdBopULrslRGy3VOOeUU3zJ3pv7EE0+0OXPmVNgBWGfnFZgoQXnYsGHlwYdyFn7729+640gdOnRwFYKCXAA9X202pmpHL7zwQvksh/5VW3kP2nk4uN+2bdu6kqiaXWhsBAAAAABoMEqu1dlyrcEPKAjQ2W/tihu5Q652AFbFINGg+5FHHnF7BwT+97//+aPY6Wz9kCFDXOnPwNNPP+2ek3YAbtasmXv8H/3oR24DMOULBIN0zRyMHz/ebSRWmX7mtNNOcxubBUGAfm7KlCluZkBLhnQb/au2+oP7DfYk6Nmzp2s3NgIAAAAANCitmZ80aZI7m14TDY5vvPFGu+eee6x79+4uITfw0ksv1WkWQAP4qVOnumU6Ve0EXNlZZ53lluzsv//+vmdb2g/g7LPPdsuFunbt6nurp9kNBTaaLVCA0BQIAAAAANDgtOTlrrvusuXLl7tlMpEbb6nuvs7S63pVybnoootcmdDU1NQKA2vlD7z77ru+VTsa+OtsvnYCvvXWW23QoEEV6v0r8NBsg3Yhfvnll23GjBkVgo+qaBCvij6PP/64e23aVEwJwkGgoX/VHjt2rD311FOu6s/BBx/cZIN/0SOXaA2U1mIBiG+aitR/HqIqBlp/CABITloPryUxos2qVDUGqAstq8rKynLHCoKYAQAAAABChAAAAAAACBECAAAAACBECAAAAACAECEAAAAAAEKEAAAAAAAIEQIAAAAAIEQIAAAAAIAQIQAAAAAAQoQAAAAAAAgRAgAAAAAgRAgAAAAAgBAhAAAAAABChAAAAAAACBECAAAAACBECAAAAACAECEAAAAAAEKEAAAAAAAIEQIAAAAAIEQIAAAAAIAQIQAAAAAAQoQAAAAAAAgRAgAAAAAgRAgAAAAAgBAhAAAAAABChAAAAAAACBECAAAAACBECAAAAACAECEAAAAAAEKEAAAAAAAIEQIAAAAAIEQIAAAAAIAQIQAAmtCNN95o99xzj281jNWrV9sFF1xg33zzje8BAABhRgAANKGTTjrJTj31VEtPT7d//vOfVlJS4q/Zfq+99pplZmZax44dbY899rDU1FR/DQAACDMCAKAJtW/f3s4880z773//a6eddprtt99+NmvWLPv+++/9LWrv5ZdftqysLHdfd955p+2666524YUX+msBAEDYEQAATWzs2LG2ww47uOPXX3/dsrOzbf/997cZM2bUKhBQEDFw4EA74IADbO7cub7XbPTo0bbLLrv4FgAACDsCAKCJaRbgrLPO8q0yCgTOPvts69Chg/3tb3+z7777zl+zrWeffdb69+/vlhHNnz/f95bZbbfd3Pp/AACAAAEAEAc0C9Cs2ba/jmvWrLGhQ4e6QODWW2+tkCPw4osv2rHHHmsHH3ywLViwwPdWNGrUKM7+AwCACggAgDgQ5AJU5c0337TzzjvPnn/+ed9jdsopp9hDDz3kW9vafffdOfsPAAC2QQAAxImqZgEiffvtt/6oZqz9BwAA0RAAAHFCswCDBw/2re2js/8jRozwLQAAgB8QAABx5IorrqhxFiAWOvtP3X8AABANAQAQRzQLcMYZZ/hW3ajyz8iRI30LAACgIgIAIM5ceeWV2zULcOmll9pOO+3kWwAAABURAABxRrMA2sm3LnT2n7X/AACgOgQAQBy66qqr6jQLcNlll3H2HwAAVIsAAIhDdZkFYNdfAAAQCwIAIE7VdhYgLy+Ps/8AAKBGBABAnKrNLIDO/ufm5voWAABA1QgAgDgW6yzAmDFjOPsPAABiQgAAxDHNAmRmZvpWdDr7P3z4cN8CAACoHgEAEOeuvvrqamcBtHswZ/8BAECsCACAOFfdLMAee+xhOTk5vgUAAFAzAgAgAVQ1C8CuvwAAoLYIAIAEEG0WoE2bNqz9BwAAtUYAACQIrfXfYYcdfKus8s+Pf/xj3wIAAIgNAQCQIDp27GiDBw92x1r7P3ToUHcMAABQGzqdWDJnzpwaSw3Gk7lz5/ojIFw2btxoI0eOtLPOOst++9vf+l4gXBLp7xWwPZYuXWp9+vRxx71797YlS5a4Y6C2NHYONhcdP358YgYA5557rt12222+BQAIix133NE2bdrkW0ByIwBAfakcALAECAAAAAiRhJ8ByM3Ndf8CAJLXjBkz7JtvvmEGAKHCDADqS9ItAZo3b54NHDjQHQMAklOLFi0IABA6BACoLywBAgAAAEKMAAAAAAAIEQIAAAAAIEQIAAAAAIAQIQAAAAAAQoQAAAAAAAgRAgAAAAAgRAgAAAAAgBAhAAAAAABChAAAAAAACBECAAAAACBECAAAAACAECEAAAAAAEKEAAAAAAAIEQIAAAAAIEQIAAAAAIAQIQAAAAAAQoQAAAAAAAgRAgAAAAAgRAgAAAAAgBAhAAAAAABChAAAAAAACBECAAAAACBECAAAAACAECEAAAAAAEKEAAAAAAAIEQIAAAAAIEQIAAAAAIAQIQAAAAAAQoQAAAAAAAgRAgAAAAAgRAgAAAAAgBAhAAAAAABChAAAAAAACBECAAAAACBECAAAAACAECEAAAAAAEKEAAAAAAAIEQIAAAAAIEQIAAAAAIAQIQAAAAAAQoQAAAAAAAgRAgAAAAAgRAgAAAAAgBAhAAAAAABChAAAAAAACBECAAAAACBECAAAAACAECEAAAAAAEKEAAAAAAAIEQIAAAAAIEQIAAAAAIAQIQAAAAAAQoQAAAAAAAgRAgAAAAAgRAgAAAAAgBAhAAAAAABChAAAAAAACBECAAAAACBECAAAAACAECEAAAAAAEKEAAAAAAAIEQIAAAAAIEQIAAAAAIAQIQAAAAAAQoQAAAAAAAgRAgAAAAAgRAgAAAAAgBAhAEDc++abb2zYsGG2ww47uIuO1VdZUVFR+W0OPPBAe+211/w1dbNhwwY75phjyu9z3Lhx/hpU57HHHqvXzyEMYv2OAwBQHwgAEFpvv/22TZgwwT755BPfAwAAkPwIABA6X331ld100012yCGH2H/+8x/7/vvv/TUAAADJjwAAoXPjjTfaxRdfbBs3bvQ9AAAA4UEAgKRxxhlnWElJibs899xz1rFjR39N3ey222720EMPld/nFVdc4a8BAABIXAQAAAAAQIgQAAAAAAAhQgAAAAAAhAgBQBPZunWrq5d+4YUX2uGHH15e/3u//fazzMxMu/POO+3zzz/3t66Z1qj/73//s5tvvtlOPPFEt35d9/fTn/7Uevbs6davP/300+5xaxJZx1118FUPX1SX/N///rf9/ve/d88zuP8jjzzSCgoK7N1333W3qw3d9y233FLhOeu+//jHP9orr7ziXlesqtsHIPI1XXnllb7X7OGHH7bdd9+9/DrdR6Cu+wCsW7fO5syZY6effrq1a9eu/Of1OevzXrp0aUw13is/vl6DqGrRiy++6D7TyO/OwQcf7O7/iSeeqHVlI30v9P3Qazz++OMrPG99Ln379nWPt3LlyriomqTfDf2O6Hcl+C7qErzHeq9i+a4H6vP3p7L6/I5XFnwX9Lnp91DPN/jM9Hh6Pe+//76/NQAAPygpHayU/g1KHOecc47+YrrLvHnzfG9iKP2DXVJcXFzStWvX8tdQ1aVjx47us9myZYv/6ehKB5wll156aclPfvKTqPcTeTnhhBNKSgdx7nlUZfny5eW3P/roo0s+/vjjktJBZY3PuVWrViVTpkwp2bRpk7+nquk16bXpNUa7L130ekoHNiWlA6iSnJyc8n4df/311/6efvD3v/+9/DadO3cuefXVV/01FV9TdRfdR0CvW68/uO7aa6/110T35Zdfltx4443ufYi8z2gXvZePPPJIyXfffed/eluVH1+vQZ/12WefXeG+ol10mw8//NDfU9X0+HoesXwfg4u+Q6UDV38P24p8ryt/DttLn3us77Ge57PPPut/smr1/fsTaIjveKS33nqr5Kyzzqpwf9Eueoy8vLyS0qDJ/2RiSk1Nda9nxx139D1A8luyZEn573Lv3r19L1B7+nsUfJfGjx9fwgxAI9LZw6lTp9rJJ5/szibWRGews7Ky7M9//nOVZx5XrVplAwYMsBtuuMG++OIL31u1+++/34466ij7xz/+EfOZx8WLF9ugQYNqfM4qq3nBBRdYYWGhlQ4sfe+2Nm/ebBMnTnSvrbpdYvV6dOZVZTv1M/HsnXfesTPPPDPm8qJ6LwcOHFjtZ1vZBx98YOedd57dfvvtvqdquk1ubq6tX7/e92xLj6vH1/OI5fsY0HdoyJAh9sYbb/iexqHXUjowjvk91vPU75r2eqhKQ/3+NPR3/NFHH3WzQ7NmzfI9VdNjXHfddXbOOefY2rVrfS8AIOyYAWgEOmNYVFRU4SyjzmJOmDCh5O233y4/E1w6sCkpHbxVOGuon5k7d667PtLLL79c0q1bt/Lb6aIzlKUDnvKzhzoLuXr16pJRo0Zt89gLFixwt6ks8gyufqZ169buWM9Jz01npvV69JzXrFmzzX3vv//+JS+++KK/t4r0c7Nnzy6/beT96rWLnvMLL7xQ5dnNuswARNKZ/OB2wQxHNLHOAHz00Ucl/fv3L7+dLjqjXjpYLPn000/dbfRevf/++yUFBQUVzl7rfZs8eXLUM8qVH3+PPfYo/xm95/pcg9mhaN8bXW699VZ3fTQPP/xwhc9Nz1nfUZ0RD76P+ldt9VeeJSgduJaUBhHudpEaYgZAsyulAU2Fx9fzueeee8q/N1V9H/U78vrrr7vbRGqo35+G/I5L5eet51UaeJc8//zzJaVBhLuN/lW78v3rPdR7mYiYAUAYMQOA+lJ5BqD0XwKAxqDp+u7du5c/b/0Bf+aZZ/y126r8R/6kk04qWbt2rb+2bCmE/ugH1+ty3XXXVbn8RoOSBx54oKRt27blt9fz0fOqLNpyGQ1w33vvPX+LijSYKSwsrHB7LdOIRoNBDQqD2+k5VDVA1P1qcBw58NIlngIADYA1qA9uo8vw4cOrXW6hzz3ys9Vn8vTTT/trf1D58YPbaglZtIBBHn/8cReABbf/3e9+Vx6ERNJA9NRTTy2/nZ6PvnPVeeedd0r69OlT/jPHHHNMyfr16/21P2iIAODee++t8D0477zz3LKZaPTeVA629bsRGaw05O9PQ37HP/vsswqDej2fu+66qzxgq0z3ryAw8v5vueWWKr8/8YwAAGFEAID6whKgJlI6aCtP4iz9Y2ylg0k75JBDXDua0kGcXXLJJb5lVvqfgP33v//1LXPHpcGPb5lLKNTSiNI/jr6nIiUGasmAlgLo8UXP55577qlxKZCei57vL3/5S99TUfPmza10oOmSEANa9lA50VWPs3DhQnv++eddu3Tw4pZedKxiwy7dr5a8DB061PfEHyU+R34OpYNqK/3FKn+Po9Hnrtet1y9aPjR79uyYloCMGTPGSgfh7vOM5tBDD3WfRUDLdD766CPf+sGbb75ppQN13zIbMWKE+5yrs+eee7rE5sCHH37oElwb2ldffWWlAUD5Eh29/quuuspatWrl2pXpvTnllFNcsnpAy9jWrVvnWw33+9PQ33H9PzB//nzfKvs+6PNu1iz6f+W6/+zsbPf5BkoDhqjfCQBAeBAANILPPvvM7Sgb0OCke/fuvlU1VTQ54YQT7KSTTrLRo0e7ajXy3XffubXIGoCJBm4a7FQ1eAloEKP705rnwCOPPFLjIE5rnqsawARUdaRTp06+VVb55Ntvv/WtMqrcogo1gf79+1uXLl18Kzq9Jr22mganTUUDyxUrVrhjDQy1Rr1ly5auXR19/tq5OKB16m+//bZvRdetWzcXZFU1+JeUlJQK76kGvV9++aVv/WDLli02ePBgd3/9+vWzjIwMf031muJzePXVV121poDet6qC0YC+N/q9UbClfAV913784x+76xry96chv+MKqB988EELAiF9dno+1X0fREGAArd9993XtRctWlSrnA8AQPIhAGgEGmhEJgIedthhtvPOO/tW1fbYYw/717/+Zffdd59LFOzcubPr14BO5QMDKlO49957+1b1VCbwiCOO8C1zZyp1Bro6GkTVNDjS4Cpy4KtBSuXkVj1OcGZUdLa6pvsVnXmuaRDVFBTgvPTSS75VNqgPPqOaaFDWu3dv3yr7HKpLFhUFWGlpab5VNQVjAX33Nm3a5Fs/0HdQpVs1gNWAMJiNqIkCjEBVwUV903scDNY1iO3atas7rokCm2eeecZmzJjhktOD96Uhf38a8juu9ztyFrBXr17Wpk0b36qePt/I7+aTTz5ZbaI+ACC5EQA0gsp/uH/zm9/4o7pRNZS33nrLt8ydnU9NTfWtmmkgECxj0MBq9erV7rgqqglfH1SBJKgco8ffZ5993HFNdNvg7GU80dKU119/3bfKziRrgBirvfbaq8IysMhgIhqd9a7N51wfvv/+e/d9094FCkJVSSZQVXBRn7SkRsuVAhqo13T2vyYN+fvTkN9xPVbk/yP6/tR09j+g1/erX/3Kt8zee+89+/rrr30LABA2BACNQBsMBTR4CJby1JWWFKkkZKB169b+KDY6Ux95xvPTTz/1R9FFnvXdHpFrsPX4sSyVCcR6hrYxabnHJ5984ltl72uwzCQWun3kd0GzJtWdldXnEOuAr7Y0W6MlSFq//qc//cktSdESND2mvl9ad5+fn1/jLEV9U4ARuV5dwWiLFi18q24a8venIb/juu9g+Y9oCZe+D7FcNAtx0003+Z8su6/KS/QAAOFBAJCANCgKlkRI5Jm9uogctDSkxnqcxqLPQbMAgViX0VRl48aNjT4o0/PXwLB9+/bujLLWlCvfZObMmW6ZSDJqyN+fhvyORw7+t5fuqzGWbwEA4hMBABBS2gTr6KOPdtVvqsoDUaUdBQWqZKNkZyU9I/Gp4pQSwQEA4UQAkIAqrxeOXGJUF421vKa2Sy3inT6HyCUeNSVT16Qx1/hruc/IkSPLS9OK1sJffvnlrkKO1t1racvHH3/sEtFVklYJrbVZ4hSvGvL3pyG/40ocD6hAgBKclSNRl4t+VrM+AIBwIgBoBJGDAlUI0aBqe2gNdGSyaW2XHWjdemRipQZEjSHyfdDjR66fr0k8Lh/SYD2ympNeT22W8Oj2kd+FXXbZxR81LOUZzJ07t8LgX3X1V65c6ercH3/88W450M9+9jO3fjySkkcbkwKOyHr/Cly2N3m1IX9/GvI7/n//93/+qCwhWEvGAACoCwKARqDSjZFnHNesWeOPqqczddqAS2UKMzMz7bbbbnO1wH/+85+7AVog2qZb1VEQEqwn1pnE7a2qEqvI90GPH1kusToaVG/vWdqGoMF/hw4dfMtcaUklBsdKlWg06A7EWjFme2lQ+uijj/qWubr2F154YUylaWtKGK9vSkKOzK1Q8q6q+MRCtzvxxBPdPhbnn3++q2QkDfn705Dfcd13ZNUoLcnS/xEAANQWAUAjqFyDW7t5RiaPVkWDreeee86WLVtmd955pwscdEZUZy8j70+DucgzktXRAPXxxx/3rbKqRNubvBqraLXIY3kf3n///QrPOV7os4gckOmMeqwDPlXdCQakovelps3W6os2ropMgj3ooINiqlajz6opEoNVH18DbVEZzMiZi+oEAZb2OfjrX/9avua9IX9/GvI7rgDg17/+tW+VbR4X646+Cvq0S3XlkwkAgHAiAGgEGnCopGJAu5oGu8dWR7t1avAS0OZNQSnI3/72t+WDIp151gCnpoGGzhZqfff8+fN9T9kuv5EbRzUkLSk55phjfMts3rx5FV5fNBoo33XXXTG9X01Bm0Jph17RGd/Jkye7WvA10SC2qKjIt8o2daqv/RZqS4PDmpYu6bujDen0mTU2rbHXdz+g729NA199b/R8g0BHn1MwW9OQvz8N+R3XUiN9TwK631mzZrmfr46et8q73n333eUnE1QKdaeddvK3AACEDQFAI9CAY+DAgW6nWNGgJC8vz1588UXXjkYbTF1//fXlSw1OOumkCoMg7Qp7yimn+Ja5AUxhYaGr7hGNBgEPPfSQe9zgPjVw1RKJyuu8G5IeT69F9DwuvfTSCstRImkTKg1Wxo8f73vqR+Q6bb1fVb1nsdAOrpGfgwad11xzTfl7HI3OSut1B0nDOmt82mmnxbRjbH3QgDUY/Ioq+1S3LE2fwwMPPFDhu9OYNDuRnZ1dvtZeg1ktjavquei7rkG6dgAOqJJR5Br6hvz9acjveOR9i37ujjvuqDII0PPWjOPYsWN9T9mshfI8GvP3HgAQXwgAGokGebm5ueWDGJ3t+93vfufOGOtspv5Q66LlGRq46I+8/nCLflalGiMHrkpA1f0FZ59FgxPdpwYbwfS+BgYa3KmKy+mnn14+6NTzUBWYxq4Eoteg1xIsm9D6a61BnzhxYvn7oEGRlmRo4KTXWN+DzshkWy3D0eBPya1672tbG10zMmeddZb179/f95jdfPPN1q9fPzdQ1ZlW0WvS+nW9Tp19jjzbO3z48AqfY0NTAKAz1wEtW9KyEFX7CZ6v6Fjvjzac0gA6WpWj6jYuq09HHnmknXnmmb5V9h5rScuDDz5YfuY+8ruuHYuDs//6bM4++2z3WQUa8venIb/jle9bP3fuuee67+Dy5cu3ed7jxo1z71Pk89ZricxdAQCEU8mcOXNK/yYljtI/7sp8c5d58+b53vi3ZcuWktIBf0npH+Hy51/TRbctKioqKR0w+Hup6L///W9J6SAm6s9WdWnVqpW7z9LBm7+XikoHEhVur3Ysrr322vKfOfroo0s+/vhjf01Fei1z5851zyPycaq6lA52Sk477bTydk5OTsnXX3/t7+0Hf//738tv07lz55JXX33VX1PRM888U7LHHnuU3zbyctVVV5W/13r+eh3BdXp9VSkNIEpKB5oV7qumiz7bG264oWTTpk3+XiqqzeNHiuXzKx2I1vr5lgYuJY888kiF56T3vLLIx6/uc6itdevWlZQGAeX3HctFvxsvv/yyv4dtNcTvjzTUd1x03w888ID7mcj7qOmi71tBQYH7fygRlQZt7nXsuOOOvgdIfkuWLCn/He7du7fvBWpPY/3guzR+/PgSZgAakep4qxrJvffea127dvW9VdNtdFudna1quv43v/mNu815551XPrtQHZ3JLR3Eufts1qxpPn69Fp1N1Rnnmt4HJcZOmzbNLX2oL1oCoao30SgZsy7JkaoEM3v2bLviiisqlK2sil73PffcY6NGjWq0pT+RlFA6adIkd2a6Jno9N954o3u+WsYWmavw0ksvNdosgKr3TJ8+3T2XWN5jnRX/5z//afvvv7/v2VZD/f405Hdc933ssce6563nE4vg+/bHP/6xwn4CAIBwIgBoZPrj3bdvX1fBQ8nAmv5XFZaABgNDhgxx1+k2um1Vg/9AmzZt3MDohRdesJtuuskNCoIBkgY1Wo6iNdOqoKI16gcffHCN99nQ9PhKzAzeB63xDpY16LnrNShJ9qmnnnJJlfX5fDUA0kBIa7q1PCJyMKlSjHWtjqL3Wu+zkkpvvfVWt64/eE2iHA5ttLV8+XJX8UXLWpoqCBM9NyWf6vloOUu076GuVzWdiy66yJUJ1dKZyAGt8gfeffdd32p4enw9l+reY61313ddS+l+9atf+Wuq1lC/Pw39HT/wwAPd89Hz0vPTrs6R32W9F/pctZRQz6Gpv28AgPihvziaFnBntBKF1ryqjJ2oyoYSbAEAyUsbuCk414zZpk2bfC+Q3JSH1adPH3fcu3fv8txAoLa0AWhWVpY7VgEJTgcBAAAAIUIAAAAAAIQIAQAAAAAQIgQAAAAAQIgQAAAAAAAhQgAAAAAAhAgBAAAAABAiBAAAAABAiBAAAAAAACFCAAAAAACECAEAAAAAECIEAAAAAECIEAAAAAAAIUIAAAAAAIQIAQAAAAAQIgQAAAAAQIgQAAAAAAAhQgAAAAAAhAgBAAAAABAiBAAAAABAiBAAAAAAACFCAAAAAACECAEAAAAAECIEAAAAAECIEAAAAAAAIUIAAAAAAIQIAQAAAAAQIgQAAAAAQIgQAAAAAAAhQgAAAAAAhAgBAAAAABAiBAAAAABAiBAAAAAAACFCAAAAAACECAEAAAAAECIEAAAAAECIEAAAAAAAIUIAAAAAAIQIAQAAAAAQIgQAAAAAQIgQAAAAAAAhQgAAAAAAhAgBAAAAABAiBAAAAABAiBAAAAAAACFCAAAAAACECAEAAAAAECIEAAAAAECIEAAAAAAAIUIAAAAAAIQIAQAAAAAQIgQAAAAAQIgQAAAAAAAhQgAAAAAAhAgBAAAAABAiBAAAAABAiBAAAAAAACFCAAAAAACECAEAAAAAECIEAAAAAECIEAAAAAAAIUIAAAAAAIQIAQAAAAAQIgQAAAAAQIgQAAAAAAAhQgAAAAAAhAgBAAAAABAiBAAAAABAiBAAAAAAACFCAAAAAACECAEAAAAAECIEAAAAAECI7FB6KZkzZ45lZmaW9SSAc88912677TZ3PG/ePNtzzz3dMQAgOfXs2dO++eYb23HHHW3Tpk2+F0huS5cutT59+rjj3r1725IlS9wxUFtz5861rKwsdzx+/PjEDwAAAOFBAIAwIQBAfakcALAECAAAAAiRhJ0BeOedd3wLCI+nnnrKPv/8c3d8xBFHWIsWLdwxECaPPPKIPwKSGzMAqC9JsQQICKtu3bq5IEBee+0169ChgzsGACQfAgDUF5YAAQAAACFGAAAAAACECAEAAAAAECIEAAAAAECIEAAAAAAAIUIAAAAAAIQIAQAAAAAQIgQAAAAAQIgQAAAAAAAhQgAAAAAAhAgBAAAAABAiBAAAAABAiBAAAAAAACFCAAAAAACECAEAAAAAECIEAAAAAECIEAAAAAAAIUIAAAAAAIQIAQAAAAAQIgQAAAAAQIgQAAAAAAAhQgAAAAAAhAgBAAAAABAiBAAAAABAiBAAAAAAACFCAAAAAACECAEAAAAAECIEAAAAAECIEAAAAAAAIUIAAAAAAIQIAQAAAAAQIgQAAAAAQIgQAAAAAAAhQgAAAAAAhAgBAAAAABAiBAAAAABAiBAAAAAAACFCAAAAAACECAEAAAAAECIEAAAAAECIEAAAAAAAIUIAAAAAAIQIAQCAqL7//nt77rnnfAsAACQLAgAAFWjgP3fuXDvggAPsvffe870AACBZEAAAcCIH/llZWZaammonnHCCvxYAACQLAgAg5CoP/F999VXXf+2117p/AQBAciEAAEKqqoG/HHTQQZz9BwAgSREAACFT3cA/cM011/gjAACQbAgAgJCIZeAvhxxyiJ144om+BQAAkg0BAJDkYh34B66++mp/BAAAkhEBAJCkajvwF9b+AwCQ/AgAgCRTl4F/gLP/AAAkPwIAIElsz8BfdPb/pJNO8i0AAJCsCACABLe9A//AVVdd5Y8AAEAy26H0UjJnzhzLzMws6wEQt7p162ZPPfWUO37llVds1apVNm7cuDoP+gN77LGH5eTk+BYAIF4ESzN79+5tS5YsccdAbelEoU4Syvjx4wkAgEQSGQC0bdvW3nnnHXcMAEhuBADYHpUDAJYAAQlqy5Yt/ggAACB2zAAACSRyBuDll1+25cuXu11733//fddXVywBAoD4R64W6oolQEACiwwAXnvtNevQoYNt3brVbr/9drvuuuu2a0nQvffea/379/ctAACQLFgCBCSZ5s2b29ChQ2316tV2yy23WLt27fw1taOZBAAAkPwIAIAkoUDgvPPOszfeeMP+9re/2V577eWvic2zzz5rCxYs8C0AAJCsCACAJKNA4Nxzz3WBwK233mp77723v6Zm7AQMAEDyIwAAklRKSoqdc8459vrrr9ttt90WUyCgWYCFCxf6FgAASEYEAECSUyBw9tlnu0BAycK/+tWv/DXRXXnllf4IAAAkIwIAICQUCPz+97+3t956y2bMmGHt27f311Sk3YWZBQAAIHkRAAAho0BgyJAhrozozJkzbd999/XX/OCKK67wRwAAINkQAAAh1axZM8vOzrZXX33V7rjjjgozAsoFeOihh3wLAAAkEwIAIOQUCJx11lluRmDWrFluczHJy8tz/wIAgORCAADAUSBw5pln2iuvvGKzZ8+2r7/+2h588EF/LQAASBYEAAAqUCAwePBge/nll+2Xv/yl7wUAAMmCAABAVAoE0tPTfQsAACQLAgAAAAAgRAgAAAAAgBAhAAAAAABChAAAAAAACBECAAAAACBECAAAAACAECEAAAAAAEKEAAAAAAAIEQIAAAAAIEQIAAAAAIAQIQAAAAAAQoQAAAAAAAgRAgAAAAAgRAgAAAAAgBAhAAAAAABChAAAAAAACBECAKAJPffcc/6oYb311lv2zTff+BYAAAgzAgCgCT377LPWtWtXe/DBB31P/Xr33XftnHPOsWHDhllqaqrvBQAAYUYAADShM88809atW2fHHXecHXHEEVZcXOyv2T7vv/++G/S3b9/ebr/9drvmmmv8NQAAIOwIAIAm1Lx58/LB+RNPPGFHHnmk9ezZ05YvX+76auvDDz+04cOH21577WXTp0+3LVu2WL9+/eywww7ztwAAAGFHAAA0scGDB9uee+7pW2bLli2zHj162FFHHWXPPPOM763exx9/bBdffLHtvffeNm3aNDfwD+Tn5/sjAAAAAgCgyUXOAkRatGiRyw844YQTXK5ANBs3brRLLrnEBRA33XSTbdq0yV9Tpm/fvpz9BwAAFRAAAHGg8ixApIULF9rBBx9sJ598sn399de+1+wvf/mLtWvXziZOnFhlhZ/x48f7IwAAgDIEAEAcqGoWINJ9991nL774om+Z3XzzzfbFF1/41rZ69+7N2X8AALANAgAgTlQ3C1AXV199tT8CAAD4AQEAECc0C1Bfg3ad+e/Vq5dvAQAA/IAAAIgj2hdAJTy314QJE/wRAABARQQAQBzRLMDYsWN9q2509l/r/wEAAKIhAADizFlnnbVduQDU/QcAANUhAADijGYBrrzySt+qHZ39186/AAAAVSEAAOJQdnZ2nWYBxo0b548AAACiIwAA4lBdZgF09v/II4/0LQAAgOgIAIA4VdtZgGuvvdYfAQAAVI0AAIhTtZkF0Nn/o446yrcAAACqRgAAxLFYZwGuueYafwQAAFA9AgAgjmkW4IorrvCt6HT2/7e//a1vAQAAVI8AAIhzQ4YMqXYWgLP/AACgNggAgDhX3SzAoYceytl/AABQKwQAQAKoahaAs/8AAKC2CACABBBtFkBn/4855hjfAgAAiA0BAJAgVBGobdu2vmV29dVX+yMAAIDYEQAACeJHP/qRjRkzxh0fdNBBduyxx7pjAACA2iAAABKIZgF+8Ytf2Lhx43wPAABA7RAAAAnkxz/+sc2cOdOOP/543wMAAFA7BABAgjnqqKP8EQAAQO3tUHopmTNnjmVmZpb1AGhSX375pb366qu2evVqe+edd+zDDz+0jz/+2D7//HP75ptvbOvWrdasWTPbcccdbZdddrFWrVpZmzZt7P/+7/9s7733to4dO9ovf/lLf28AACDs5s6da1lZWe54/PjxBABAU/vkk0/s0Ucftccff9yeeeYZN/jfXq1bt7ZDDjnEunXrZj169LD99tvPXwMAAMKGAACIA59++qktWLDAHnjgAVu2bJnvbTjt27d3ewaceOKJ9pvf/Mb3AgCAMKgcAJADADSiFStW2IUXXmgHHHCAXX755Y0y+BctJ5oyZYodffTRNmDAAPvHP/7hrwEAAGFDAAA0gkWLFtmgQYNs4MCBdvfdd/vepvHUU0/ZxRdfbF27drVp06ZZSUmJvwYAAIQBAQDQgDTYPuOMM1z9/sY62x+rDz74wO0ncOihh9qsWbN8LwAASHYEAEAD+OKLLywvL88tt1m6dKnvjU8KBLQcqX///vbEE0/4XgAAkKwIAIB69q9//ct69+5td9xxh+9JDKpA9Lvf/c4lBwEAgORFAADUoyuuuMKGDRtmH330ke+pX6r/r92Amzdv7nvq31//+ldXLeill17yPQAAIJlQBhSoB9qw6w9/+INb87+9dtppJ+vSpYt16tTJOnToYO3atbM99tjDdtttN2vRooW/ldmWLVtcOdG1a9fa//73P3vjjTfs5ZdftlWrVtn777/vb1V3CjJuvPFGO+WUU3wPAABIROwDANQzbeCVm5tr69ev9z21t9dee7k6/X379rUjjjjC99adyn4q9+Df//63PfbYY763bkaPHu2CGwAAkJjYBwCoRwsXLrRTTz21zoN/lQVVTf7ly5fb2LFjqx38b9261Z3x12Nt3LjRvvnmG3/NtrTx17nnnmt33XWXC1BU9rNNmzb+2tqZOHGiXXnllb4FAAASHTMAQB3Nnz/fLrjgAt+qnXPOOccN0Pfcc0/f8wPV5X/yySfdUh4t6VmzZo2999579sknn/hb/CA1NdUtD9IMQseOHa1z586urGfr1q39LSpSuc/p06fb22+/7Xtip3KmBQUFvgUAABIFS4CAeqAz/0OHDvWt2Kks6EUXXWT77LOP7ynz7bff2n333WcPPfSQLVmyxDZv3uyvqZsDDzzQfvvb39oJJ5ywzWPJ1KlT3Zl95RHUxllnnWUTJkzwLQAAkAhYAgRsJy3Xqe3g/1e/+pXdeuutNmXKlAoD8tdff90t/TnggAPcOnsFANs7+JfnnnvOna3v2bOnDR482B588EF/TZnzzz/fbUx2/PHH+57YaAaBAAAAgMRGAADUwltvveUGz7Wh2vrFxcV27LHH+h6zN998063L79Onj82YMcO+/vprf03904yClhtpNiAyEFBQcsstt1h+fr7viY2CmJkzZ/oWAABINAQAQC3oLP3HH3/sWzXTvgCTJk2ynXfe2feY/fnPf7YePXq45N/G9Oyzz7pA4Oyzz3YlQwO///3v7d5773XlRmM1ZswYN4MAAAASDwEAEKO8vDy3W26spk2b5jYFC6xcudLNAqi2flN6+OGH3U7Ft912m+8x69q1q91zzz3WrVs331MzlQf97LPPfAsAACQKAgAgBqr4c8cdd/hW9bRTrxLrtZtuQEtmTjrpJHvhhRd8T9NTac8RI0a48qKSlpZmd955pwsOYqHNxzQTAAAAEgsBAFADld+8+uqrfatmChR69erlW2bXXntt3A6Uddb/5JNPdoN5UfCiRN+MjAzXrokCo3/+85++BQAAEgEBAFCD6667LuZ1/6qxr8o7ASX6qi+eKTfg9NNPt1dffdW1U1JS7G9/+5urTBQLlRP74osvfAsAAMQ7AgCgGtpFV8t5YnHVVVe5SjsBDf4bO9G3rt555x3Lzs52m47JT3/6U5s8ebLtsssurl0d7Uz8pz/9ybcAAEC8IwAAqvGXv/zFH1XvtNNOq7A3gJYMJcrgP6DdhvUaPv30U9fWzsKxDuy1x0EwgwAAAOIbAQBQBdXMf+yxx3yranvttVeFzbFuv/12t4QmEWkQP3LkSN8yl8h83nnn+Vb1/vrXv/ojAAAQzwgAgCrEOojX0p+ddtrJHT/11FOu9n8i06ZlkQGNZjPat2/vW1WbN2+evfLKK74FAADiFQEAEIU2uVqxYoVvVe3UU0+1o446yrfMxo4d648Sm3b71Q7Cgcsuu8wfVS/WUqkAAKDpEAAAUcSa+KtE38ANN9xgL730km8lvvz8fH9kbgOzo48+2reqVlRUxOZgAADEOQIAoJK1a9faggULfKtq2uV3zz33dMevv/66FRYWuuNkoXyAyNeUm5vrj6r2/fff29133+1bAAAgHhEAAJXcd999/qh6kcmxyTb4D+h1aSM06dKlix1zzDHuuDr33nuvPwIAAPGIAACo5IEHHvBHVcvMzLQ2bdq44xdffNHtiJuMvvnmG7vlllt8y+zMM8/0R1VbtWqVrV692rcAAEC8IQAAInzwwQf29NNP+1bVtHNuYNasWf4oOSmxd+vWre64d+/ebn+AmixatMgfAQCAeEMAAER49NFH/VHV9t9/f+vatas7/uKLL+zOO+90x8lKSb133XWXb5n179/fH1XtP//5jz8CAADxhgAAiPD444/7o6pFroNXvsB3333nW8krcl2/KgLVRO9jGN4XAAASEQEAECGW5T99+/b1R2W7BYeBdkT+8MMP3XGHDh3cpTpaMvTMM8/4FgAAiCcEAIC3fv16e/fdd30rupYtW9rBBx/sjr/++mtbunSpOw6DyNfavXt3f1S1559/3h8BAIB4QgAAeC+//LI/qppKYQaeeOIJfxQOkcujghyI6rzyyiv+CAAAxBMCAMCLpXRlenq6PzJ79tln/VE4qLxnIPJ9qMobb7zhjwAAQDwhAAC8d955xx9VLbIE5ksvveSPwuHtt992FYFkr732stTUVHdclVjeTwAA0PgIAAAvSHKtTrt27fxRbDMGyebNN9/0RxXfi2g2btzoNhIDAADxhQAA8D7++GN/VLVf/OIX/sjsvffe80fhEfma99hjD39UtVjeUwAA0LgIAAAvWN5SlWbNmrkqQKLbfvvtt+44TCIH9K1atfJHVfv888/9EQAAiBcEAICnsp7V2WWXXfxR2Q7AYRT5uiPfj6rU9J4CAIDGRwAAeNq8qjo/+tGP/JHZli1b/FG4RM56RL4fVWE3YAAA4g8BAOBpiU91vv/+e39U822TVeTrjnw/qrLDDjv4IwAAEC8IAABvxx139EfRRVa0qakEZrJq0aKFPzLbtGmTP6paTe8pAABofAQAgFfTmnYNeINBb5AMHDaRr/vTTz/1R1WLJU8AAAA0LgIAwIulqs26devcv1r/vvvuu7vjMGnTpo0/+uG9qE5YAyUAAOIZAQDgpaWl+aOq/e9///NHNW+ElYzatm3rj2reB0FB0m677eZbAAAgXhAAAN7//d//+aOqRe7+u99++/mjcNh5553Lgx7V969p5+Rf/epX/ggAAMQTAgDA23vvvf1R1V566SV/ZJaenu6PwqFz587+qOL7UJVY3k8AAND4CAAAr2PHjv6oas8++6w/Mjv00EP9UThEvt7I96EqsbyfAACg8REAAN7+++9vO+20k29F9/LLL9v69evd8b777mt77bWXOw6DHj16+COzJ5980h9VrVOnTv4IAADEEwIAIMLBBx/sj6r2n//8xx+ZHXXUUf4ouan6z2GHHeaOtQty5HtQlYMOOsgfAQCAeEIAAETo1q2bP6rav//9b39kdsIJJ/ij5HbiiSf6I7OHH37Ytm7d6lvRaf1/LEnVAACg8REAABEil7lUZeHChfbZZ5+540MOOcQOPPBAd5zMTjnlFH9kdv/99/ujqsXyPgIAgKZBAABE0AxALBt83X333f7IbPDgwf4oOfXp06d8Pb82//rXv/7ljqvTt29ffwQAAOINAQBQyTHHHOOPqjZ37lx/ZJaZmZnUm4Kdc845/sisqKjIH1XtZz/7mR155JG+BQAA4g0BAFBJ5Hr3qrzyyisVzoSff/75/ii59OvXz80AyHfffWczZ850x9WJ5f0DAABNhwAAqCQjI8OV+KzJ9OnT/ZFZVlZWUu4LcNFFF/kjs5tvvtk+/vhj36rawIED/REAAIhHBABAFIMGDfJHVdNmWHPmzPEts8svv9wfJYfhw4eXl/LcuHGjTZ482R1XR2VUY6mkBAAAmg4BABDFmWeeaampqb5VtT/96U/25ZdfumPNAPzhD39wx4lOSb9jx471LbOCgoLy11kdvW8AACC+EQAAUey8884Vkl+rsnbtWsvPz/cts9GjR1vv3r19K3Fdf/31/shs0aJFNnv2bN+q2j777GOnnXaabwEAgHhFAABUYdiwYTHNAmhwfN999/mW2U033WRt27b1rcTzl7/8pXxvgy+++MKuvPJKd1wTvV8AACD+EQAAVWjZsqWNGDHCt6p36aWX2po1a9xx69atXcLsT37yE9dOJMpjOPXUU33L7JJLLrF33nnHt6rWuXNnlwgNAADiHwEAUI0LL7zQLW2pic6U67ZbtmxxbQ2IZ8yYYS1atHDtRKCKPxdccIFvmU2cONEWLFjgW9X74x//6I8AAEC8IwAAanDZZZf5o+qpKlDkMpjDDz/cVQnSjEC802scNWqUb5mr96+lQLHQun/tFwAAABIDAQBQg+OOOy6msqDy0EMPVVg21LVrV5s3b155Oc14dOONN1Z4ztrleMyYMb5VvZ///Od2xRVX+BYAAEgEBABADMaNG2ft2rXzrerdc889roZ+YO+997b777/fzjjjDN8TH37961+73YxPP/1032N2xx13VJgJqInel1atWvkWAABIBAQAQAy0lj+yNGZNtHZeswbr16/3PWW19LWZVlpamu9pOkOHDrVHHnnEbdwV+POf/2x5eXm+VbOcnBw78cQTfQsAACQKAgAgRj169LBrrrnGt2q2bNkyO+mkk+yxxx7zPWYDBw50/RqAN4WePXva/Pnz7aqrrvI9Zl9//bVL/tVSoFj16dMn5vKgAAAgvhAAALVw7rnnxrRBWODdd991SbKTJk3yPWWbjGkArkDgrLPO8r0Nq3v37nb77be79f3asTiwdOlSO/roo11QEKsOHTpYYWGhbwEAgERDAADU0rXXXmsDBgzwrdho+c/JJ59sTz75pO8pyw2YMGGCPf/88y7p9oADDvDX1I9dd93VzjzzTLdJ2V133eUG+oHPP//cxo4d6/IS3nzzTd9bMyX9Tps2jXX/AAAksB1KLyUqVZiZmVnWAyAmmg148MEHfSt2yg3Izc2Nur/Aq6++akuWLLEnnnjCVq1aZZ988om/pmY77LCD23+gW7dubqlP7969/TUV3XLLLe4Mfm3uW372s5/Z3//+9wp5AwAAIP5pBUCwYef48eMJAIDtobr/qqRTFwoEdIb+wAMP9D3b+t///ud2GH7//fft448/ti+//NJtNtasWTOXmKzdivfYYw9Xoahjx46WkpLif7KiTz/91IqKilx9/w8++MD3xm733Xd3S4gOOeQQ3wMAABIFAQBQzy655BI3uK4rnbHv37+/HXvssfW+adiiRYtcgKK9CEpKSnxv7bRv396mT59u++23n+8BAACJhAAAaACqoKMymttLCbpHHHGE20CsU6dOtttuu/lrarZ161Z76aWX3NIhLSF69NFH7YsvvvDX1k2vXr1c6dLaPA8AABBfCACABqLa/6NHj3bLdOqL9gzQ8p42bdq4xNtddtnFmjdvbt9//71988039tlnn9natWvLlwrVp/POO8+uvvpq3wIAAImKAABoQG+//bar6KPymolKgYZ2+FXVIgAAkPgqBwCUAQXqkc7WKx9Am2TpTH2i0UZlxcXFDP4BAEhiBABAA8jJyXEbfZ1yyim+J779+te/tttuu82t96/vRGQAABBfCACABrLnnnu6evt333239e3b1/fGFz3H6667zh555BE75phjfC8AAEhmBABAAzv88MNt9uzZLhA48cQTfW/T+s1vfmM33HCDqxaUnZ3tewEAQBgQAACNRIHAtGnT7PHHH7eLL77Y9t57b39N49hxxx3t1FNPdYlADz/8sA0ePNhfAwAAwoQAAGhkbdu2tT/+8Y8uR0ClQ0eOHGmdO3f219Yv7RJ8+umnu428XnvtNfvLX/5iPXv29NcCAIAwogwoECc2btxozzzzjL3wwgv28ssv2+rVq+2dd95xG3zFQnsG7LPPPtaxY0e3idjBBx9s++67r78WAACEFfsAAAlm3bp19vHHH9vnn3/uNv9SQNCsWTO3pEcbg6luvwb/agMAAFTGPgBAglFZTpXpPOyww6xPnz521FFHWb9+/SwjI8MOPPBAV8mHwT8AAIgVAQAAAAAQIgQAAAAAQIgQAAAAAAAhQgAAAAAAhAgBAAAAABAiBAAAAABAiBAAAAAAACFCAAAAAACECAEAAAAAECIEAAAAAECIEAAAAAAAIUIAAAAAAIQIAQAAAAAQIgQAAAAAQIgQAAAAAAAhQgAAAAAAhAgBAAAAABAiBAAAAABAiBAAAAAAACFCAAAAAACECAEAAAAAECIEAAAAAECIEAAAAAAAIUIAAAAAAISG2f8DKovgwy6ZJ6gAAAAASUVORK5CYII=)"
      ],
      "metadata": {
        "id": "E6mu-eN75RRM"
      }
    },
    {
      "cell_type": "markdown",
      "source": [
        "### Example 1: If Statement"
      ],
      "metadata": {
        "id": "xCJ8UcZrOc7w"
      }
    },
    {
      "cell_type": "markdown",
      "source": [
        "If statements in Python allow us to make decisions in our code based on certain conditions. This concept is important because it helps us control the flow of our program and execute different blocks of code depending on whether a condition is true or false."
      ],
      "metadata": {
        "id": "MPXX-HE6boGf"
      }
    },
    {
      "cell_type": "code",
      "execution_count": null,
      "metadata": {
        "id": "tU-v6ScdOc7w",
        "colab": {
          "base_uri": "https://localhost:8080/"
        },
        "outputId": "c71ed263-7c70-42ba-c954-5abac639ae75"
      },
      "outputs": [
        {
          "output_type": "stream",
          "name": "stdout",
          "text": [
            "The number is greater than 10\n"
          ]
        }
      ],
      "source": [
        "number = 15\n",
        "\n",
        "if number > 10:\n",
        "    print(\"The number is greater than 10\")\n"
      ]
    },
    {
      "cell_type": "markdown",
      "source": [
        "**Explanation**: We assign the integer value 15 to a variable called number. We check if the value stored in number is greater than 10 using an if statement. If the condition is true, we print the message \"The number is greater than 10\".\n",
        "\n"
      ],
      "metadata": {
        "id": "M0WxYtyybsN5"
      }
    },
    {
      "cell_type": "code",
      "source": [
        "n = 6\n",
        "if n % 2 == 0:\n",
        "   print(\"n is even\")\n",
        "else:\n",
        "   print(\"n is odd\")"
      ],
      "metadata": {
        "colab": {
          "base_uri": "https://localhost:8080/"
        },
        "id": "sK9vx5Dn7db0",
        "outputId": "15f0e172-54bd-4c3e-f530-ca6d74c6bd24"
      },
      "execution_count": null,
      "outputs": [
        {
          "output_type": "stream",
          "name": "stdout",
          "text": [
            "n is even\n"
          ]
        }
      ]
    },
    {
      "cell_type": "markdown",
      "source": [
        "#### <font color=\"green\">Challenge</font>"
      ],
      "metadata": {
        "id": "u2p9MpEHOc7x"
      }
    },
    {
      "cell_type": "markdown",
      "source": [
        "Create a program that checks if a customer is eligible for a discount based on their total purchase amount. Set a variable 'total_purchase' to a specific amount. Use an if statement to check if the total purchase is greater than or equal to a certain threshold (e.g. `500/-`). If the condition is met, print 'Customer is eligible for a discount'. Otherwise, print 'Customer is not eligible for a discount'."
      ],
      "metadata": {
        "id": "V7QFHrQtbyU7"
      }
    },
    {
      "cell_type": "code",
      "source": [
        "# Write your code here\n",
        "total_purchase = 1400\n",
        "if( total_purchase > 500):\n",
        "  print(\"Customer is eligible for a discount\")\n",
        "else:\n",
        "  print(\"Customer is not eligible for a discount\")"
      ],
      "metadata": {
        "id": "Fnr9v3ZQbuy2",
        "colab": {
          "base_uri": "https://localhost:8080/"
        },
        "outputId": "dd0f67f8-d06f-4599-f176-4ae6088d73e8"
      },
      "execution_count": null,
      "outputs": [
        {
          "output_type": "stream",
          "name": "stdout",
          "text": [
            "Customer is eligible for a discount\n"
          ]
        }
      ]
    },
    {
      "cell_type": "markdown",
      "source": [
        "### Example 2: If-Else Statements"
      ],
      "metadata": {
        "id": "mAsIT9GfOc7x"
      }
    },
    {
      "cell_type": "markdown",
      "source": [
        "If-Else statements in Python allow us to execute different blocks of code based on whether a certain condition is true or false. This allows us to create more complex decision-making processes in our programs.\n",
        "\n"
      ],
      "metadata": {
        "id": "BNtxeUUlb84b"
      }
    },
    {
      "cell_type": "markdown",
      "source": [
        "![image.png](data:image/png;base64,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)"
      ],
      "metadata": {
        "id": "DGtM58t9KAc3"
      }
    },
    {
      "cell_type": "code",
      "execution_count": null,
      "metadata": {
        "id": "j_sjq0JEOc7y",
        "colab": {
          "base_uri": "https://localhost:8080/"
        },
        "outputId": "8ef900ae-0ac9-46a2-952f-cf494bcc18ee"
      },
      "outputs": [
        {
          "output_type": "stream",
          "name": "stdout",
          "text": [
            "You do not have enough money to buy the item.\n"
          ]
        }
      ],
      "source": [
        "# Store example using If-Else Statements\n",
        "item_price = 50\n",
        "wallet_balance = 30\n",
        "\n",
        "if wallet_balance >= item_price:\n",
        "    print(\"You can buy the item!\")\n",
        "else:\n",
        "    print(\"You do not have enough money to buy the item.\")"
      ]
    },
    {
      "cell_type": "markdown",
      "source": [
        "**Explanation**: We define two variables, item_price and wallet_balance, with values 50 and 30 respectively. We then use an if-else statement to check if the wallet_balance is greater than or equal to the item_price. If it is, we print \"You can buy the item!\", otherwise we print \"You do not have enough money to buy the item.\" The output will be \"You do not have enough money to buy the item.\" since the wallet_balance is less than the item_price.\n",
        "\n"
      ],
      "metadata": {
        "id": "2YnA3zbvcDXy"
      }
    },
    {
      "cell_type": "markdown",
      "source": [
        "#### <font color=\"green\">Challenge</font>"
      ],
      "metadata": {
        "id": "1teuanugOc7y"
      }
    },
    {
      "cell_type": "markdown",
      "source": [
        "Create a program that checks if a customer is eligible for a discount based on their total purchase amount. If the total purchase amount is greater than `$100`, the customer is eligible for a `10%` discount. Otherwise, they are not eligible for any discount.\n"
      ],
      "metadata": {
        "id": "kI22BH2GcGvj"
      }
    },
    {
      "cell_type": "code",
      "source": [
        "# Write your code here\n"
      ],
      "metadata": {
        "id": "rgzBASGpcJZV"
      },
      "execution_count": null,
      "outputs": []
    },
    {
      "cell_type": "markdown",
      "source": [
        "### Example 3: Nested If Statements"
      ],
      "metadata": {
        "id": "Y74_0Ub0Oc7z"
      }
    },
    {
      "cell_type": "markdown",
      "source": [
        "Nested if statements in Python allow us to check for multiple conditions within another if statement. This is useful when we need to evaluate multiple conditions in a specific order. Nested if statements can help us create more complex decision-making processes in our code.\n",
        "\n"
      ],
      "metadata": {
        "id": "nQUt-a3ZcPAO"
      }
    },
    {
      "cell_type": "markdown",
      "source": [
        "Nested if![image.png](data:image/png;base64,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)"
      ],
      "metadata": {
        "id": "AcOC2b9b7uXH"
      }
    },
    {
      "cell_type": "code",
      "execution_count": null,
      "metadata": {
        "id": "FtXvEPkiOc71",
        "colab": {
          "base_uri": "https://localhost:8080/"
        },
        "outputId": "a6b996a0-b32b-4620-a9d7-6cb6311861fa"
      },
      "outputs": [
        {
          "output_type": "stream",
          "name": "stdout",
          "text": [
            "The store is closed\n"
          ]
        }
      ],
      "source": [
        "# Nested if statements example\n",
        "store_open = False\n",
        "time = 10\n",
        "\n",
        "if store_open:\n",
        "    if time < 9:\n",
        "        print(\"The store is open for breakfast\")\n",
        "    else:\n",
        "        print(\"The store is open for lunch\")\n",
        "else:\n",
        "    print(\"The store is closed\")"
      ]
    },
    {
      "cell_type": "markdown",
      "source": [
        "**Explanation**: We check if the store is open and if the store hours are less than 12. If both conditions are met, we print \"The store is open in the morning\". If the store is open but the hours are 12 or more, we print \"The store is open in the afternoon\". The output will depend on the values of store_open and store_hours.\n",
        "\n"
      ],
      "metadata": {
        "id": "t0s_6L7mcSw1"
      }
    },
    {
      "cell_type": "code",
      "source": [
        "a = 20\n",
        "b = 10\n",
        "c = 10\n",
        "if a == b:\n",
        "   if a > c:\n",
        "      print(\"a value is big\")\n",
        "   else:\n",
        "       print(\"c value is big\")\n",
        "elif b > c:\n",
        "    print(\"b value is big\")\n",
        "else:\n",
        "     print(\"c is big\")"
      ],
      "metadata": {
        "colab": {
          "base_uri": "https://localhost:8080/"
        },
        "id": "I_-S9VKo8HR8",
        "outputId": "93363f44-371e-4312-e1d2-d25012abd44a"
      },
      "execution_count": null,
      "outputs": [
        {
          "output_type": "stream",
          "name": "stdout",
          "text": [
            "c is big\n"
          ]
        }
      ]
    },
    {
      "cell_type": "markdown",
      "source": [
        "#### <font color=\"green\">Challenge</font>"
      ],
      "metadata": {
        "id": "bbMD5EXNOc72"
      }
    },
    {
      "cell_type": "markdown",
      "source": [
        "Create a code snippet that checks if a customer is eligible for a discount based on their total purchase amount. If the total purchase amount is greater than `$100`, they are eligible for a 10% discount. If the total purchase amount is greater than `$200`, they are eligible for a 20% discount. If the total purchase amount is less than or equal to `$100`, they are not eligible for any discount.\n"
      ],
      "metadata": {
        "id": "n5KXQEG6cVQA"
      }
    },
    {
      "cell_type": "code",
      "source": [
        "# Write your code here\n",
        "total = 150\n",
        "if total < 100:\n",
        "  print(\" eligible for a 10% discount\")\n",
        "elif total < 200:\n",
        "   print (\" eligible for a 20% discount\")\n",
        "else:\n",
        "    print (\" eligible for a 100% discount\")"
      ],
      "metadata": {
        "id": "LmwUeJROcaZg",
        "colab": {
          "base_uri": "https://localhost:8080/"
        },
        "outputId": "8feadd45-9717-4f63-e3cf-358248b4b125"
      },
      "execution_count": null,
      "outputs": [
        {
          "output_type": "stream",
          "name": "stdout",
          "text": [
            " eligible for a 20% discount\n"
          ]
        }
      ]
    },
    {
      "cell_type": "markdown",
      "source": [
        "### Example 4: Chained If Statements"
      ],
      "metadata": {
        "id": "V1Ai8L6qR3k0"
      }
    },
    {
      "cell_type": "markdown",
      "source": [
        "Chained if statements in Python allow us to check multiple conditions in a single block of code. This is useful when we have multiple conditions that need to be evaluated in a specific order."
      ],
      "metadata": {
        "id": "a-_S2PevcgSn"
      }
    },
    {
      "cell_type": "markdown",
      "source": [
        "![image.png](data:image/png;base64,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)"
      ],
      "metadata": {
        "id": "YFxkwK66PLxN"
      }
    },
    {
      "cell_type": "code",
      "execution_count": null,
      "metadata": {
        "id": "yPo2XPZHR3k1",
        "colab": {
          "base_uri": "https://localhost:8080/"
        },
        "outputId": "62202651-2b72-4a08-a707-63da780689d0"
      },
      "outputs": [
        {
          "output_type": "stream",
          "name": "stdout",
          "text": [
            "x is positive\n"
          ]
        }
      ],
      "source": [
        "# Define a variable\n",
        "x = 10\n",
        "\n",
        "# Check multiple conditions using chained if statements\n",
        "if x < 0:\n",
        "    print(\"x is negative\")\n",
        "elif x == 0:\n",
        "    print(\"x is zero\")\n",
        "elif x > 0:\n",
        "    print(\"x is positive\")"
      ]
    },
    {
      "cell_type": "markdown",
      "source": [
        "**Explanation**: We define a variable x with a value of 10. We then use chained if statements to check multiple conditions based on the value of x. If x is less than 0, we print \"x is negative\". If x is equal to 0, we print \"x is zero\". If x is greater than 0, we print \"x is positive\". In this case, since x is positive (greater than 0), the output will be \"x is positive\".\n",
        "\n"
      ],
      "metadata": {
        "id": "O4OBd-ebci7t"
      }
    },
    {
      "cell_type": "markdown",
      "source": [
        "#### <font color=\"green\">Challenge</font>"
      ],
      "metadata": {
        "id": "IN0r9fEsR3k2"
      }
    },
    {
      "cell_type": "markdown",
      "source": [
        "Create a program that determines the discount percentage based on the total purchase amount in a store. Start by defining a variable for the total purchase amount. Then use chained if statements to check different conditions for discount percentages based on the total purchase amount. Make sure to consider different ranges of purchase amounts and apply the appropriate discount percentage."
      ],
      "metadata": {
        "id": "EK3_CYMDcsIz"
      }
    },
    {
      "cell_type": "code",
      "source": [
        "# Write your code here\n"
      ],
      "metadata": {
        "id": "_GtiwGsvckrC"
      },
      "execution_count": null,
      "outputs": []
    },
    {
      "cell_type": "markdown",
      "source": [
        "## 5. Repetition - For Loops"
      ],
      "metadata": {
        "id": "05b3sIDvOegw"
      }
    },
    {
      "cell_type": "markdown",
      "source": [
        "A repetition statement is used to repeat a group(block) of programming instructions.\n",
        "\n",
        "In Python, we generally have two loops/repetitive statements:\n",
        "\n",
        "* **for loop**\n",
        "* **while loop**"
      ],
      "metadata": {
        "id": "91OsjQlcezCn"
      }
    },
    {
      "cell_type": "markdown",
      "source": [
        "A for loop is used to iterate over a sequence that is either a list, tuple, dictionary, or a set. We can execute a set of statements once for each item in a list, tuple, or dictionary."
      ],
      "metadata": {
        "id": "bjgOBNojsZue"
      }
    },
    {
      "cell_type": "markdown",
      "source": [
        "![image.png](data:image/png;base64,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)"
      ],
      "metadata": {
        "id": "cK63M3MPsd2_"
      }
    },
    {
      "cell_type": "markdown",
      "source": [
        "### Example 1: For Loop Basics"
      ],
      "metadata": {
        "id": "fTPR8kxrOegy"
      }
    },
    {
      "cell_type": "markdown",
      "source": [
        "For loops in Python allow us to iterate over a sequence of elements, such as a list or a range of numbers. This concept is important because it helps us automate repetitive tasks and perform operations on each element in a sequence.\n",
        "\n"
      ],
      "metadata": {
        "id": "Kmow7yvcLDYC"
      }
    },
    {
      "cell_type": "code",
      "execution_count": null,
      "metadata": {
        "id": "9pGtjJFNOegy",
        "colab": {
          "base_uri": "https://localhost:8080/"
        },
        "outputId": "8fb8ffc6-fdce-4577-e44b-7f5f04fa972c"
      },
      "outputs": [
        {
          "output_type": "stream",
          "name": "stdout",
          "text": [
            "Item: apple\n",
            "Item: banana\n",
            "Item: orange\n",
            "Item: grapes\n"
          ]
        }
      ],
      "source": [
        "# Define a list of items in a store\n",
        "basket_items = ['apple', 'banana', 'orange', 'grapes']\n",
        "\n",
        "# Iterate over each item in the store_items list\n",
        "for fruit in basket_items:\n",
        "    print(f\"Item: {fruit}\")"
      ]
    },
    {
      "cell_type": "markdown",
      "source": [
        "**Explanation**: We define a list of items in a store called store_items. We then iterate over each item in the store_items list using a for loop. During each iteration, we print out the item. The output will be: Item: apple Item: banana Item: orange Item: grapes\n",
        "\n"
      ],
      "metadata": {
        "id": "zBdojktJLG2B"
      }
    },
    {
      "cell_type": "code",
      "source": [
        "print(\"1st example\")\n",
        "\n",
        "lst = [1, 2, 3]\n",
        "for i in range(len(lst)):\n",
        "     print(lst[i], end = \" \\n\")\n",
        "\n",
        "print(\"2nd example\")\n",
        "\n",
        "for j in range(1,6):\n",
        "    print(j, end = \" \\n\")"
      ],
      "metadata": {
        "colab": {
          "base_uri": "https://localhost:8080/"
        },
        "id": "42nX3Qq6soZw",
        "outputId": "85f32d85-d443-43f0-95c8-cc4bff9fc9ab"
      },
      "execution_count": null,
      "outputs": [
        {
          "output_type": "stream",
          "name": "stdout",
          "text": [
            "1st example\n",
            "1 \n",
            "2 \n",
            "3 \n",
            "2nd example\n",
            "1\n",
            "2\n",
            "3\n",
            "4\n",
            "5\n"
          ]
        }
      ]
    },
    {
      "cell_type": "markdown",
      "source": [
        "The first example demonstrates how to use a for loop to iterate over a list and access its elements, while the second example shows how to iterate over a range of numbers."
      ],
      "metadata": {
        "id": "HbZaBHXGsrg6"
      }
    },
    {
      "cell_type": "markdown",
      "source": [
        "#### <font color=\"green\">Challenge</font>"
      ],
      "metadata": {
        "id": "uSV7S5soOegz"
      }
    },
    {
      "cell_type": "markdown",
      "source": [
        "Calculate the total cost of purchasing all items in the store, where each item costs `$2.50`. Create a variable to store the total cost, then use a for loop to iterate over each item in the `store_items` list and add `$2.50` to the total cost for each item."
      ],
      "metadata": {
        "id": "ocwkax_ELLRt"
      }
    },
    {
      "cell_type": "code",
      "source": [
        "# Write your code here Ken Solution\n",
        "items = [1,2,3,4,5]\n",
        "total_cost = 0\n",
        "item_cost = 2.50\n",
        "for i in range(len(items)):\n",
        " total_cost += item_cost\n",
        "\n",
        "print(\"Total cost for all items: \",total_cost)"
      ],
      "metadata": {
        "id": "4eNtK5cQLQ6F",
        "colab": {
          "base_uri": "https://localhost:8080/"
        },
        "outputId": "25f3fb0c-c22f-4dc8-fa76-7d305d6e2175"
      },
      "execution_count": null,
      "outputs": [
        {
          "output_type": "stream",
          "name": "stdout",
          "text": [
            "Total cost for all items:  12.5\n"
          ]
        }
      ]
    },
    {
      "cell_type": "code",
      "source": [
        "items_prices = {\"Item1\": 6,\n",
        "                \"Item2\": 9,\n",
        "                \"Item3\": 8,\n",
        "                \"item4\":10 }\n",
        "\n",
        "\n",
        "total_cost = 0\n",
        "\n",
        "for price in items_prices.values():\n",
        "    total_cost += price\n",
        "\n",
        "print(\"Total cost of purchasing all items:\", total_cost)"
      ],
      "metadata": {
        "colab": {
          "base_uri": "https://localhost:8080/"
        },
        "id": "7ZqqXzetLkh5",
        "outputId": "fef8d4f6-88ff-42b8-bd36-c9227a147a65"
      },
      "execution_count": null,
      "outputs": [
        {
          "output_type": "stream",
          "name": "stdout",
          "text": [
            "Total cost of purchasing all items: 33\n"
          ]
        }
      ]
    },
    {
      "cell_type": "markdown",
      "source": [],
      "metadata": {
        "id": "LhlgGl_nsYKU"
      }
    },
    {
      "cell_type": "markdown",
      "source": [
        "### Example 2: Nested Loops -"
      ],
      "metadata": {
        "id": "rD_CgY0lOegz"
      }
    },
    {
      "cell_type": "markdown",
      "source": [
        "Nested loops in Python allow us to iterate over multiple sequences within each other. This means that we can have a loop inside another loop. This concept is important because it allows us to perform repetitive tasks on multiple levels of data structures, such as nested lists or dictionaries.\n",
        "\n"
      ],
      "metadata": {
        "id": "BGIWL0_kLctw"
      }
    },
    {
      "cell_type": "code",
      "execution_count": null,
      "metadata": {
        "id": "ZHGmeDoXOeg0",
        "colab": {
          "base_uri": "https://localhost:8080/"
        },
        "outputId": "3e063946-f57d-494f-bd03-4e36cb2bf683"
      },
      "outputs": [
        {
          "output_type": "stream",
          "name": "stdout",
          "text": [
            "The price of apple is $1.0\n",
            "The price of apple is $0.5\n",
            "The price of apple is $0.75\n",
            "The price of banana is $1.0\n",
            "The price of banana is $0.5\n",
            "The price of banana is $0.75\n",
            "The price of orange is $1.0\n",
            "The price of orange is $0.5\n",
            "The price of orange is $0.75\n"
          ]
        }
      ],
      "source": [
        "# Nested loops example in the context of a store\n",
        "items = [\"apple\", \"banana\", \"orange\"]\n",
        "prices = [1.00, 0.50, 0.75]\n",
        "\n",
        "for item in items:\n",
        "    for price in prices:\n",
        "        print(f\"The price of {item} is ${price}\")"
      ]
    },
    {
      "cell_type": "markdown",
      "source": [
        "**Explanation**: We iterate through the items list and for each item, we iterate through the prices list. We then print out the price of each item. The output will be: \"The price of apple is `$1.0`\" \"The price of apple is `$0.5`\" \"The price of apple is `$0.75`\" \"The price of banana is `$1.0`\" \"The price of banana is `$0.5`\" \"The price of banana is `$0.75`\" \"The price of orange is `$1.0`\" \"The price of orange is `$0.5`\" \"The price of orange is `$0.75`.\n",
        "\n"
      ],
      "metadata": {
        "id": "N-ZSdtT7LhaW"
      }
    },
    {
      "cell_type": "code",
      "source": [
        "for num in range(1,10):\n",
        "  if num % 2 !=0:\n",
        "    print(\"---------------\")\n",
        "    prime = True\n",
        "    for i in range(2, int(num ** 0.5) + 1):\n",
        "      if num % i ==0:\n",
        "        prime = False\n",
        "    if prime and  num !=1:\n",
        "      print(\"Prime Numbers Pure: \",num, end= \"\\n\")"
      ],
      "metadata": {
        "colab": {
          "base_uri": "https://localhost:8080/"
        },
        "id": "2CnFd7-zPWWy",
        "outputId": "9b672c19-b075-4bea-c490-a06fa5e1e413"
      },
      "execution_count": null,
      "outputs": [
        {
          "output_type": "stream",
          "name": "stdout",
          "text": [
            "1\n",
            "---------------\n",
            "3\n",
            "---------------\n",
            "Prime Numbers Pure:  3\n",
            "5\n",
            "---------------\n",
            "Prime Numbers Pure:  5\n",
            "7\n",
            "---------------\n",
            "Prime Numbers Pure:  7\n",
            "9\n",
            "---------------\n"
          ]
        }
      ]
    },
    {
      "cell_type": "markdown",
      "source": [
        "#### <font color=\"green\">Challenge</font>"
      ],
      "metadata": {
        "id": "be_lt_DCOeg0"
      }
    },
    {
      "cell_type": "markdown",
      "source": [
        "Calculate the total revenue generated by a store that sells multiple items at different prices. Use nested loops to iterate over the items and their corresponding prices. Assume that the store sold 3 units of each item.\n",
        "To calculate total revenue, initialize a variable to store the total revenue. Inside the nested loops, multiply the price of each item by 3 (assuming 3 units sold) and add it to the total revenue variable. Finally, print out the total revenue."
      ],
      "metadata": {
        "id": "mqdmzoNFLv8C"
      }
    },
    {
      "cell_type": "code",
      "source": [
        "# Write your code here\n"
      ],
      "metadata": {
        "id": "IcoRR7O0Lxf6"
      },
      "execution_count": null,
      "outputs": []
    },
    {
      "cell_type": "markdown",
      "source": [
        "### Example 3: Looping with Range"
      ],
      "metadata": {
        "id": "GdYgA0DPOeg1"
      }
    },
    {
      "cell_type": "markdown",
      "source": [
        "Looping with range in Python allows us to iterate over a sequence of numbers. We can specify a starting point, an ending point, and a step size for the range. This is useful when we want to repeat a set of instructions a specific number of times or iterate over a specific range of values.\n",
        "\n"
      ],
      "metadata": {
        "id": "LfJwvNO4L7JN"
      }
    },
    {
      "cell_type": "code",
      "execution_count": null,
      "metadata": {
        "id": "uE-cZRtvOeg2",
        "colab": {
          "base_uri": "https://localhost:8080/"
        },
        "outputId": "6da05ca4-b1c1-4aa1-c77e-505100e4a136"
      },
      "outputs": [
        {
          "output_type": "stream",
          "name": "stdout",
          "text": [
            "1\n",
            "3\n",
            "5\n",
            "7\n",
            "9\n"
          ]
        }
      ],
      "source": [
        "# Define a range from 1 to 10 with a step of 2\n",
        "for i in range(1, 11, 2):\n",
        "    print(i)"
      ]
    },
    {
      "cell_type": "markdown",
      "source": [
        "**Explanation**: We define a range from 1 to 10 with a step of 2. We then loop through this range using a for loop and print each value."
      ],
      "metadata": {
        "id": "vzCLt28LL_Pj"
      }
    },
    {
      "cell_type": "markdown",
      "source": [
        "#### <font color=\"green\">Challenge</font>"
      ],
      "metadata": {
        "id": "vz_VovYMOeg2"
      }
    },
    {
      "cell_type": "markdown",
      "source": [
        "Create a program that prints even numbers from 2 to 10 using looping with range\n",
        "Remember that the range function takes in the starting point, ending point (exclusive), and step size as parameters. In this case, you want to start at 2, end at 11 (exclusive), and use a step size of 2 to only print even numbers."
      ],
      "metadata": {
        "id": "4y_XQ4E3MFOK"
      }
    },
    {
      "cell_type": "code",
      "source": [
        "# Write your code here\n"
      ],
      "metadata": {
        "id": "ZhgS9D19L9RY"
      },
      "execution_count": null,
      "outputs": []
    },
    {
      "cell_type": "markdown",
      "source": [
        "### Example 4: For Loop with Break Statement"
      ],
      "metadata": {
        "id": "Xo-OcniDSY9c"
      }
    },
    {
      "cell_type": "markdown",
      "source": [
        "A for loop with a break statement in Python allows us to prematurely exit the loop based on a certain condition. This can be useful when we want to stop the loop from continuing once a specific condition is met, saving time and resources.\n",
        "\n"
      ],
      "metadata": {
        "id": "glHvE4qyMM3I"
      }
    },
    {
      "cell_type": "code",
      "execution_count": null,
      "metadata": {
        "id": "74-tGrLbSY95"
      },
      "outputs": [],
      "source": [
        "store_items = [\"apple\", \"banana\", \"orange\", \"grapes\", \"watermelon\"]\n",
        "\n",
        "# Loop through each item in the store_items list\n",
        "for item in store_items:\n",
        "    print(\"Checking item:\", item)\n",
        "\n",
        "    # If the item is \"grapes\", break out of the loop\n",
        "    if item == \"grapes\":\n",
        "        print(\"Found grapes! Exiting loop.\")\n",
        "        break"
      ]
    },
    {
      "cell_type": "markdown",
      "source": [
        "**Explanation**: We iterate through each item in the store_items list. If the current item is \"grapes\", we print a message indicating that we found grapes and exit the loop using the break statement."
      ],
      "metadata": {
        "id": "4V9ZV_pVMQmG"
      }
    },
    {
      "cell_type": "markdown",
      "source": [
        "#### <font color=\"green\">Challenge</font>"
      ],
      "metadata": {
        "id": "XIRMEP_sSY95"
      }
    },
    {
      "cell_type": "markdown",
      "source": [
        "Create a program that iterates through a list of numbers from 1 to 10. Print each number as you iterate through the list. However, if the number is greater than 5, break out of the loop.\n"
      ],
      "metadata": {
        "id": "97qIGMxxMXBx"
      }
    },
    {
      "cell_type": "code",
      "source": [
        "# Write your code here\n"
      ],
      "metadata": {
        "id": "3ZTNIINwMX-I"
      },
      "execution_count": null,
      "outputs": []
    },
    {
      "cell_type": "markdown",
      "source": [
        "### Example 5: For Loop with Continue Statement"
      ],
      "metadata": {
        "id": "_cDDKz4kSaOz"
      }
    },
    {
      "cell_type": "markdown",
      "source": [
        "A continue statement in a for loop allows us to skip the current iteration of the loop and move on to the next one. This can be useful when we want to skip certain elements in a list or perform a specific action only on certain elements.\n",
        "\n"
      ],
      "metadata": {
        "id": "uuuh6__3MgNW"
      }
    },
    {
      "cell_type": "code",
      "execution_count": null,
      "metadata": {
        "id": "CIJlE81YSaPQ"
      },
      "outputs": [],
      "source": [
        "store_items = ['apple', 'banana', 'orange', 'grape', 'watermelon']\n",
        "\n",
        "for item in store_items:\n",
        "    if item == 'orange':\n",
        "        continue\n",
        "    print(f\"Item: {item}\")"
      ]
    },
    {
      "cell_type": "markdown",
      "source": [
        "**Explanation**: We iterate through each item in the store_items list. If the item is 'orange', we skip it using the continue statement. Otherwise, we print out the item using f-string formatting.\n",
        "\n"
      ],
      "metadata": {
        "id": "dRcbtdqKMkLY"
      }
    },
    {
      "cell_type": "markdown",
      "source": [
        "#### <font color=\"green\">Challenge</font>"
      ],
      "metadata": {
        "id": "ftboAG83SaPQ"
      }
    },
    {
      "cell_type": "markdown",
      "source": [
        "Print out all the store items in the list except for 'banana' in the example.\n",
        "Use a continue statement inside the for loop to skip the iteration when the item is 'banana'."
      ],
      "metadata": {
        "id": "Jy6f7hqBMpfn"
      }
    },
    {
      "cell_type": "code",
      "source": [
        "# Write your code here\n"
      ],
      "metadata": {
        "id": "X2QLo45XMrdP"
      },
      "execution_count": null,
      "outputs": []
    },
    {
      "cell_type": "markdown",
      "source": [
        "## 6. Repetition - While Loops"
      ],
      "metadata": {
        "id": "goWjyEe7OgDI"
      }
    },
    {
      "cell_type": "markdown",
      "source": [
        "### Example 1: While Loop Basics"
      ],
      "metadata": {
        "id": "Dwfzi8kROgDJ"
      }
    },
    {
      "cell_type": "markdown",
      "source": [
        "While loops in Python allow us to repeatedly execute a block of code as long as a specified condition is true. This is useful when we want to perform a task multiple times without having to manually write out each iteration.\n",
        "\n"
      ],
      "metadata": {
        "id": "NHUIw86kM2S3"
      }
    },
    {
      "cell_type": "markdown",
      "source": [
        "![image.png](data:image/png;base64,iVBORw0KGgoAAAANSUhEUgAAAbQAAAH2CAYAAAAYpHkhAAAAAXNSR0IArs4c6QAAAARnQU1BAACxjwv8YQUAAAAJcEhZcwAAHYcAAB2HAY/l8WUAAEviSURBVHhe7d0LXJRV/gbwhy6G5X/Tat2hskSzgnQTzBJM0zErQdsV0gzUMhRTUEvxkuAlhSyFLIVMkywVLA0sDWw10NLAcgW7KJYmlbVgZbLlpqU5//d3OFxFBeQy887z7UMzc847wzDgPHPec3OxGUBEROTgLtCXREREDo2BRkREpsBAIyIiU2CgERGRKTDQiIjIFBhoRERkCgw0IiIyBQYaERGZAgONiIhMgYFGRESmwEAjIiJTYKAREZEpMNCIiMgUGGhERGQKDDQiIjIFBhoREZkCA42IiEyhxjtWX3ABM5CIyJmdOnVKX7MvNQ40FxcXhIaG6ltERORMlixZghrGRoOpdaAtXrxYlxARkTMYOXKkXQcazx8SEZEpMNCIiMgUGGhERGQKDDQiIjIFBhoREZkCA42IiEyBgUZERKbAQCMiIlNgoBERkSkw0IiIyBQYaEREZAoMNCIiMgUGGhERmQIDjRzO9u3bS7+IiEow0MjhnDx5Ej4+Pvjiiy90CRERA42IiEyCgUZERKbAQCMiIlNgoBERkSkw0IiIyBQYaEREZAoMNCIiMgUGGhERmQIDjYiITIGBRkREpsBAIyIiU2CgERGRKTDQiIjIFBhoRERkCgw0IiIyBQYaERGZAgONiIhMgYFGRESmwEAjIiJTYKAREZEpMNCIiMgUGGhERGQKDDQiIjIFBhoREZkCA42IiEyBgUZERKbAQCMiIlNgoBERkSkw0IiIyBQYaEREZAoMNCIiMgUGGhERmQIDjYiITIGBRkREpsBAIyIiU2CgERGRKTDQiIjIFBhoRERkCgw0IiIyBQYaERGZAgONiIhMgYFGRESmwEAjIiJTYKAREZEpMNCIiMgUGGhERGQKDDQiIjIFBhoREZkCA42IiEyBgUZERKbAQCMiIlNgoBERkSkw0IiIyBQYaEREZAoMNCIiMgUGGhERmQIDjYiITIGBRkREpsBAIyIiU2CgERGRKTDQiIjIFBhoRERkCgw0IiIyBQYaERGZAgON7NaLL76IpKQknDp1SpecW3p6OmbNmqVvEZEzYaCR3QoICEBISAjatm2LV155BSdPntQ1FdlsNrz55pvo2LEj/P391RcROR8GGtkti8WCxx57DF9//bUKtuuvvx7x8fE4ceKEqpcgW758OTw8PDBgwAB88sknKsw6deqk6onIubgYbwo2fb1aXFxcEBoaisWLF+sSovpTWFioguyPP/5Qf3vy59qiRQscOXIEV111FX766afScvHvf/+bgUZUT0aOHIklS5aU/nuzN2yhkV2TVtro0aPV9ZJ/REVFRery8OHD6rKknK0zIufGQCO79+STT6JJkyb6VlmAVf6UyMEgRM6NgUZ2r2XLlggLC9O3qta3b194e3vrW0TkjBho5BAiIyNxySWX6Funmz17tr5GRM6KgUYO4corr0R4eLi+VVG/fv3UkH0icm4MNHIY0pdWVSuNfWdEJBho5DCklTZu3Dh9q9g//vEPts6ISGGgkUOZOHFihRGPM2fO1NeIyNkx0MihyGTqJ554Ql1n64yIymOgkcMpaaVFR0frEiIiBho5oKVLl6qlsGT5tTMtWExEzoeBRg5FVuCfMmWKWk9UFiru06cPPv/8c11LRM6MgUYO4dtvv8XVV1+NtWvXYsGCBap1JpfvvfeeCjXZPoaInBsDjeze6tWr1Yr7F198MTIzMzFmzBhVLpebN2/GhRdeqLaPYZ8akXNjoJFdmzBhAh588EH4+fmprWF69uypa4r16NFDlctK+9OmTcPgwYPVljJE5HwYaGS37rzzTjz33HOYNGkS0tLS8Ne//lXXVCRD+d955x1MnjwZSUlJuO+++7Bt2zZdS0TOgoFGdkdaXLLEVVZWltqR+tlnn9U1Z/fMM89g5cqVaudqCTUZDUlEzoOBRnYlISEBnTt3xs0334ydO3diyJAhuqZ6goODVSC2a9cOI0aMQEREhK4hIrNjoJHdkPCSFfWDgoJUKHl5eemamrn11ltVGEp/WlxcnNorbd++fbqWiMyKgUaN7ueff8aNN96oThc+/fTTqh9MRjSejwsuuAArVqxQpyul/02G9q9fv17XEpEZMdCoUaWnp6tV9A8fPqwCR7aIqUslA0p++eUX3H///Zg3b56uISKzYaBRo5kxY4Yabn/XXXepU4RyarA+lB/yLwE3fPhwHDt2TNcSkVkw0KhR3HvvvWpjzrCwMGzZsgWtW7fWNfXjuuuuU5Oyx44di8TERPTu3Rs7duzQtURkBgw0alB79+5V88Y2btyIRYsWqfUYG9ILL7yAJUuW4MMPP1T9atLPRkTmwECjBvPqq6/Cw8MDl19+ObZu3YrHHntM1zQsGc4vc9wkWIcOHYrIyEhdQ0SOjIFGDWLUqFEYNmyY2pRT+stkFZDG5OPjo55HYGCgGlkpl//5z390LRE5IgYa1avff/8d3t7eeOmll1RL6K233kLz5s11beO67LLL1Cr9MjglNTVV9att2rRJ1xKRo2GgUb354IMPcOmll+Kzzz7DqlWr7HY1/JkzZ2LNmjVqixpZMmvhwoW6hogcCQON6oXM95Lh+LLaR25uLgYNGqRr7NMDDzyghvbffvvtaiSkjL4kIsfCQKM6J/1RMt/r4YcfViHRvn17XWPfbrrpJmRnZ6t5ai+++CJ69eqF3bt361oisncMNKozBw8ehLu7u+qPkhaajGp0RC+//DKef/55NW/tnnvuURuMEpH9Y6BRnZDBFTJ5+X//+x82bNjg8Kvcjxs3DhkZGWo3bNlgdPbs2bqGiOwVA43O28SJEzFgwAB1ii4nJ0cNrDADq9Wqfh6ZgD19+nS1NY2sCUlE9omBRuele/fuiI2NVS2a9957D9dee62uMQeZfC0LKEufYHJysloPUiaFE5H9YaBRrUjLReaTyZt7SZ+Tmck2NLJ79q5du1QLVJbPIiL7wkCjGpMRgJ06dULLli1LRwU6A9mAVFYXueGGGzBy5EiMHz9e1xCRPWCgUY3IUHyZoyVD86WV1qVLF13jHDp27IhPPvlE9afNnz9fbU3zzTff6FoiakwMNKqWI0eO4O9//7s67SYra8ioxmbNmula5yO7a8+ZM0eN6JR+tXXr1ukaImosDDQ6p3fffRdXXHEFvvzyy9K1DwmYMmWK2mVbRj7Kostz587VNUTUGBhodFZPPfWUGrYuS0LJqTY51UhlZJdtGSjSo0cPTJ48GY8++ihsNpuuJaKGxECjM/L391enF2XQx0cffaSWhqLTyVSFzZs3Izw8HMuWLUPXrl1VyBFRw2Kg0Wm++OILtGrVSs2/kuH4Miyfzk1W6ZdtcmTkp0zKfu2113QNETUEBhpVIIM+br75Zpw8eVJNlJYJ01R9Mpy/ZDfsRx55BFOnTtU1RFTfGGhUSobjy7B8WZBXTpnJUlZUc7IbtvQ39u/fX42EDAgIwOHDh3UtEdUXBhrhxIkTqt9HJkzLosL/+te/8Le//U3XUm00bdpU7Towbdo0rF27Ft26dVP9bERUfxhoTm7btm1o0aKFOk0m273Iti9Ud2bNmqW2n5HJ19LifeGFF3QNEdU1BpoTk0WFpeUgA0BkI0453Uh1T3YikFO4nTt3xuOPP45Ro0bpGiKqSww0JzVo0CC17Yvs9SVvtrI2I9Wfdu3aqakPMk9NRkLK6iL79+/XtURUFxhoTub777+Hp6cn3njjDURHR+P111/HJZdcomupviUmJqo1ILds2aJaxykpKbqGiM4XA82JyCAFmQQs/TlvvfUWIiMjdQ01JDntmJmZqXbDfuCBB9RqLER0/hhoTkI2qJRlq2RI+aeffqrWHqTGI6cc5fdw7733qtVYHnroIfzxxx+6lohqg4HmBGRDShm9WDLpt23btrqGGpMs+CwLP8tUCTn1e8cdd2DHjh26lohqioFmYrm5uXBzc1PzyuLj49VgBLI/8mFDlsmSwTndu3fH0qVLdQ0R1QQDzaQkvLy9vVU/jQxAkFVAyH4NHTpUrS4iu2GPGDECTzzxhK4houpioJmQvCHKXCfZ9kXeJO+66y5dQ/ZMNlD97LPPVH+aLAotv79Dhw7pWiI6Fwaaifz3v/9V/TByyko2n5TV8q+88kpdS44iOTkZMTExqn+tS5cu2Lhxo64horNhoJmEvOnJ+osff/wxkpKS1KK45Lhklf60tDS1G7aMhOSSZETnxkAzgdmzZ6s3Pel/kVOMQUFBuoYcmZ+fnxraLwNFZNqFbEdDRGfGQHNwsk7g9OnTVYjJm5/0w5B5XHPNNXj//fcxevRoNRJSTkHm5eXpWiIqj4HmoPbt24cbb7wRb775Jp555hl1mvGCC/jrNKuEhAQsXrxYrQcpk+Nl6TIiqojvgA5o5cqVKswKCwtVP8vkyZN1DZlZaGgotm/frnbDlsWluRs2UUUMNAczfvx4DBkyBHfeeSc+//xz1c9CzkNGscrvXZYuk4E///znP/G///1P1xI5Nwaag/jzzz9x9913q5XapT9l69atuO6663QtORNXV1e1uLTshv3222+rrX9kSTMiZ8dAcwAffvghLBYLMjIyVD+K9KcQyW7Y0ocquyd07doVixYt0jVEzomBZudkxQg5vXjppZeqYJN+FKISsoOCrC5y2223qZY7d8MmZ8ZAs2Oyu7Gs6de3b1/1puXr66triMrI/ENZpX/YsGFqDc8ePXrgu+++07VEzoOBZocKCgpUv8iyZcvUJpzr16/HX/7yF11LVLVXXnlFtehl3pq02GQELJEzYaDZmbVr16JVq1bIyclRc42io6N1DdG5jRs3Dps3b1ZzEqVl//TTT+saIvNjoNmRGTNmICAgALfccgt2796NgQMH6hqi6pNTjvL3c88996gW/oMPPqhriMyNgWYn+vfvr0atyRwzWY/R09NT1xDVXIsWLdTGrrIb9urVq3HrrbeqflgiM2OgNTIJrzZt2qh5RbKi+vLly3UN0fmTv6kVK1aodT47d+6sVpkhMisGWiNKTExEx44dceTIkdJP00R1bfDgwSrQZDSknAGYOHGiriEyFwZaI5HO++HDh6vdpEv6O4jqS4cOHdSSWbIGZGxsrNpuqKioSNcSmQMDrYH9+uuvqtN+wYIFGDNmDLZs2YKrr75a1xLVr1WrVqk1IGVDWOlXkyH+RGbBQGtAmzZtUusvypvI0qVLVagRNbQpU6YgPT1d7YYtH64WLlyoa4gcGwOtgchpHjmtKKPPPv74Y4SEhOgaoobXp08fdapbllUbO3asOv1N5OgYaA1g6NChqiNetvyQNxEZbUbU2ORUt+zaEBYWpgYoydY0+fn5upbI8TDQ6tFXX32l+ilk2PT06dPV0PymTZvqWjqzbMS4uMBlYDIKdcm5ZM82jncJRHLpEoaFSB5YuYyqEh8fjyVLlqgzBzLqVv5OiRwRA62eyGRWGSYtI8tki4+nnnpK1xDZnxEjRuCjjz7ClVdeqSb58++VHBEDrR5ERUWp5Ya8vLywd+9etcUH1S+faTbYbCkIulYXUI3dfvvt6u9VTo3PnDlT/d3KxrJEjoKBVodOnTqFfv36ISYmBo888ohaYLhdu3a6lsj+NWnSRJ1ylFPkqamp8PDwUH/HRI6AgVZHtm/fjtatW+Odd97Bc889p7Z+cUZF68Ph4uKCwFWVe7/ykRwgfVouCF9feUJvLuK8jDqvOONaRceK8pA6ezh82xXft43PcMSszcNxXV/i9D60sylC/oYEhN/vCTfpq3NpA9+BEUj+nBONS8gpx5SUFLUbdslWRkT2joFWBxYvXgwfHx/89ttvyMjIUJtyOqvmXr4IMC5Tt+YYsVGOEUxZa4uvpuzKK75SYn8O0ncBXkFWeOkiZV8ihnf2RNjqAng/FIvYiUFw/ToRUQGesM6vHH3VlY/0sX5o4xeOhDx3BE4zHneaH1rkxiG4gweCV3GUXwnZ+SEvL08Fmmw2+/jjj+saIjtlqyG5S2hoqL5Fo0ePVq+J1Wq1/fDDD7rUmR2wLe0N4zWJtGXpEmVrpFFmsVksRl3HWFuOLhYFyQGqLjpbFxj3jDZeU3ldvSam2Y7oUiU/yWYEpg2WSFvGMV1myJolxwfYkg7qAluBLWlA5bKS7wWbZchS255fdaH41fieXeR4H1tsri6jUkagqdetR48e/Dt3YvLeL38H9oottFo6dOiQmpT64osvqk+u0jL761//qmudmTu8+0g7Kx1ZRqurRO6OdOP/wYiYZAV2ZSGv9NRgEXK2phqXwfDpWFxSJgRRk/zQXN9SWvshZJRxWZiHwp+Ki6ovF0lz5Xv5IXp6CDyaFZcqzXwQuSjWaCFmI3Z15mmnNJ2dzFN74YUX1FJtsl+f/L0T2RsGWi1s2LBBDcn/8MMPVd/C/PnzdQ0JL59AWIzwSN9RcvquEHnZucAQXwT7WI26VOTk6cgoykL6IuNyoh98XYuLSlnc4X6Vvl6qOVq4yWURjtU0dfSpTfQPhvWG4qIKOvoaUWc822XZqHRSlAyyoogs23bhhRfi7rvvVn3FRPaEgVZDzz77LPz8/PC3v/0NO3fuVKMZqZKOPgixAJlbc4snRhflIGsNYO3mBcvNXpBJDEn/Lo6M4zsykWBchnXzRuU8Qzd3qOyqUmbNW2g/FRr3MhRlInleHOJO+0pDvrQSC3PKtSCpvO7du6uh/bKM24QJE/Dwww/rGqLGx0CrgaCgILWwa0lnube3t66hClx9YR1iXK7Iwh5pRe3NRYrRLrN6uRsNLA/49jcyY3MOpP2Wuz3J+H8AfL0qnFisX5sTETUpAhGnfcUgudxpUqra5Zdfrvbvk+XcZENaWV3kyy+/1LVEjYeBVg2y/qL0G8jWGyXDmS+++GJdS6dzhXe3MOMyCdlGQORmpxgttWD4tJc6d3gYLTVsykVeUS6yUo023IBAWBtiQvRVRqjK5bQs6dU+yxcnaFfH3Llz1Q7Ysut6+/btsWaN0QwnakQMtHNITk5W/1j37duHtWvXqgmndG7Fw/cLkZKdXtx/NsAbnvqcokd7iZUEZC7LVH1a1t4+RvutAdzgCat8o/VZp813o9oJDg5Wy7vJAgIDBw7EtGnTdA1Rw2OgnYWcXpR/sLfddhu++OIL/POf/9Q1dE7X+sCvt9E6Wx6FWOk/Kxdarp2tUO23ubHIhBf8OrsXV9Q7HwTN8gN2RSBsdnbFeXKGom0x8HVxg+fARA4KqQE5eyFnMR566CFER0fj/vvvx/HjHCdKDc+hA62wsFC1oOQ0UV06evSo2i9KBoDIvmU7duyAu3tDvemahR6+vyvXaA1ZYO1Q7vVr7gEvI+zk94eOwbCeNly//riPiEfKMHdkT/eFRwd/hE+XwSBRatUQj25RyLZ4Inh8MDz08VR98m/xmWeewfr163HTTTepxY6JGpJDB5rFYlGd0jfffDOSkpLUWorna9u2bbjxxhvx7rvvqnk3srM01U7x8H1ReY6ZEXY9i2ssAb4VVwepd+4IeCUHe1Kj4f/XfKTMLh4MkpLvBv9ZScjKzUBkl9PGW1I1TZ48Wf3bKSoqQpcuXdS2NEQNxmjd1IjcxZ5WCsnOzlbPSb7atGlje+2112wnT57UtTWTkJCgHqdly5a2LVu26FIiqqmCggJbt27d1L8nWU2HzIErhdQz+RR47733qusHDhxQ82Latm2rVjYwgk2VV8fIkSPVzr0yYVTm2dx11126hohqSs6efPDBBwgPD1er6RjhBiPkdC1R/TDFoJDKmxEePHgQw4cPV/1eixYtwokTJ3TN6b799tvSUyMyUXTTpk1o0aKFriWi87Fw4UJ12l5O5Uu/mpyOJKovpgi0O+64o7SVJkr60r7//nuMHj0a119/vfqH9fvvv6vyEuU7r6UvLjY2VtcQUV0pGVh11VVXlQ62IqoPLnLeUV+vFtmTKjQ0VG2ZUhuyuGl92LNnjzplWBV5zvJjyuLBMk9GWm+yDp3sLC0DQFavXo1bb71VH01E9UHOlMhcNdlAVFbbGTNmjK5xLLKoQteuXfUt5yJdM3I2q4ax0WAaPNDk/o3t//7v//Drr79iwIABKsyIqOFIF8HMmTP1LccjXRI///yzvuVcGGiVyP3lj7muB1388MMPaq3FP//8U5eUKWmhNWvWTG2+KX1l8fHxbKERNSAztNBmzJihVkY5fPiwLnEu9h5o8sRqRO5yPsP25f5GoOlbdUeekxFc6vFLvkpuX3bZZbapU6fajhypsFWkbd26dTZXV1d1zPLly3UpEdW1HTt22Nzd3dW/tTlz5uhSxxMYGGgzWmj6lvOR91n5HdorUwwKkVGNMpLK+Hl0SbGmTZuq5atkJGNMTAyaN6+4onu/fv3UklYyqGTo0KGIiIjQNURUV2QKTefOnfHjjz8iPT1d/Zskqg+mCDRZP678KiFGq0ttbfHNN9/A+DSIK664Qtec7rrrrsP27dvVadS4uDj07t0bRktO1xLR+ZDTijIIy9fXV83vlFGORPXF4QNNQuuVV15R15s0aYLx48erFplsbSHDhKtL+gQTEhLw3nvvqaW0ZGdeIqodWadTNgOVvupRo0ap3d2vueYaXUtUPxw+0J5++mlcdNFFKsjk1KO0smR4fm3InLWtW7eqLeZ79OiBBQsW6BqyK9tj1EAfl9nZukBkI0bKBiYX75Jdqgi5C2OQWmkH6uzZxrEugUjmztR1Tjb/lPmd8m9JFjaQlUKIGoJDB5p8CpQh+Pn5+SrIWrZsqWtq784771S7Ud93330YN26cOl1Cjit3jge8x+aAm5k0DJk0Lf925N+ltMoee+wxXUNU/xw60GS9OFndQy7rkmwxv2HDBrVyeEmHtoQm2TMfRNpssK0OqrBZ6PGTFdtrJXymcWfquibTZmTAh5+fnxpsJf1mRA3JFINC6ovs7STb0vz73/9Wp1Bk/gwRVSSbe8omn6tWrVKBlpaWhssuu0zXEjUcBto5yKfOki3m+/fvj1mzZukaMypC3toYDLd6wk36o1zawHdgBJI/r7y3c7HCzQkIH+iLNupYN3hahyNmbd5pO0GX9m9Jn1dRHpInBcK3ndzHBW18iu9T9SlB4/msioB/Bzd1rFuHYMRtq/q5nNaH9l0yAo3bvtPlRiqCW8n3K+szO3MfWlWvQTgSNlfR0tPfI3CVUVeYibhHe8HTTe5jvBb3G/c543M1D/nA1759e9Uik0CTUcVEjYWBVg3y6fOTTz5RW8zLSgGBgYFnXcHfMeUjeagHPAOikPajOwKnxSJ2og+KtsYhuIMHgleVP+VahMypvnCzGm/auS3gJ8fODYbXj2mICvCEx9Bk49GqkJ+CiD6emLDBFb6h8vhBcP06Ud3HOj9XH1RCP5+gOOTAiglzYxHSrQgJ3Yzn8mKOPuYsmrnDz7hPmBol7oWgJ+U5+sG9maqt2tE8JJa+Bl4INu4fO80PLXKN4La6wdcI5CqDd0cs/L16IaHQAwHjYxE5yhvH1xv3MZ5r+HrzhtqkSZMwePBg9e/j008/xaBBg3QNUSMpnl9dfXIXe1wppKE888wz6mdo27atbefOnbrU8R14xU/9XD5PZtgqrKeSn2QLssAGS5gtTVcUrA6yWYxjLUOSbAdOFJcVO2LLeNKn+HGey9FlIssWbZSp8llZpz1+gNRZoo2jyhQkB6jjvSamVf185D7GY5XR32NAkq1Al4isWXJsgC3poC7QTi8/Zst5Wj/3ys/x1z22pUMsRp3FFrauXM1B/dyN8qDlB3RhsWNbI21eVTwfMygqKrLdc8896rUyPuTpUufAlUK4UoipyEARWe3g0KFD6NSpE1599VVd48hykbog3bgMQ9RUKyqsp9I6CNGz/ODhkYe8vVKQi6Sn5bReAOKeDoL7ReoorTms06MRaaRd9vgkZJ7WnAlA+DCfSo9vReAA47IwB/mlp//ykbYs1bgMQdQkv9Ofz9N++kYdKspE4tRsoGM04oyWaYXv2cwDIcbP5Wf81AkLU05vfVrCET7EXd8o5nqnPwLlypr8qlurDko27ZR5mhs3blR9zMnJybqGqPEx0GpBVjuQ7WpkC4lhw4apBY8d2nd5yNplXA6xwruKU3LuI9KwJzMDE7oYNwrzkSPH9g+ET1UjBF2t8B8hV5KQ/bkqKWPxhsdp97HAvYO+WqIwF5mbjMv+VnhVMTfe3cso19frzP5cpMhlPyt8XFVJRTdYEdzfuNyUidzK3Wm9PVAxzoQ73CWoTUTmZcqi4n/88Yf6UCcf7ojsCQOtllq1aqV24ZXJ2M8//zx69eql1qpzSN/lQ9pDaOdWYch7lYxAy5PL9sYbtio4naWV1fh/IY4cqdRE6+YON331rE4eL+6rusFS9fFXuZ3xe9dWUUGBGkwS0O5Mr4Dx2twgl8bPdVQVlKnO6+bgZJNOmZcpH+I+++wzLmFFdomBdp5kuayXXnoJmZmZ8PDwUJdUzLVpVU0dR9ccTSucZjW3AwcO4LbbblPLy8kSVvIh7uqrr9a1RPaFgVYHZI+g7OxsXHrppaqlNn/+fF3jICzuCJDLfcWtlLMyjvWQy8/P1Dd0HPn7JNQtqHWeXeQKddf9hShQBZWc1Jd1qLlbcSsrdd+ZXoEC5MupVuOZuZoxp6uQmpqqPqTt3LmTS1iRQ2Cg1ZEuXbpg165d6Nu3r1pXUvrWHEZrD/h2NC5XZCKn8uk0w/FNEXDr0AvDZei+EWjecuzaFGRXtQ7i8SxkrpArgfBSp+hqweIFq5zRWpuEzP3FReUV5WYWnyKtSzd4FQ/iWJ+J7KrG5u83vqf063X0hrvZzy8aSqanyILCWVlZXMKKHAIDrQ7JNjXr169HZGSkGv3o7e2Nffv26Vp75oWA0TJyMAHR87MrTow+mouE+XEo/NwVPp2l58oLwVNlealUTJiajPwKraUiZM6KQozRyPF5OgTWitvP1YA7AkeFGd8jHVGzKn2Pr5MRNjpR36iufBT8pK+eSXMrQp72AXZFYcK8yq9BHhKNnyvdeEZBU4PrfkCKHZEBH//85z/VAgKyhJX0l/n4GK8LkQNgoNUD2Z/tjTfeQG5urhrinJKixs/ZNfcR8UgaYkH2dF94dAhGxLw4xE0Ph7+XNyI2GG/kyfEI0S0uy4AEJD3pg8IVwWjj4Y/w6cax8yLUBOxec7JhGbIUiWO8ik8b1lLzfrFInVXpe0wKhqdPMDJb+1Q7VNxvkJOpuYidHmE8x0RknzHYXOE1JhFLq3wNPDF8RSF8nkxCwgDzNs8+/vhj9ff69ttv48knn+QSVuRwGGj1ZODAgerTrSwL9MADD6hTOPbNHUHL87AnNRr+zbKN8IhAxOx0HPGagKU78pD0UPlxhc1hfToLBZnxCPM6gvTZxrGTkpD7V39Ep+5B3vIQeJxtRY5qMVqE0zJxID0WIVflIUG+x9p8+I5OQeay8GqPcrT0i0bSRD80XR9nPMfhSFNz6c5A5puVvAZ/zUVS6WsQhvjMAmQ9XWmOnom8/PLLauf2H374QS1hJdsyETkcPcG62uQuzrxSSE0dP37cNmTIEPVz/+Mf/7D99ttvuobIPoSFham/z44dO9p2796tS6kqXCmEK4U4tUsuuQTLly/HvHnz1KkcWfdux44dupao8fznP/9Bt27d1NQTWYRbTpF7enrqWiLHw0BrIBEREWq5oCNHjuD2229X+6wRNRbZ708+XMm8spJtkogcHQOtAfXu3Rs5OTlq+SDZCXvs2LG6hqjhSIDJCMamTZuWbmRLZAYMtAbm7u6OLVu2qDBbuHAhevTooU79EDUE2QJJRjB2795dbVx733336Roix8dAayQvvPACli5divfff1+d+pHTkUT1pWTE7euvv66WsJK/Oy5hRWbDQGtEsuDrhx9+iBYtWuDee+9FbGysriGqOytXrsTf//537N27V607yiWsyKwYaI3M19cX27dvV6szTJw4EUOHDtU1ROdP/qaGDBmiJkxv3bpVrTtKZFYMNDvQsmVLrF27FtOnT8eKFStw6623qv3WiGpLRtOWtPr79eunFhjmElZkdgw0O/LUU09hzZo12L17t+pXW716ta4hqj4ZdFTSLysDQNatW6d2giAyOwaanZFlsuTTtCxs/OCDDyIqKkrXEJ2bDDbq2bMnfv/9dzUAhEtYkTNhoNkhOeX4wQcfqC1oYmJi1CmjX375RdcSVe3RRx/F448/rtZklAnT8oGIyJkw0OyUrHIuuwTLZqHvvPMOOnTooPalIqps//796Ny5M5YtW4bBgwerQUayMSeRs2Gg2Tn5xJ2eno7ffvsNXbt2xZIlS3QNEdTWRPJhRyZJP/vss2pQEZGzYqA5gD59+qjWWa9evdSw67CwMF1DzkxGxUqfq5ubm1rCatKkSbqGyDkx0BxEu3bt8N577+GJJ55QE2NllfRvv/1W15IzOX78uJq3OHv2bLU+qEzO5xJWRAw0h/Pcc8+plfql01+WMpLTkeQ8PvroI/V7l62IRo8erYbmSwuNiBhoDklGs8lafBaLBf7+/qrvhMxP+k+7dOmCgoICtYSV7GNGRGUYaA5KVkuXCbTShzJlyhQEBwfj1KlTupbMRvpNpf9UpnRkZGRwCSuiKjDQHJisli4ri8yaNQvJyclqAdpPP/1U15IZfP/992r/POk3lQ8vMjhIWmlEdDoGmglMmzZNrQoh85HkE7yEGzk+6R+VDykyyX7q1KnqwwuXsCI6MwaaSciqEDLa7fbbb1enH2UNP3JcsmSV9I9ecskl6sOKrBhDRGfHQDORTp06qVFvw4cPL91m//Dhw7qWHEVQUBAiIyNVP6n0l3EJK6LqYaCZzOWXX46XX35ZDe+XybZyClJGRJL9k/5PWfVj1apVavNX+b1xCSui6mOgmZRMwF6/fj3+/PNP9OjRg0O87dzy5cvVh4+8vDw1DWPp0qW6hoiqi4FmYn379sXmzZvVRo/h4eF47LHHdA3ZE9lV+uGHH1a7SqelpXEJK6JaYqCZnLxJymr98qa5ePFi+Pr64quvvtK11Jh+/vlntWRVya7SmZmZ6sMHEdUOA80JXHTRRZg7d64KtOzsbDUUXJZOosYjLWf5PfzrX//C+PHj1a7SXMKK6Pww0JxIaGioGjV3/fXXq8VtORS8cTz//POwWq1qSyD5kBEXF6driOh8MNCcjLyRSqtAhoJHRUVh0KBBart+ahgyelEG7Mh8QZk4LR8yiKhuMNCcUKtWrdRk3ZkzZ+KNN95Ax44dsXPnTl1L9WHfvn2444471C7kMvFd1uHkElZEdYuB5sRmzJiBlStX4uDBg7jtttvw2muv6RqqS7JklXxo+Pjjj9WHCHnNmzZtqmuJqK4w0JyctBakX01GPz7yyCNqNCTVHdlVeuDAgWjZsqVqFcuHCCKqHww0UqfCZJSdbEkiQ8hl6PihQ4d0LdXGsWPHEBAQULqrtKzawiWsiOoXA42UK6+8Um0aOW/ePLUepJwik5Yb1ZxMjZBVP9auXVu6q7TMByQT+y4ZgS4ucKnGV+CqQn2nWtgeU/w4s7N1AZXHQKMKIiIi1BuxzF27++678cILL+gaqo6Syeuyj9n8+fO55JizsXjA2tt61i/3ZvpYqnMMNDqNzFGTU2SyWv/jjz+OESNG6Bo6mzFjxqjlxaR1lpqaql47cjLdopC0MQMZZ/mK7WfRB1NdY6BRldq3b4+UlBQ1Z0oWypV+ti+++ELXUnnfffcdevbsifj4eLWrtHwY4BJWRA2PgUZn5OrqqrahkdNmMuRcWh4SclRG1smU/kaZVyabqsoQfS5hRTVyshCZC8MRaPWEm+5nc+vQC8NnpyKvSB9zDkWfpyLm0V7wdNN9de18ETg6AelfH9dHVFKYjeTZw+Hbrtz3m5eJwpO63kEx0OicSgY23HjjjaoF8tRTT+ka5yabqMqiwk2aNFETpmWXaaIaOZqNmG5u6DU2BXkWP0TMjUXs3Anwb5aPxOmB8OwTg9wzZFKJ49tj4NchEFFbXWEdIfePxYRuQO6icPi7WxG3Sx+oHd8VB38vXwRPT0NR5wnq+OAOBUib1Atu3WKQfVQf6IhsNSR3CQ0N1bdqTu4/c+ZMfYscyYEDB2yDBg1Sv8PAwEDbr7/+qmucT3BwsHodunfvbtu+fbsuJbOTv/sWLVroW+UcTLIFGH8PGJBkK9BF1ZEz18v4O7LYgpIP6JISx2xZ06QOtgkbj+kyQ3a0KsOsLF1wwLa0t3HbMsGWUemf47GNE2zu7a02vxdzdInhWJYtuqNxPHxskRuP6MJiB5KDbBbjsS2j0mwVa8rIe798f3vFFhpVm7u7u9pNWdaAlFOP3t7eMN7Mda1z2LVrlzr1mpSUhEcffRTvvvuu6l8kUtYEl542rOorpsI/l1xkbW0BjxvCEf6Quy4r4Qp3j+Ky/J/Odt6xEIWbjAuLG1pUGj3p2jsWBz7LQNooL10CFG1IRJTRYrM8GY2o3s11aTH3hxKQMMx4xEUJSNmvCx0MA41qTCYLv/rqq/jhhx/g4+PjNLsrr1ixAp06dcLnn3+OOXPmIDExkUtYUUXnGLbf/CJ9nOKFsHUZ2LMvEj44jqKiQuRtz0T6qgREjQ5EwPRUfdzZeMBrjNGu2hUBP+twxK1KR+6Z+s2M75GTnaiuhfhZjcisrDm8ehrtTKQjM/c85so1Jt1Sqza5C085kti2bZutW7du6nc6btw4XWpOkyZNUj/nTTfdZHvzzTd1KTmbuj7laLMdsWXNDbJ5WOQ0YNmXRU4V9iw+5RiQXO4RTzvlaPg1yxbbx73C/XGDjy1k4lJb2r7yJw8LbEkDpN7DFjAx1hY7t4qvUX6nP3459n7KkYFG5+XQoUO2kJAQ9Xvt1auX7eDBg7rGHH788Udbnz591M/Xt29fW15enq4hZ1S3gXbEljbKov623AdMsC1NzbDl5B+xHdF9YQXJAarunIGmHcvPsiUtmGAL6VI+3Mr3z5UEWjW+HDTQeMqRzossuiunHOUUnCyVJf1q0q9kBpmZmernkXllMh9v/fr1XMKK6s7+FMQtKgR6xyNtdSxC+lvh1bo5mtdyJRHX1j4IGhOLpdkHYDtWgKxXwuCDQiSPT0SmOgvZHJbWchmApHzVmDnz1zQfOdDhMNCoTkyZMkXNwbrssstgtGjUIseOTJb8MlqcOHr0KF588UU1H4+oTv1UiEy57OYND1VQXhGyNlWjD21vIoLv8UWbSZmo0HPmaoHPsAkI729cL8xD4U+qEJ5e0keWiszcak5wczAMNKozMkdN1oGUQJNtaGQ7GkckS33JslWyq/Tq1asxatQoXUNUh66ywCqXqWmnzf3KXxGGsGX6xtnc7A3vH7ORPy8BSV/rshJfZyNlrXHZ0Rce1xYXWfqFYYIFSBwdhuTKx5/MR/JQNzUpO2rTOSa/2SkGGtUpWTVDQmDs2LFqw1DZOFRGBToCWdqrZNSm7BP39ttvqwWaierFDf4IGyIjFGPg6+WP8OlxiJsXgeAObkaLqxAhCyJV4KXuzy8+vkpeCFsUDR+j1TXcvQ38R0cZj2E8zqRgePoEG6U+iF4UZhylNbMiem208bjJCDaO9300Qh8/HL4ebRC8ohDu3SIQ0vv0MZAOwVZDchcOCqHqWLBgge2CCy6wXXTRRbZVq1bpUvu0Zs0aW7Nmzfj3SWdV56McTxTYMuaG2Hxu0IMxZHTirCRbljzIsQzbBCnrvdRWOu36DINCjnyWYoseZi0bLWk8TsCoeFtafrlJ2eUVZNjiRwWUfV+423wGhNni0w+ccVK14CjHSuT+fMNwHunp6Taj1aZ+75GRkbrUvsyYMUM9v9atW9uSkpJ0KdHpzhhoToKjHMmpSX+anIKU/rWYmBi1NU1RkX10SP/vf/9Tz0vWppRdpeV5BgUF6VoicjQMNKp37dq1U2EhIyGlX0pW29i2bZuubRyyq7Q8D1nCSxZfXrduHTp37qxricgRMdCoQcg6diXLRf33v/9Ft27d8NJLL+nahvXyyy+rXaUPHjxYuqu0bJVDRI6NgUYNShb0ld2cu3btqobDh4eH65qGMW7cOISGhuLvf/+7ajVyV2ki82CgUYPr3r27CpOHH35YtY569OiBr7+uPCmmbn377bewWq1YsGABAgMD1ff39/fXtURkBgw0ahRXX321WrFfVu5///33VX+W7P5cH9LT09V8uM2bN6t+vDfffBM33XSTriUis2CgUaOSvdVkj7XmzZur3Z+ln60uzZ07V7XELrzwQtV/V9ePT0T2g4FGjW7QoEHqFOA999yDqVOnqlU6Tpw4oWtr59SpUxgyZAgmT56sBqDI40v/HRGZFwON7IKccpTQkSH0ycnJ6hRhbm6urq2ZTz75RD3eypUrVYjJ40qoEZG5MdDIblx++eVqkIisbL93714VSrJLdE0kJSWpMPz0009LpwlYLBZdS0RmxkAjuyN7j8nAjVtuuQVDhw5Vpw2rQwZ8DB48GG3btlWtMrlNRM6DgUZ2SQaISCj179+/dGDHjz/+qGsr+umnn9C3b188++yz6lLuJ0Pzici5MNDIbnl4eKhwkr3Vyg+9L2/Lli2qPC0tTbXsZJNRmTRNRM6HgUZ27aKLLlIttMWLF6vFhGVy9MKFC1WdXPbs2RO//PJL6a7SXMKKyHkx0MghyHJV0lq744471OahI0eOVJfcVZqISjDQyGFI60zCS+arLVmyRO0uLbe5qzQRCQYaOZTrrrsO06ZNU9ellXb99der60REDDQiIjIFBhoREZkCA42IiEyBgUZERKbAQCMiIlNgoBERkSkw0IiIyBQYaEREZAoMNCIiMgUGGhERmQIDjYiITIGBRkREpsBAIyIiU2CgERGRKTDQHFI2Ylxc4FKDr8BVhfq+RHQ2R48exfjx4/H999/rknP77bff8Mwzz2DHjh26hBoDA80huaJ5byuslb48LMW17l1Or3NvVlxHRGfXrFkzXHrppXB3d1e7ohcWnvnD4O+//47nn38erVq1wrp169C5c2ddQ43CVkNyl9DQUH2r5uT+M2fO1Leo7hTYkgZAvb7R2brIpLZu3ap+zldffVWXENWtw4cP2y655BL1d9akSRNbRESEKgsMDLS1aNHC9scff9ji4+NtFotFHSNfmzZt0vc2L3nvl5/VXrGFRkRUyRVXXIHHH39cXTfCC7GxsaoVtnv3btUqa9u2LcLDw3Ho0CF1jK+vL+6++251nRoPA82ZfJeMQNWfloe8VRHo5eYCFzdP+E9NR6HxX/JA6W8LRPJ3+vhyClcFnrkvrjAbybOHw7ddcX+dW4deGD4vE4UndT2RAzJaZWjatKn6mxbHjh3D3r17VX9ZQUGBKjMaBeryqaeeUpfUuBhoTih/QQis49NhGRKL2CFeaO7hAd39VmPHd8XB38sXwdPTUNR5AmLnxiK4QwHSJvWCW7cYZB/VBxI5mKuuugphYWGloVVyKU6eLP60duGFF6Jr165sndkJBpoTyt1+HCFrcpA0dwImzE1C0hB3XVNDx7MRNywC6YU+iNyYhz3JsZgw0Qi15D3ISg6CZXsUAialo0gfTuRoJk+eDFdX19JWWmV//vknW2d2hIHmjDoGI/BOV32j9oo2JCJqF2B5MhpRvZvr0mLuDyUgYRhQuCgBKft1IZGDkVbaY489VqF1VuKCCy7AHXfcgV69eukSamwMNGfk44FatsnKOY6c7ER1LcTPitPjsTm8egYYl+nIzOUcOHJckZGRuPjii09rpZ06dQpPP/20vkX2gIHmjNxaGHFzvopQ+LVceiBvXRzi5p3+lZp9XB2ZvDdfXRI5oqpaaSWtM6vVqkvIHjDQ6DzlIXVeBCImVfG1KF0fQ+TYnnzyyQqtNGmdzZkzR10n+8FAo1pqDktruQxAUr5NfXo949c0H3UPIkfl5uaG0NBQ9fcsoXbnnXeiZ8+eupbsBQONNAvcO8hlPgp+UgXlHMee3FR9vYQrPL2kjywVmbkcx0jmV9JKk1CLjo7WpWRPGGhUynKtn/H/XKSszzYirEzRtjhEzdM3yrH0C8MEC5A4OgzJqj+tnJP5SB7qBpd2vojaVP7RiBxHyXwzcc0116hWmrTM7rrrLl1aUfnjqeEx0KiUuxFQYUZAZU/3hadfuBFicYgI8oRHt3i4z4qEtMcqaGZF9NpoWJGMYPc28H00onhAyKTh8PVog+AVhXDvFoGQ3uc/RYCoochSVyVkxf2kpCRMmjQJ/fv3x4cffogvvvgC1157La6//nq0b99eDdsPCQnBc889h6ysLNW/JkouqeEw0KjMVX6I/ywL8aP84JqbgJhJsUg/akXU1jwkDfPUB1Xk2iUSGbkZxn28gK1GAMpgkHmZgFcY4tMPIOeVgDqYIkBU/06cOKEujxw5olbQl6CSNRolzCTUPv74Y/zwww/qGDntKK0xOVaWw3r33XcRFxeHhx56CDfccINaYWTLli3qWGo4LsYv5vQZg2chHaLS7F68eLEuqRm5/8yZMzFjxgxdQlQz27ZtQ7du3fDqq6/i4Ycf1qVEtSMtsiZNmuDgwYNYsGABkpOTdc35u+WWW9T75QMPPFA6oMSRjRw5EkuWLFE/iz1iC42InJqE2dy5c9GlS5c6DTMhq/OPGzcOAQEB+PTTT1VZSUuQ6h4DjYicVl5eHvr06YMXXnhBl5xd8+bN1SnFDh06wNPTUw0UqY6PPvoIfn5+6vvISEnZgobqHgONiJxKyemytWvXqlXyS1pOVZGBHyNGjFCnt3ft2qVaXO+//77qM9u0aZPqV/v222/V7VmzZp1zbpq0BEeNGqVCjSMi6x4DjYichow8lH4sCSjZoPNMJJhee+01NWpR+vxvu+02fPbZZ2rsgASXrMIvazzKxp+pqalqGxkZ6bhy5Urs2LFDnWa87LLL9KNVtG7dOjz44IPq1CNDrW4x0IjIacgajBI6EkZVufHGG/HKK6+oY2Su2fLly9WADhmeP2TIEBVmEmpSL6E4f/58tbN179690alTJ0RFRamRkDIyUk4znmnQkgTl0KFD1fMpP02Azg8DjYicxgcffKBaV1WRwNq8eTPuvfdevPTSS/Dy8lKrg2RnZ+sjzq6wsBDLli2Dv78/hg8fruawyWr8iYmJuPLKK/VRZSTUpJUog1I4UKRuMNCIyPQkMH766SeMGTNGl1QkLatnnnlG9ZP17dsXs2fPVnPMamvDhg0qGGUQyH333Ye33npLDeGv7O233y4dKELnj4FGRKYngTF16lQVapXJaUQZqCGDRKR1lZubq2vOX8kgEHd3dzU5W0ZGVibHyMAUe53b5UgYaERketISSktL07fKSP+XDOZ4/fXXzzpI5HzIIJDBgwerfdWk/+2KK67QNWUkVB190rU9YKARkWn9+eef6lKWsqpMBnJMnDgR7733HiZMmKBL64csgyXLYbVp00a1yCqTfjoZLUnnh4FGRKYlw+nfeOMNfPnll7qkmJTLcHwZkVjfYVZCWokLFy5UE7llAEplsqQUnR8GGhGZmvRdVSbzxFq3bo2YmJgq+9Xqiww82bNnj2oZurpW3IVC5rnJpG2u0l97DDQiMiUZ2Sgr4e/cuVOXFJMJzzJQQ07zvfnmm7q04cgCyDKMX4b2V5aSkqLmplHt8JUjIlOSkY1VDQSRVTouvfRSNYG6Maxfvx6ff/45goODdUkZGe5PtcdAIyLTkonUld1///1q0nN6erouaXjSErvuuutw55136pJiv/32m2o5ckms2mGgEZEpSSj8+9//1reKtWzZEp07d1YLCzemkpZYjx491GV5shbkRRddpG9RTTDQiMh0ZLi+9J9V5u3trS6ru5xVfZHNRL/66ivcfvvtuqSMbGlDtcNAIyLTkUnK+fn5+laZm266SV3KiMLGJqMdPTw89K0yVT1vqh4GGhGZjowU/PHHH/WtMtdee60aFv/NN9/oksYj+6jJ4JTKCxfL3DiqHQYaEZnS0aNH9bUyl19+Of773//qW42rqKhIXf7lL39RlyWqet5UPQw0IjKlqhb7lZabvUxcLnkeleedcWJ17THQiMiUKq/EIWRYvJzmswclO1rLcyqvadOm+hrVFAONiExHWmdVrWp/6NAhFRhV1TU0Nzc3dVm5z8wenpujYqARkenIsP1rrrlG3yojQ+XFzTffrC4bU7t27dTzKdkRoESrVq30NaopBhoRmY6spl9VaH3yySfqUiZXN6YmTZqoOXFVbSZ644036mtUUww0IjIdmYcmp+5kRf3yZNKyLHvVs2dPXdI4ZC82GQyybds2XVKmY8eO3L26lhhoRGRaXbt21dfKyILF0kKralJzQ/nHP/6hLv/1r3+py/JkfUeOdKwdBhoRmZKEQq9evfStMiVbxjz88MPqsqHJaiX+/v54/fXX8csvv+jSYl26dFEtSzllSjXHQCMiU5JTevfeey+uuuoqXVJs9+7deOedd9Su0Y3RSgsPD1eXr776qrosT3YCoNpjoBGRqT300EP6WpmFCxeqyyeffFJdNpQ+ffogICAAK1asOG09SZkfN2jQIG4dcx4YaERkWr///nuVO0PLBpvPPfecOiU5duxYXVq/ZN5ZTEwMCgsLMWfOHF1aJiQkBJdccgm3jjkPDDQiMi0JCDnlOGbMGF1SJi4uDps3b8bkyZMxYMAAXVo/ZPfshIQE/O1vf1Pfr/J6krLGpDzHP/74Q5dQbTDQyG7JHJ3aDF+uvKkjOTcJiYiICLVDdGXSOpOh/M8//zwefPBBXVq3ZPHhlStX4o477kBUVBTee+89XVNGQk6WwpL5aVR7DDSyW/v371eTT6UDvzq2b9+Obt26ITMzU5cQFU9iltN4s2fP1iVlfv75ZzzyyCNqoIicgpTgq0udOnXCW2+9pYbiP/XUU1i2bJmuKSMDV2TEZeUVQ6jmGGhktx544AHVQd6vXz+1s29Vn2xFTk4O/Pz84OPjo3Yprur0EtHdd9+NcePG6VtlvvvuO3XKUeaEPfHEE2pYf12sJDJhwgSsW7cObdu2VX+TS5Ys0TVlrr76asTGxuLEiRMcql8HGGhkt2S1h8jISHV9x44danUF+aQrn6bFf/7zH/Tv3199Ct6wYYMqmzRpElcrpypJaMjfR2BgoC4pI31ajz76qBq0IR+MpFW1aNGiKidmn41s1jl69Gj19zp+/Hhs2bJF/d2mpqbqI8rItILFixereWfSx0bnz8VWw04KeZMJDQ1Vv4jakPvPnDkTM2bM0CVEZyaTY2+55RZ88cUXqj9NPsWWPzVTsr9VyVJHBw8eZKDRGcmoRxkoMmLECKSnp+vSiq6//nqEhYUhODhY3c7Pz8f777+PnTt34ssvv0RBQYHa8kVOY5Ysr9WhQwcVhD169FD3kQ9dL730UpVBViI5ORl33XWXvuUYRo4cqVqa9ro0FwON7N6qVasQFBSkbxWrHGxi3rx5dd4HQuYjg0SkX01OL65evVqXnk5OB8qcsfvuuw9eXl669MwOHz6MjIwMrF+//qz9uDKicenSpfD19dUljoOBVgkDjWpKWmCyArl8Uq5qjTtppTVv3lwtOlvVpo5ElR0/flz9rcjoRvkgdC7SEpNWmLu7O1q2bKnOAkj/rpyqlD446buVr3O57bbbsGDBAtUKdET2HmjsQyO7J4E1ffr0KsNMSPnUqVMZZlRt8rcifWqPP/64GgTi6empa6omoyHltKMsVzV37lw1YlH62+Lj41V/W3XCTJa8evvtt7nfWT1ioJFDGDx4sHojkHArT27Lp2fp8yCqiZKBGNL3tWnTJjUASVr6dU1OWcoIXVlmS053Vv4bprrDV5YcgrwJyKfiyq00uS1vRGyd0fmQ1pqMTpTJ/NIlcr6LFksf78CBA9VWNYmJiWp3asGJ0/WLgUYOQ1ZHL99KK2mdyRsR0fkoP2xeRkBKi0rmpclcMhm8IQsHn4vMN5PVRmSJKxkNOX/+fLRv317VcX3GhsFBIeRQ5NNu+cVm5U1D+kGI6pq02soHncx7/Pbbb1FUVKSG/8sHqmbNmsFisahBHuVDT95W5b3ObDgohKgOyRJBJZ3q0jp77LHH1HWiulZ5srMM45dRijJRWlavkU06u3fvrkbgVm7BmTHMHAEDjRyKnLqZNm2aui4jH9l3Rg1J/v6kf0xaZ/Il1+WL7ANPOdbCmjVr8M033+hb1NDkT1aWJZLTH3wzaVycyO5c7P2UozyxGpG7GIGmb9Wc3N8INH3LMa1evVr9HPzilzN/zZkzR/+LIGch7/3yu7dXbKHVgrTQZEjuxo0b1TpuRM5G+o1k1+UpU6boEnIGbKFVIvc3SwvNCDRdQuQ8vvrqK/X3zxaa87H3FhoHhRARkSkw0IiIyBQYaEREZAoMNCIiMgUGGhERmQIDjYiITIGBRkREpsBAIyIiU2CgERGRKTDQiIjIFBhoRERkCgw0IiIyBQYaERGZAgONiIhMgYFGRESmwEAjIiJTYKAREZEpMNCIiMgUGGhERGQKDDQiIjIFBhoREZkCA42IiEyBgUZERKbAQCMiIlNgoBERkSkw0IiIyBQYaEREZAoMNCIiMgUGGhERmQIDjYiITIGBRkREpsBAIyIiU2CgERGRKTDQiIjIFBhoRERkCgw0IiIyBQYaERGZAgONaq1wVSBcXFwQs10XnEX2bBfj2Bhk69vF9w1E8ne64Hxtj6n2c6kLlX8eImp8DDQiIjIFBho1CJ9pNthskfDRt4mI6hoDjYiITIGB5uSK1ofDxaUXEvfrAqUI6aOlj6hyeSGSBxrlj6YaR5RzrBCZ84bDt53cxw2e90cg+fMKR1Szz+k48tbGYLhPG+NY43g3T/hPSkZexYc6u5NFyC59Lm3g+2gMUvce15XlnDSe88Jw+HdwK/5e7XwxfHZqld+rcHNc6XNy6+CPiFV5OKLrimUjxs14jMqvizieiSijznteri4govrCQHNyzb18EYBMpO8o1CWG4znIXCRXMpGZW668KAdZa4CA3r5orotEfJAXhu9wR/iCDGSkRsAjLw7BHYIrheG5HDdCzwrPgChktgpBUnoG0p4LhuvaYHj2MYLwqD7sHNIm+iFgAxA8V57LBHjmRSHQw4q4XfoAcdQIoHu80GtsOlwHxiEtMwMpYz2R/2Kg8b3CkV5uoEr+qmB4WSNKn1PiVF/kT7ci5EV9gOIDv/FewLJ0ZP6ki7Tj2ZlILPRCcG+jnojql62G5C6hoaH6Vs3J/WfOnKlvOabVq1ern2Pjxo26xJEV2JIGwIZRabYjusS2I9pmgZ/Nr49RPjHDdkwXH9s4wfi5/WxL9xXfLkgOUK+DpdwxSm6szXj7tgUkF+gCmy1rlvFYiLZl6dvF9w2wJR3UBfo+XtOyKj5WfpItyGJ8jycrfY/KsqPVc0EX43v8qsvEr1m2yI5G+bCU0p/vwCt+xrFetsitlR7R+F4B8vOUfK9jGbZI+d5DkmwH1AGafk7lf56qfmbjAWwZE43jei+teH8H99VXX6nXes6cObqEnIW898vv3l65yP+MJ1htctrF+KGwePFiXVIzcn8j0PQtx7R7926sWbMGRqChd+/eutRx5b/cC21CvZBxLBZWV317QwiyBqTAd7w3sgpkMMdxZE5qil67luLAxhC4G/eTofduQamI3GpD9J3Fj1UsG1EuvoiZlQXbtOJhIHLK0Xd6NIx4UQNDiu8LJB1MQdC1QO4cN3hP9cTSfRkIuUHdpVT2bDfjvsGlz69KMmzfJwohqUewtH/59qPx2PO94T3eAykFSQiw5CPxnjYYjrKfo4z+GedNKP5e/46CS7eYKn4+4zlNN36e2WU/j/GqIdHPeNxmSShYHQSLFBWlI7yFP/JfOYC0YRW/kyM7cOAA2rZtCyPQMGXKFF1KzmDkyJFYsmSJJJousTMSaDUhdznfFppZvszRQjOo1oXFFp0tN4pbbF7P5ehyq26RZdmijVaJdUlZW6OkhVZ8v/KMY+U1mlXafjlHC63AljJE6kNs8ZkZtoxKXynTrMXH5qu7Vk230E5/LiXfy/j5dsit059beeWf12mtyHKK68q10AzFZWUt2COpIWe8vyNjC8152XsLrcH70Izv6fBfq1ev1j+NSXS0IrhjIVKyc3U/mQWBPl5GuS8CLbp/bVcWUgq94Ne5floax9W4jUSEW3uhV6WvwNmZRl0q8st159WcG1wv0lfP4thJfaUWLL2DEYJ0pG7NN24VIXN9IjAsGH5GC5SI6h8HhZDBC74BFuRuyEHe3lykIBg+HaXcA179jSjJ3YPszUnI7RgMqyqvaxZ4eMlJukgYLZ4qP0TIV2SX4qPPpuDH04cpFhRKwPjCo7XcshjBY1xs3QMpreg48j9LNS7dYbnKONLd2zg6FTl5p4+SzN+fpa+Vc5UVAaOA9FWZyP8uHUnLgLD+1goDaIio/jDQSPHpHQ7LpnQkLE9B4RBfeKq+qubw7hYArIhD9IZcWAJ8jeirHx5dQozwSET8qsoxk4/koW5w6xCFzGqMdExYkV4xqIqMYJlrtDyHWeGrksUd1of8gE0JSNxWKai+TkXCPCPIxljhLT9/Rx+EGDkb97LROiw+otjRTKS8WFVzsTmsAyKN1zEZycuykGqJREBvxhlRQ2GgUTHjzTvYaI0kLMqFtZtX8aAGg6WzH6yF6UjfZEF47/pb58O1ZxRSZ7kjOcgXvUITkLo5E5lrExExsBeCVwDWqSGwNtMHn4XPwXj0GhiD5A2ZRkspBoGd/RGHICRNDyhtKbkPiEJ0zwLEdPNE4OxkpBvfK3XhcPTyMV6BG0KQMN6v+FhXK6LWRsNnTTB8748qe0yvXkgqfYUqcvWxGiGYiajpCbBIiJ5pEAsR1TkGGhVz9YZ1lFyp1E92gyes8t5tCdGnIeuLK3ympWNPajjc9ycgTPrPAmKQBT/EZ+Yi6aHq9d35zzNaZJ33IPrRXvAPSsTx3vHI+iwJQep0o9bMB5Ebc5GxwA/HV0+Av/TTLdgD99Ep2LNjKQLKHevaJRLpxv0l7Cf4GY85PQ0tQrOQPtdXH1GJEYKBMifNeB0jBlqNn4qIGoythuQu5zPK0QzMNQ+N6lrOXC8bOsbacvRts+EoR+fFUY5EzuRoJpKey4Xf2IB6628koqox0IjqQOHmBMTNi8Lw+4MRhwmYMMA8E6mJHAUDjagOWP7vOBImxSDtRyviN0RXawALEdUtBhpRXbhtAg7YbCj4LAlhHTkUhKgxMNCIiMgUGGhERGQKDDQiIjIFBhoREZkCA42IiEyBgUZERKbAQCMiIlNgoBERkSkw0IiIyBQYaEREZAoMNCIiMgUGGhERmQIDjYiITIGBRkREpsBAIyIiU2CgERGRKTDQiIjIFBhoRERkCgw0IiIyBQYaERGZAgONiIhMgYFGRESmwEAjIiJTYKAREZEpMNCIiMgUGGhERGQKDDQiIjIFBhoREZkCA42IiEyBgUZERKbAQCMiIlNgoBERkSkw0IiIyBQYaEREZAoMNCIiMgUGGhERmYKLzaCvV4uLiwtCQ0OxePFiXeJ81qxZg4EDByI8PFyXEDmX+Ph4zJkzB1OmTNEl5AxGjhyJJUuWoIax0XAk0GpC7mIEmr7lnFavXq1eB37xy5m/jEDT/yLIWch7v/zu7RVbaLVw4sQJfY3IuV188cX6GjkDe2+hMdCIiKha7D3QOCiEiIhMgYFGRESmwEAjIiJTYKAREZEpMNCIiMgUGGhERGQKDDQiIjIFBhoREZkCA42IiEyBgUZERKbAQCMiIlNgoBERkSnUenFiIiJyPqZabf+CC9ioIyJyZqdOndLX7EuNA42IiMgesblFRESmwEAjIiJTYKAREZEpMNCIiMgUGGhERGQKDDQiIjIFBhoREZkCA42IiEyBgUZERKbAQCMiIlNgoBERkSkw0IiIyBQYaEREZAoMNCIiMgUGGhERmQIDjYiITIGBRkREpsBAIyIiEwD+H3PlARhlG7+mAAAAAElFTkSuQmCC)"
      ],
      "metadata": {
        "id": "C_EoXiafs-O5"
      }
    },
    {
      "cell_type": "code",
      "source": [
        "m = 5\n",
        "i = 0\n",
        "while i < m:\n",
        "     print(i, end = \" \")\n",
        "     i = i + 1\n",
        "print(\"End\")"
      ],
      "metadata": {
        "colab": {
          "base_uri": "https://localhost:8080/"
        },
        "id": "R1G1H1zStGAc",
        "outputId": "21dcbe63-d1cb-416d-bca5-4ee76161495c"
      },
      "execution_count": null,
      "outputs": [
        {
          "output_type": "stream",
          "name": "stdout",
          "text": [
            "0 1 2 3 4 End\n"
          ]
        }
      ]
    },
    {
      "cell_type": "markdown",
      "source": [
        "**Explanation**: The following code iterates from 0 to 4 and prints each value using a while loop. It prints End to signify the end of the program after the loop is completed."
      ],
      "metadata": {
        "id": "ynb6eEGDtJAg"
      }
    },
    {
      "cell_type": "code",
      "execution_count": null,
      "metadata": {
        "id": "svwCev1gOgDK"
      },
      "outputs": [],
      "source": [
        "num_items = 0\n",
        "\n",
        "# Set a condition to continue adding items to the store while the number of items is less than 10\n",
        "while num_items < 10:\n",
        "    print(f\"Adding item {num_items + 1} to the store\")\n",
        "    num_items += 1\n",
        "\n",
        "print(\"All items have been added to the store\")"
      ]
    },
    {
      "cell_type": "markdown",
      "source": [
        "**Explanation**: We initialize a variable to keep track of the number of items in the store. We set a condition to continue adding items to the store while the number of items is less than 10. For each iteration, we print \"Adding item to store\" and increment the number of items by 1. Once the number of items reaches 10, we print \"All items added to store\". Output: Adding item to store Adding item to store Adding item to store Adding item to store Adding item to store Adding item to store Adding item to store Adding item to store Adding item to store Adding item to store All items added to store\n",
        "\n"
      ],
      "metadata": {
        "id": "qumw4SSeM6Z8"
      }
    },
    {
      "cell_type": "markdown",
      "source": [
        "#### <font color=\"green\">Challenge</font>"
      ],
      "metadata": {
        "id": "fPpQe6LjOgDL"
      }
    },
    {
      "cell_type": "markdown",
      "source": [
        "Create a program that simulates a customer entering a store and purchasing items. The customer should continue buying items until they have spent a total of `$50`. Each item costs `$5`. Print out the total amount spent and the number of items purchased.\n"
      ],
      "metadata": {
        "id": "_GIbiXWQNygC"
      }
    },
    {
      "cell_type": "code",
      "source": [
        "# Write your code here\n"
      ],
      "metadata": {
        "id": "-JnO0V2qN1ub"
      },
      "execution_count": null,
      "outputs": []
    },
    {
      "cell_type": "markdown",
      "source": [
        "### Example 2: While Loop Break"
      ],
      "metadata": {
        "id": "jzF75kTOOgDL"
      }
    },
    {
      "cell_type": "markdown",
      "source": [
        "A while loop break statement is used to prematurely exit a while loop based on a certain condition. This can be useful when we want to stop the loop execution before it reaches the end of the loop.\n",
        "\n"
      ],
      "metadata": {
        "id": "HCIBH3plN9sc"
      }
    },
    {
      "cell_type": "code",
      "execution_count": null,
      "metadata": {
        "id": "DWbyxFedOgDM"
      },
      "outputs": [],
      "source": [
        "count = 0\n",
        "\n",
        "while count < 5:\n",
        "    print(\"Count:\", count)\n",
        "    if count == 2:\n",
        "        break\n",
        "    count += 1"
      ]
    },
    {
      "cell_type": "markdown",
      "source": [
        "**Explanation**: We initialize a variable count to 0. We enter a while loop that runs as long as count is less than 5. We print the current value of count. If count equals 3, we break out of the loop. We increment count by 1 each iteration. The output will be: Count: 0 Count: 1 Count: 2 Count: 3\n",
        "\n"
      ],
      "metadata": {
        "id": "MlNGEK4MOAdl"
      }
    },
    {
      "cell_type": "markdown",
      "source": [
        "#### <font color=\"green\">Challenge</font>"
      ],
      "metadata": {
        "id": "qYfR0SZKOgDM"
      }
    },
    {
      "cell_type": "markdown",
      "source": [
        "Create a program that uses a while loop with a break statement to print numbers from 1 to 10, but stops when it reaches 7.\n",
        "You can set up a variable to keep track of the numbers being printed and use an if statement with a break to stop the loop when the variable reaches 7."
      ],
      "metadata": {
        "id": "mudbpJPqOFuQ"
      }
    },
    {
      "cell_type": "code",
      "source": [
        "# Write your code here\n"
      ],
      "metadata": {
        "id": "VErdPYeNOH86"
      },
      "execution_count": null,
      "outputs": []
    },
    {
      "cell_type": "markdown",
      "source": [
        "### Example 3: While Loop Continue"
      ],
      "metadata": {
        "id": "jsuPAFHiOgDN"
      }
    },
    {
      "cell_type": "markdown",
      "source": [
        "The the continue statement allows us to skip the rest of the code inside a while loop and jump back to the beginning of the loop for the next iteration. This can be useful when we want to skip certain iterations based on a specific condition without exiting the loop entirely."
      ],
      "metadata": {
        "id": "COETqbw0ONS6"
      }
    },
    {
      "cell_type": "code",
      "execution_count": null,
      "metadata": {
        "id": "rzZGSkc8OgDN"
      },
      "outputs": [],
      "source": [
        "count = 0\n",
        "\n",
        "while count < 5:\n",
        "    count += 1\n",
        "    if count == 3:\n",
        "        continue\n",
        "    print(\"Count is:\", count)"
      ]
    },
    {
      "cell_type": "markdown",
      "source": [
        "**Explanation**: We initialize a variable num to 1. We then enter a while loop that continues as long as num is less than or equal to 10. Inside the loop, we check if num is not an even number by using the modulo operator. If it's not even, we increment num by 1 and continue to the next iteration. If num is even, we print it out and then increment num by 1. This process continues until we reach the number 10.\n",
        "\n"
      ],
      "metadata": {
        "id": "wKyJX5duOTk5"
      }
    },
    {
      "cell_type": "markdown",
      "source": [
        "#### <font color=\"green\">Challenge</font>"
      ],
      "metadata": {
        "id": "bugHYZCgOgDO"
      }
    },
    {
      "cell_type": "markdown",
      "source": [
        "Create a program that prints all even numbers from 1 to 10 using a while loop. Use the 'While Loop Continue' concept to skip printing odd numbers.\n",
        "Inside the while loop, use an if statement to check if the current number is odd. If it is odd, use the 'continue' keyword to skip printing that number."
      ],
      "metadata": {
        "id": "0eGjXfjhOYrR"
      }
    },
    {
      "cell_type": "code",
      "source": [
        "# Write your code here\n"
      ],
      "metadata": {
        "id": "c11hBd3yOZZT"
      },
      "execution_count": null,
      "outputs": []
    },
    {
      "cell_type": "markdown",
      "source": [
        "### Example 4: While Loops with Lists"
      ],
      "metadata": {
        "id": "CnQCgaUJS3HQ"
      }
    },
    {
      "cell_type": "markdown",
      "source": [
        "Using while loops with lists in Python allows us to iterate through each element in a list until a certain condition is met. This is useful when we want to perform a specific action on each item in a list or when we want to search for a particular element in a list.\n",
        "\n"
      ],
      "metadata": {
        "id": "dWO6VKdFOlyy"
      }
    },
    {
      "cell_type": "code",
      "execution_count": null,
      "metadata": {
        "id": "-LeaqSuQS3Hq"
      },
      "outputs": [],
      "source": [
        "# Using a while loop to iterate through a list and print each element\n",
        "my_list = [1, 2, 3, 4, 5]\n",
        "index = 0\n",
        "while index < len(my_list):\n",
        "    print(my_list[index])\n",
        "    index += 1"
      ]
    },
    {
      "cell_type": "markdown",
      "source": [
        "**Explanation**: We initialize a list called my_list with values [1, 2, 3, 4, 5]. We also initialize a variable index to 0. We then use a while loop to iterate through the list until the index is less than the length of the list. During each iteration, we print the element at the current index in the list and increment the index by 1. This allows us to print each element in the list one by one.\n",
        "\n"
      ],
      "metadata": {
        "id": "pcaFc1KlOoKd"
      }
    },
    {
      "cell_type": "markdown",
      "source": [
        "**do-while loop**"
      ],
      "metadata": {
        "id": "HF8yfbQatz6Y"
      }
    },
    {
      "cell_type": "markdown",
      "source": [
        "The do-while loop is less popular in other programming languages, but it ensures that a code block runs at least once and then repeats as long as a condition is true."
      ],
      "metadata": {
        "id": "7Bd4Lpsat9HH"
      }
    },
    {
      "cell_type": "code",
      "source": [],
      "metadata": {
        "id": "hDSz4815uArZ"
      },
      "execution_count": null,
      "outputs": []
    },
    {
      "cell_type": "markdown",
      "source": [
        "#### <font color=\"green\">Challenge</font>"
      ],
      "metadata": {
        "id": "F_qQre1QS3Hr"
      }
    },
    {
      "cell_type": "markdown",
      "source": [
        "Create a program that uses a while loop to iterate through a list of numbers and find the sum of all even numbers in the list. Print the final sum at the end.\n",
        "\n",
        "*Hint*: Use the modulo operator (%) to check if a number is even. If the remainder of dividing a number by 2 is 0, then it is even. You can use an if statement inside the while loop to check if the current number is even and add it to a running total."
      ],
      "metadata": {
        "id": "HO_2fxBuOuvU"
      }
    },
    {
      "cell_type": "code",
      "source": [
        "# Write your code here\n"
      ],
      "metadata": {
        "id": "VifWxNkSOx5u"
      },
      "execution_count": null,
      "outputs": []
    },
    {
      "cell_type": "markdown",
      "source": [
        "## 7. Functions"
      ],
      "metadata": {
        "id": "ab3s_vhBOhkp"
      }
    },
    {
      "cell_type": "markdown",
      "source": [
        "### Example 1: Function Basics"
      ],
      "metadata": {
        "id": "_qqOzzhoOhlF"
      }
    },
    {
      "cell_type": "markdown",
      "source": [
        "Functions in Python are blocks of code that perform a specific task. They allow us to break down our program into smaller, reusable pieces of code. Functions are defined using the 'def' keyword followed by the function name and parentheses containing any parameters. They are important because they help us organize our code, make it more readable, and reduce redundancy."
      ],
      "metadata": {
        "id": "FsFiFm5JO6sk"
      }
    },
    {
      "cell_type": "code",
      "execution_count": null,
      "metadata": {
        "id": "FjwgGPuvOhlG"
      },
      "outputs": [],
      "source": [
        "# Define a simple function named 'greet' that prints a greeting message\n",
        "def greet():\n",
        "    print(\"Hello, welcome to our Dara Analytics!\")\n",
        "\n"
      ]
    },
    {
      "cell_type": "code",
      "source": [
        "greet()"
      ],
      "metadata": {
        "colab": {
          "base_uri": "https://localhost:8080/"
        },
        "id": "BtHEsrgZXk0L",
        "outputId": "db9008f3-c164-486a-9c15-48e6dcc02c4e"
      },
      "execution_count": null,
      "outputs": [
        {
          "output_type": "stream",
          "name": "stdout",
          "text": [
            "Hello, welcome to our Dara Analytics!\n"
          ]
        }
      ]
    },
    {
      "cell_type": "code",
      "source": [
        "def addNum(a,b):\n",
        "  print(a+b)\n",
        "\n",
        "def addNum(a,b,c):\n",
        "  return(a+b+c)"
      ],
      "metadata": {
        "id": "C2rcMdEBX2c5"
      },
      "execution_count": null,
      "outputs": []
    },
    {
      "cell_type": "code",
      "source": [
        "addNum(2,150,7)"
      ],
      "metadata": {
        "colab": {
          "base_uri": "https://localhost:8080/"
        },
        "id": "9WrtVDAOYE7A",
        "outputId": "8328d9c5-aeeb-4579-c3e4-dc7a7ebbc1ef"
      },
      "execution_count": null,
      "outputs": [
        {
          "output_type": "execute_result",
          "data": {
            "text/plain": [
              "159"
            ]
          },
          "metadata": {},
          "execution_count": 35
        }
      ]
    },
    {
      "cell_type": "markdown",
      "source": [
        "**Explanation**: We define a simple function named 'greet' that prints a greeting message. We then call the 'greet' function to display the greeting message \"Hello, welcome to our store!\"."
      ],
      "metadata": {
        "id": "dcKIRXOfO9al"
      }
    },
    {
      "cell_type": "markdown",
      "source": [
        "#### <font color=\"green\">Challenge</font>"
      ],
      "metadata": {
        "id": "x9TF-pHqOhlG"
      }
    },
    {
      "cell_type": "markdown",
      "source": [
        "Create a function named 'display_store_hours' that prints out the store's operating hours. Use the 'def' keyword to define the function 'display_store_hours' and write a print statement inside the function that displays the store's operating hours. Call the function to see the output."
      ],
      "metadata": {
        "id": "ywuzhO7yPHik"
      }
    },
    {
      "cell_type": "code",
      "source": [
        "# Write your code here\n"
      ],
      "metadata": {
        "id": "FRJWGz80PL7e"
      },
      "execution_count": null,
      "outputs": []
    },
    {
      "cell_type": "markdown",
      "source": [
        "### Example 2: Function Parameters"
      ],
      "metadata": {
        "id": "IbFCKM6iOhlH"
      }
    },
    {
      "cell_type": "markdown",
      "source": [
        "Function parameters in Python allow us to pass data into a function to be used during its execution. Parameters are placeholders for the actual values that will be passed into the function when it is called. They allow us to make our functions more flexible and reusable by accepting different inputs.\n",
        "\n"
      ],
      "metadata": {
        "id": "MKW2KKGNPQHS"
      }
    },
    {
      "cell_type": "code",
      "execution_count": null,
      "metadata": {
        "id": "DwoImwsiOhlH"
      },
      "outputs": [],
      "source": [
        "def calculate_total_price(item_price, quantity):\n",
        "    total_price = item_price * quantity\n",
        "    return total_price\n",
        "\n",
        "# Example usage of the function\n",
        "item_price = 10\n",
        "quantity = 5\n",
        "total = calculate_total_price(item_price, quantity)\n",
        "print(\"Total price:\", total)"
      ]
    },
    {
      "cell_type": "markdown",
      "source": [
        "**Explanation**: We define a function called calculate_total_price that takes two parameters, item_price and quantity. Inside the function, we calculate the total price by multiplying the item price with the quantity and return the result. We assign the value 10 to the variable item_price and the value 5 to the variable quantity. We then call the calculate_total_price function with these values as arguments and store the returned total price in a variable called total. We print out the total price with a formatted string that includes the total variable.\n",
        "\n"
      ],
      "metadata": {
        "id": "HZYTlGqFPT1k"
      }
    },
    {
      "cell_type": "markdown",
      "source": [
        "#### <font color=\"green\">Challenge</font>"
      ],
      "metadata": {
        "id": "jbmcnAhjOhlH"
      }
    },
    {
      "cell_type": "markdown",
      "source": [
        "Create a function named 'calculate_discounted_price' that takes in two parameters: 'original_price' and 'discount_percentage'. The function should calculate the discounted price by applying the discount_percentage to the original_price and return the discounted price. To calculate the discounted price, you can use the formula:\n",
        "```\n",
        "discounted_price = original_price - (original_price * discount_percentage/100)\n",
        "```\n",
        "Make sure to return the calculated discounted price."
      ],
      "metadata": {
        "id": "iCNlfi70PZSn"
      }
    },
    {
      "cell_type": "code",
      "source": [
        "# Write your code here\n"
      ],
      "metadata": {
        "id": "oExqPNOKPiIb"
      },
      "execution_count": null,
      "outputs": []
    },
    {
      "cell_type": "markdown",
      "source": [
        "### Example 3: Return Statements"
      ],
      "metadata": {
        "id": "_rBd76bwOhlH"
      }
    },
    {
      "cell_type": "markdown",
      "source": [
        "Return statements in Python functions allow us to specify the value that the function should output. When we want a function to compute a value and give it back to the code that called the function, we use a return statement. For example, if we have a function that calculates the square of a number, we can use a return statement to pass the squared value back to the main program."
      ],
      "metadata": {
        "id": "5BLSGo3HPnYJ"
      }
    },
    {
      "cell_type": "code",
      "execution_count": null,
      "metadata": {
        "id": "vYlXZTnvOhlI"
      },
      "outputs": [],
      "source": [
        "def calculate_square(num):\n",
        "    square = num * num\n",
        "    return square\n",
        "\n",
        "result = calculate_square(5)\n",
        "print(result)"
      ]
    },
    {
      "cell_type": "markdown",
      "source": [
        "**Explanation**: We define a function called calculate_total_cost that takes a list of item prices as input. Inside the function, we calculate the total cost by summing up all the item prices in the list. We then return this total cost value. We create a list called item_prices with values [10, 20, 30, 40, 50]. We call the calculate_total_cost function with item_prices as the argument and store the returned total cost value in a variable called total_cost. We print out the total cost of items in the store by concatenating the string \"Total cost of items in the store: $\" with the total_cost variable."
      ],
      "metadata": {
        "id": "ysdVdj0NPwWb"
      }
    },
    {
      "cell_type": "markdown",
      "source": [
        "#### <font color=\"green\">Challenge</font>"
      ],
      "metadata": {
        "id": "91O7jKyyOhlI"
      }
    },
    {
      "cell_type": "markdown",
      "source": [
        "Create a function called 'calculate_discount' that takes in the original price of an item and a discount percentage. The function should calculate the discounted price and return it. Remember to use the formula:\n",
        "\n",
        "```\n",
        "discounted_price = original_price - (original_price * discount_percentage / 100)```"
      ],
      "metadata": {
        "id": "a7gTCQp2P0yW"
      }
    },
    {
      "cell_type": "markdown",
      "source": [
        "## 8. Working with Libraries"
      ],
      "metadata": {
        "id": "5uBRFZ_zPnpB"
      }
    },
    {
      "cell_type": "markdown",
      "source": [
        "### Example 1: Importing and Using Libraries"
      ],
      "metadata": {
        "id": "xtlejPiRPnpg"
      }
    },
    {
      "cell_type": "markdown",
      "source": [
        "Importing libraries in Python allows us to access pre-written code that provides additional functionality to our programs. This is important because it saves us time and effort by not having to write code from scratch for common tasks. We can import libraries by using the 'import' keyword followed by the name of the library. We can then use functions and classes from the library in our code.\n",
        "\n"
      ],
      "metadata": {
        "id": "6qrkIgqUQIGl"
      }
    },
    {
      "cell_type": "code",
      "execution_count": null,
      "metadata": {
        "id": "KfSrtir9Pnpg",
        "colab": {
          "base_uri": "https://localhost:8080/"
        },
        "outputId": "eb695239-a8ec-4763-8da6-74e24427234d"
      },
      "outputs": [
        {
          "output_type": "stream",
          "name": "stdout",
          "text": [
            "4.0\n"
          ]
        }
      ],
      "source": [
        "# Import the math library\n",
        "import math\n",
        "num=16\n",
        "# Calculate the square root of 16 using the sqrt function from the math library\n",
        "result = math.sqrt(num)\n",
        "\n",
        "# Print the result\n",
        "print(result)"
      ]
    },
    {
      "cell_type": "markdown",
      "source": [
        "**Explanation**: We import the math library to access mathematical functions. We calculate the square root of 16 using the sqrt function from the math library and store the result in a variable called result. We then print out the result, which is 4.0.\n",
        "\n"
      ],
      "metadata": {
        "id": "ZjaTLk0jQLmu"
      }
    },
    {
      "cell_type": "markdown",
      "source": [
        "#### <font color=\"green\">Challenge</font>"
      ],
      "metadata": {
        "id": "2UwvyalOPnpg"
      }
    },
    {
      "cell_type": "markdown",
      "source": [
        "Calculate the factorial of 5 using a library function.\n",
        "You can use the math library in Python to calculate the factorial of a number. The function `factorial()` should help you complete this task."
      ],
      "metadata": {
        "id": "ky4kCYUEQTaS"
      }
    },
    {
      "cell_type": "code",
      "source": [
        "for num in range(1, 10):\n",
        "    if num % 2 == 0 and num != 2:  # Skip even numbers except 2\n",
        "     continue\n",
        "\n",
        "    print(\"---------------\")\n",
        "    prime = True\n",
        "    for i in range(2, int(num ** 0.5) + 1):\n",
        "        if num % i == 0:\n",
        "            prime = False\n",
        "            break  # exit the loop if num is not prime\n",
        "    if prime and num != 1:\n",
        "        print(\"Prime Numbers Pure: \", num, end=\"\\n\")\n"
      ],
      "metadata": {
        "id": "Sxc1e2YaQKd8",
        "colab": {
          "base_uri": "https://localhost:8080/"
        },
        "outputId": "a3b6214f-a9ae-4945-8447-7de61ad39bc0"
      },
      "execution_count": null,
      "outputs": [
        {
          "output_type": "stream",
          "name": "stdout",
          "text": [
            "---------------\n",
            "---------------\n",
            "Prime Numbers Pure:  2\n",
            "---------------\n",
            "Prime Numbers Pure:  3\n",
            "---------------\n",
            "Prime Numbers Pure:  5\n",
            "---------------\n",
            "Prime Numbers Pure:  7\n",
            "---------------\n"
          ]
        }
      ]
    },
    {
      "cell_type": "code",
      "source": [
        "for num in range(1,10):\n",
        "  if num % 2 !=0:\n",
        "    print(\"---------------\")\n",
        "\n",
        "    prime = True\n",
        "    for i in range(2, int(num ** 0.5) + 1):\n",
        "      if num % i ==0:\n",
        "        prime = False\n",
        "        break # exists the loop if number is not a prime number\n",
        "    if prime and  num !=1:\n",
        "      print(\"Prime Numbers Pure: \",num, end= \"\\n\")\n"
      ],
      "metadata": {
        "id": "0oQxZSHXPycK",
        "colab": {
          "base_uri": "https://localhost:8080/"
        },
        "outputId": "2d4f066a-d5c9-4ee8-fcb4-9fb42a38355c"
      },
      "execution_count": null,
      "outputs": [
        {
          "output_type": "stream",
          "name": "stdout",
          "text": [
            "---------------\n",
            "---------------\n",
            "Prime Numbers Pure:  3\n",
            "---------------\n",
            "Prime Numbers Pure:  5\n",
            "---------------\n",
            "Prime Numbers Pure:  7\n",
            "---------------\n"
          ]
        }
      ]
    },
    {
      "cell_type": "code",
      "source": [
        "# @title Default title text\n",
        "import math#simple mathematics ques:sqrt,log,factorial\n",
        "#sqrt(4)\n",
        "math.sqrt(4)\n"
      ],
      "metadata": {
        "colab": {
          "base_uri": "https://localhost:8080/"
        },
        "id": "JBRR04XsSNwr",
        "outputId": "802f0315-044e-4aae-f78e-fb3593b6c3d9"
      },
      "execution_count": null,
      "outputs": [
        {
          "output_type": "execute_result",
          "data": {
            "text/plain": [
              "2.0"
            ]
          },
          "metadata": {},
          "execution_count": 107
        }
      ]
    },
    {
      "cell_type": "markdown",
      "source": [
        "# **Statistics:Mean,mode,median,variance,std deviation**"
      ],
      "metadata": {
        "id": "74y61dxNU6VH"
      }
    },
    {
      "cell_type": "code",
      "source": [
        "import statistics#mean,mode,median,std,pvariance\n",
        "import numpy as np\n",
        "import pandas as pd\n",
        "import math\n",
        "\n",
        "num=([5,6,9,8])\n",
        "\n",
        "#mean(num)\n",
        "print(statistics.mean(num))\n",
        "print(statistics.variance(num))\n",
        "print(sum((x - statistics.mean(num)) ** 2 for x in num) / (len(num)-1))#manual calculation\n",
        "print(statistics.stdev(num))\n",
        "print(math.sqrt(sum((x - statistics.mean(num)) ** 2 for x in num) / (len(num)-1)))#manual calculation\n",
        "\n",
        "print(statistics.pvariance(num))\n",
        "print(sum((x - statistics.mean(num)) ** 2 for x in num) / len(num))#manual calculation\n",
        "print(statistics.pstdev(num))\n",
        "print(math.sqrt(sum((x - statistics.mean(num)) ** 2 for x in num) / len(num)))#manual calculation\n",
        "\n",
        "#p stands for population,N\n",
        "\n",
        "print(statistics.harmonic_mean(num))#puts more weight on the smaller values,gravitates towards the small value\n",
        "#used mainly in ml to optimise small values\n",
        "\n"
      ],
      "metadata": {
        "colab": {
          "base_uri": "https://localhost:8080/"
        },
        "id": "YfqwkgrkSNRr",
        "outputId": "7077b3fe-50d0-4bfe-a1ce-3532d358d632"
      },
      "execution_count": null,
      "outputs": [
        {
          "output_type": "stream",
          "name": "stdout",
          "text": [
            "7\n",
            "3.3333333333333335\n",
            "3.3333333333333335\n",
            "1.8257418583505538\n",
            "1.8257418583505538\n",
            "2.5\n",
            "2.5\n",
            "1.5811388300841898\n",
            "1.5811388300841898\n",
            "6.635944700460829\n"
          ]
        }
      ]
    },
    {
      "cell_type": "code",
      "source": [
        "import matplotlib.pyplot as plt\n",
        "import numpy as np\n",
        "x=np.arange(5,9)\n",
        "y=x**2\n",
        "plt.plot(x,y)"
      ],
      "metadata": {
        "colab": {
          "base_uri": "https://localhost:8080/",
          "height": 447
        },
        "id": "KsZYh2unRyKs",
        "outputId": "cd8e1711-483f-450a-f936-231a95a97e30"
      },
      "execution_count": null,
      "outputs": [
        {
          "output_type": "execute_result",
          "data": {
            "text/plain": [
              "[<matplotlib.lines.Line2D at 0x7cb9d4306950>]"
            ]
          },
          "metadata": {},
          "execution_count": 1
        },
        {
          "output_type": "display_data",
          "data": {
            "text/plain": [
              "<Figure size 640x480 with 1 Axes>"
            ],
            "image/png": "[encoded data removed]"
          },
          "metadata": {}
        }
      ]
    },
    {
      "cell_type": "code",
      "source": [
        "import numpy as np\n",
        "x=np.arange(-9,11)#outputs a range from 5-10\n",
        "print(x)\n",
        "y=x/2\n",
        "plt.plot(x,y,'r')#draws the firt line in red\n",
        "plt.plot(x,y**2,'ks')#outputs the black squares\n"
      ],
      "metadata": {
        "colab": {
          "base_uri": "https://localhost:8080/",
          "height": 465
        },
        "id": "yV3aQmKVR_m7",
        "outputId": "7559950d-a25f-46f9-f9b1-e675ff2115a9"
      },
      "execution_count": null,
      "outputs": [
        {
          "output_type": "stream",
          "name": "stdout",
          "text": [
            "[-9 -8 -7 -6 -5 -4 -3 -2 -1  0  1  2  3  4  5  6  7  8  9 10]\n"
          ]
        },
        {
          "output_type": "execute_result",
          "data": {
            "text/plain": [
              "[<matplotlib.lines.Line2D at 0x7cb9a5c24430>]"
            ]
          },
          "metadata": {},
          "execution_count": 31
        },
        {
          "output_type": "display_data",
          "data": {
            "text/plain": [
              "<Figure size 640x480 with 1 Axes>"
            ],
            "image/png": "[encoded data removed]"
          },
          "metadata": {}
        }
      ]
    },
    {
      "cell_type": "code",
      "source": [
        "plt.plot([0,3],[-1,2],label=\"weight\")\n",
        "plt.plot([1,8],[2,4],label=\"age\")\n",
        "plt.legend()\n",
        "plt.show()"
      ],
      "metadata": {
        "colab": {
          "base_uri": "https://localhost:8080/",
          "height": 430
        },
        "id": "JoqIX8_dSIOD",
        "outputId": "5f944c43-0bcd-4e06-816b-6a1675306b53"
      },
      "execution_count": null,
      "outputs": [
        {
          "output_type": "display_data",
          "data": {
            "text/plain": [
              "<Figure size 640x480 with 1 Axes>"
            ],
            "image/png": "[encoded data removed]"
          },
          "metadata": {}
        }
      ]
    },
    {
      "cell_type": "markdown",
      "source": [
        "# Univariate,Bivariate,Multivariate"
      ],
      "metadata": {
        "id": "WcAekjljbIjk"
      }
    },
    {
      "cell_type": "code",
      "source": [
        "#Univariate-Using one variable at a time to understad data:pdf,cdf,boxplot(quartiles)\n",
        "#bivariate-Using two variables at a time to understad data:pairplot,scatterplot\n",
        "#multivarite-more than 2 variables:3D scatterplots\n",
        "\n",
        "#helps understand the data and also in deciding what machine learning algorithm to use:logistic regression,random forest ,KNN etc and also how different data features correlate in a data set\n",
        "\n",
        "\n",
        "import pandas as pd\n",
        "import numpy as np\n",
        "import matplotlib.pyplot as plt\n",
        "import seaborn as sns\n",
        "\n",
        "df=pd.read_csv('mailing.csv')\n",
        "print(df.head())#outputs th first 5 columns\n",
        "\n",
        "\n"
      ],
      "metadata": {
        "colab": {
          "base_uri": "https://localhost:8080/"
        },
        "id": "AbeZ_YDJbHrV",
        "outputId": "8798e266-5eff-4f7a-fcd0-4dba489f2ef5"
      },
      "execution_count": null,
      "outputs": [
        {
          "output_type": "stream",
          "name": "stdout",
          "text": [
            "   Income  Firstdate  Lastdate  Amount  rfaf2 rfaa2 pepstrfl  glast   gavr  \\\n",
            "0       3       9409      9509    0.06      1     G        0     50  30.00   \n",
            "1       2       9201      9602    0.16      4     G        X     20  20.55   \n",
            "2       0       9510      9603    0.20      4     E        0      5   8.75   \n",
            "3       6       9409      9603    0.13      2     G        0     25  22.50   \n",
            "4       0       9310      9511    0.10      1     G        0     25  12.50   \n",
            "\n",
            "   class  \n",
            "0      0  \n",
            "1      1  \n",
            "2      0  \n",
            "3      0  \n",
            "4      0  \n"
          ]
        }
      ]
    },
    {
      "cell_type": "code",
      "source": [
        "print(df.tail())\n"
      ],
      "metadata": {
        "colab": {
          "base_uri": "https://localhost:8080/"
        },
        "id": "g_72wIA2bO_s",
        "outputId": "939983b7-f3c0-42bd-9518-4fe2c3e97b7b"
      },
      "execution_count": null,
      "outputs": [
        {
          "output_type": "stream",
          "name": "stdout",
          "text": [
            "        Income  Firstdate  Lastdate  Amount  rfaf2 rfaa2 pepstrfl  glast  \\\n",
            "191774       7       8706      9507    0.16      1     F        X     20   \n",
            "191775       0       9602      9602    0.07      1     F        0     15   \n",
            "191776       4       8709      9601    0.14      2     E        X     10   \n",
            "191777       4       8704      9512    0.18      1     F        X     15   \n",
            "191778       2       9309      9512    0.08      1     F        0     20   \n",
            "\n",
            "         gavr  class  \n",
            "191774  11.00      0  \n",
            "191775  15.00      0  \n",
            "191776  10.11      0  \n",
            "191777  10.46      0  \n",
            "191778  12.50      0  \n"
          ]
        }
      ]
    },
    {
      "cell_type": "code",
      "source": [
        "print(df.describe())"
      ],
      "metadata": {
        "colab": {
          "base_uri": "https://localhost:8080/"
        },
        "id": "aEpPF3pMxxEy",
        "outputId": "4a0a01e0-963a-487a-d970-330213d37530"
      },
      "execution_count": null,
      "outputs": [
        {
          "output_type": "stream",
          "name": "stdout",
          "text": [
            "              Income      Firstdate       Lastdate         Amount  \\\n",
            "count  191779.000000  191779.000000  191779.000000  191779.000000   \n",
            "mean        3.024142    9136.559602    9548.173189       0.174714   \n",
            "std         2.300465     319.234876      49.376614       0.098978   \n",
            "min         0.000000       0.000000    9503.000000       0.020000   \n",
            "25%         1.000000    8811.000000    9509.000000       0.100000   \n",
            "50%         3.000000    9201.000000    9512.000000       0.150000   \n",
            "75%         5.000000    9409.000000    9602.000000       0.220000   \n",
            "max         7.000000    9603.000000    9702.000000       1.760000   \n",
            "\n",
            "               rfaf2          glast           gavr          class  \n",
            "count  191779.000000  191779.000000  191779.000000  191779.000000  \n",
            "mean        1.908113      17.391972      13.347193       0.050662  \n",
            "std         1.072415      28.380052      10.138503       0.219308  \n",
            "min         1.000000       0.000000       1.280000       0.000000  \n",
            "25%         1.000000      10.000000       8.400000       0.000000  \n",
            "50%         1.000000      15.000000      11.660000       0.000000  \n",
            "75%         3.000000      20.000000      15.500000       0.000000  \n",
            "max         4.000000   10000.000000    1000.000000       1.000000  \n"
          ]
        }
      ]
    },
    {
      "cell_type": "code",
      "source": [
        "print(df.shape)#number of rows,columns\n",
        "print(df.isnull())#outputs a booleamn value for each column\n",
        "print(df.isnull().sum())#sum of columns with null values"
      ],
      "metadata": {
        "colab": {
          "base_uri": "https://localhost:8080/"
        },
        "id": "6fyBcUIhx5Tg",
        "outputId": "6617f734-f6f6-46f1-8375-6fb3d443b917"
      },
      "execution_count": null,
      "outputs": [
        {
          "output_type": "stream",
          "name": "stdout",
          "text": [
            "(191779, 10)\n",
            "        Income  Firstdate  Lastdate  Amount  rfaf2  rfaa2  pepstrfl  glast  \\\n",
            "0        False      False     False   False  False  False     False  False   \n",
            "1        False      False     False   False  False  False     False  False   \n",
            "2        False      False     False   False  False  False     False  False   \n",
            "3        False      False     False   False  False  False     False  False   \n",
            "4        False      False     False   False  False  False     False  False   \n",
            "...        ...        ...       ...     ...    ...    ...       ...    ...   \n",
            "191774   False      False     False   False  False  False     False  False   \n",
            "191775   False      False     False   False  False  False     False  False   \n",
            "191776   False      False     False   False  False  False     False  False   \n",
            "191777   False      False     False   False  False  False     False  False   \n",
            "191778   False      False     False   False  False  False     False  False   \n",
            "\n",
            "         gavr  class  \n",
            "0       False  False  \n",
            "1       False  False  \n",
            "2       False  False  \n",
            "3       False  False  \n",
            "4       False  False  \n",
            "...       ...    ...  \n",
            "191774  False  False  \n",
            "191775  False  False  \n",
            "191776  False  False  \n",
            "191777  False  False  \n",
            "191778  False  False  \n",
            "\n",
            "[191779 rows x 10 columns]\n",
            "Income       0\n",
            "Firstdate    0\n",
            "Lastdate     0\n",
            "Amount       0\n",
            "rfaf2        0\n",
            "rfaa2        0\n",
            "pepstrfl     0\n",
            "glast        0\n",
            "gavr         0\n",
            "class        0\n",
            "dtype: int64\n"
          ]
        }
      ]
    },
    {
      "cell_type": "markdown",
      "source": [
        "# **Univariate**"
      ],
      "metadata": {
        "id": "DZ0UtUXazgTp"
      }
    },
    {
      "cell_type": "code",
      "source": [
        "#Using a single variable:Income\n",
        "#plotting the univariate(income)analysis\n",
        "plt.title('Income Distribution')\n",
        "plt.xlabel('Income')\n",
        "plt.plot(df['Income'],np.zeros_like(df['Income']),'o')#outputs the \"o \"points\n",
        "plt.plot(df['Income'],np.zeros_like(df['Income']),'')\n",
        "plt.show()\n",
        "sns.boxplot(data=df,y='Income')\n",
        "plt.show()\n",
        "plt.title('Income Distribution 2')\n",
        "sns.histplot(data=df,x='Income')\n",
        "\n",
        "plt.show()\n",
        "\n",
        "\n",
        "\n"
      ],
      "metadata": {
        "id": "cQ5rvFSuzecx",
        "colab": {
          "base_uri": "https://localhost:8080/",
          "height": 1000
        },
        "outputId": "f2f64eb7-62fa-440b-a8a5-9b5368849b2d"
      },
      "execution_count": null,
      "outputs": [
        {
          "output_type": "display_data",
          "data": {
            "text/plain": [
              "<Figure size 640x480 with 1 Axes>"
            ],
            "image/png": "[encoded data removed]"
          },
          "metadata": {}
        },
        {
          "output_type": "display_data",
          "data": {
            "text/plain": [
              "<Figure size 640x480 with 1 Axes>"
            ],
            "image/png": "[encoded data removed]"
          },
          "metadata": {}
        },
        {
          "output_type": "display_data",
          "data": {
            "text/plain": [
              "<Figure size 640x480 with 1 Axes>"
            ],
            "image/png": "[encoded data removed]"
          },
          "metadata": {}
        }
      ]
    },
    {
      "cell_type": "markdown",
      "source": [
        "# **Bivariate**"
      ],
      "metadata": {
        "id": "AqPBP1kI_pR7"
      }
    },
    {
      "cell_type": "code",
      "source": [
        "#Using a single variable:Income\n",
        "#plotting the univariate(income)analysis\n",
        "plt.title('Income vs glast')\n",
        "plt.xlabel('Income')\n",
        "plt.ylabel('glast')\n",
        "#plt.plot(data=df, x='Income',y='glast',hue='class')#hue,grouping in the data, either 0 or 1\n",
        "sns.scatterplot(data=df, x='Income',y='glast',hue='class')#hue,grouping in the data, either 0 or 1\n",
        "plt.show()\n",
        "plt.xlabel('Income')\n",
        "plt.ylabel('Amount')\n",
        "sns.lineplot(data=df, x='Income',y='Amount',hue='class')#hue,grouping in the data, either 0 or 1\n",
        "plt.show()\n",
        "\n",
        "\n",
        "\n",
        "\n"
      ],
      "metadata": {
        "colab": {
          "base_uri": "https://localhost:8080/",
          "height": 904
        },
        "outputId": "c2563dd9-2d08-40bd-cbac-851fd5571b55",
        "id": "rD236SwjAvoI"
      },
      "execution_count": null,
      "outputs": [
        {
          "output_type": "display_data",
          "data": {
            "text/plain": [
              "<Figure size 640x480 with 1 Axes>"
            ],
            "image/png": "[encoded data removed]"
          },
          "metadata": {}
        },
        {
          "output_type": "display_data",
          "data": {
            "text/plain": [
              "<Figure size 640x480 with 1 Axes>"
            ],
            "image/png": "[encoded data removed]"
          },
          "metadata": {}
        }
      ]
    },
    {
      "cell_type": "markdown",
      "source": [
        "# Multivariate"
      ],
      "metadata": {
        "id": "4I5fVxTwC91M"
      }
    },
    {
      "cell_type": "code",
      "source": [],
      "metadata": {
        "id": "QLkg0F80C9ht"
      },
      "execution_count": null,
      "outputs": []
    }
  ]
}